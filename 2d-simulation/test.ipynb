{
 "cells": [
  {
   "cell_type": "code",
   "execution_count": 5,
   "metadata": {},
   "outputs": [],
   "source": [
    "import tensorflow as tf\n",
    "import numpy as np\n",
    "a = tf.cast([1, 2], dtype = tf.float32)\n",
    "a = tf.reshape(a, (-1, 1))"
   ]
  },
  {
   "cell_type": "code",
   "execution_count": 6,
   "metadata": {},
   "outputs": [],
   "source": [
    "x = tf.cast(np.random.normal(size=(10, 2)), dtype=tf.float32)\n"
   ]
  },
  {
   "cell_type": "code",
   "execution_count": 13,
   "metadata": {},
   "outputs": [],
   "source": [
    "logits = x @ a\n",
    "probs = tf.exp(logits) / (1 + tf.exp(logits))"
   ]
  },
  {
   "cell_type": "code",
   "execution_count": 14,
   "metadata": {},
   "outputs": [
    {
     "output_type": "execute_result",
     "data": {
      "text/plain": "<tf.Tensor: shape=(10, 2), dtype=float32, numpy=\narray([[0.02894572, 0.97105426],\n       [0.7119273 , 0.2880727 ],\n       [0.11801468, 0.8819853 ],\n       [0.8809856 , 0.11901438],\n       [0.4200891 , 0.5799109 ],\n       [0.3149579 , 0.68504214],\n       [0.3377741 , 0.6622259 ],\n       [0.84252274, 0.15747726],\n       [0.21136895, 0.7886311 ],\n       [0.7473265 , 0.2526735 ]], dtype=float32)>"
     },
     "metadata": {},
     "execution_count": 14
    }
   ],
   "source": [
    "tf.concat([probs, 1-probs], axis= 1)"
   ]
  },
  {
   "cell_type": "code",
   "execution_count": 15,
   "metadata": {},
   "outputs": [
    {
     "output_type": "execute_result",
     "data": {
      "text/plain": "<tf.Tensor: shape=(10, 1), dtype=float32, numpy=\narray([[0.02894572],\n       [0.7119273 ],\n       [0.11801468],\n       [0.8809856 ],\n       [0.4200891 ],\n       [0.3149579 ],\n       [0.3377741 ],\n       [0.84252274],\n       [0.21136895],\n       [0.7473265 ]], dtype=float32)>"
     },
     "metadata": {},
     "execution_count": 15
    }
   ],
   "source": [
    "probs"
   ]
  },
  {
   "cell_type": "code",
   "execution_count": 16,
   "metadata": {},
   "outputs": [
    {
     "output_type": "execute_result",
     "data": {
      "text/plain": "<tf.Tensor: shape=(10, 1), dtype=float32, numpy=\narray([[-3.51296   ],\n       [ 0.90476286],\n       [-2.0113664 ],\n       [ 2.0017962 ],\n       [-0.32240772],\n       [-0.77704144],\n       [-0.6732295 ],\n       [ 1.6771199 ],\n       [-1.3166933 ],\n       [ 1.0844039 ]], dtype=float32)>"
     },
     "metadata": {},
     "execution_count": 16
    }
   ],
   "source": [
    "logits"
   ]
  },
  {
   "cell_type": "code",
   "execution_count": 17,
   "metadata": {},
   "outputs": [
    {
     "output_type": "execute_result",
     "data": {
      "text/plain": "<tf.Tensor: shape=(10, 2), dtype=float32, numpy=\narray([[ 0.2693168 , -1.8911383 ],\n       [ 0.9198729 , -0.00755502],\n       [-0.34966707, -0.8308497 ],\n       [ 0.3362664 ,  0.83276486],\n       [ 1.4953445 , -0.9088761 ],\n       [-0.30576265, -0.2356394 ],\n       [ 0.06781466, -0.37052208],\n       [ 1.2065172 ,  0.23530132],\n       [-0.7051262 , -0.30578354],\n       [ 1.0179478 ,  0.03322802]], dtype=float32)>"
     },
     "metadata": {},
     "execution_count": 17
    }
   ],
   "source": [
    "x "
   ]
  },
  {
   "cell_type": "code",
   "execution_count": 18,
   "metadata": {},
   "outputs": [
    {
     "output_type": "execute_result",
     "data": {
      "text/plain": "<tf.Tensor: shape=(10,), dtype=float32, numpy=\narray([1.9102187 , 0.919904  , 0.9014312 , 0.8980937 , 1.7498889 ,\n       0.38602683, 0.37667686, 1.2292479 , 0.76857436, 1.01849   ],\n      dtype=float32)>"
     },
     "metadata": {},
     "execution_count": 18
    }
   ],
   "source": [
    "tf.norm(x, axis = 1)"
   ]
  },
  {
   "cell_type": "code",
   "execution_count": 1,
   "metadata": {},
   "outputs": [],
   "source": [
    "import generate_data\n",
    "generate_data.get_data()\n"
   ]
  },
  {
   "cell_type": "code",
   "execution_count": 1,
   "metadata": {},
   "outputs": [],
   "source": [
    "import loss_ratio\n",
    "import numpy as np\n",
    "import tensorflow as tf\n",
    "#loss_ratio.mean_ratio([1, 1], [1, 1], num_steps=10)"
   ]
  },
  {
   "cell_type": "code",
   "execution_count": 30,
   "metadata": {},
   "outputs": [],
   "source": [
    "theta = [2, 1]\n",
    "fair_direction = [0, 1]\n",
    "x, y = np.load('data/x.npy'), np.load('data/y.npy')\n",
    "x, y = tf.cast(x, dtype = tf.float32), y.astype('int32')\n"
   ]
  },
  {
   "cell_type": "code",
   "execution_count": 31,
   "metadata": {},
   "outputs": [
    {
     "output_type": "execute_result",
     "data": {
      "text/plain": "array([0, 0, 0, 0, 0, 0, 1, 0, 0, 1, 0, 1, 0, 0, 1, 0, 1, 1, 1, 0, 0, 1,\n       0, 1, 1, 0, 1, 1, 1, 1, 1, 0, 0, 0, 0, 1, 1, 0, 1, 1, 1, 1, 0, 0,\n       1, 0, 0, 1, 1, 1, 1, 0, 1, 1, 1, 1, 0, 0, 0, 0, 0, 0, 1, 0, 1, 0,\n       1, 0, 0, 0, 1, 0, 0, 1, 1, 0, 1, 0, 1, 0, 0, 0, 1, 1, 0, 1, 1, 0,\n       0, 0, 1, 1, 0, 0, 0, 0, 0, 0, 1, 0, 1, 1, 1, 1, 1, 0, 1, 1, 0, 0,\n       0, 0, 1, 1, 1, 0, 1, 0, 1, 0, 1, 0, 1, 0, 1, 1, 1, 0, 0, 1, 0, 1,\n       1, 0, 0, 1, 0, 0, 1, 1, 1, 1, 1, 1, 1, 1, 1, 0, 1, 1, 0, 0, 1, 0,\n       0, 0, 0, 0, 0, 1, 0, 0, 0, 1, 1, 1, 1, 0, 1, 1, 1, 1, 1, 1, 0, 0,\n       1, 1, 1, 1, 1, 1, 1, 0, 1, 0, 0, 0, 0, 1, 0, 1, 0, 1, 1, 1, 1, 1,\n       1, 1], dtype=int32)"
     },
     "metadata": {},
     "execution_count": 31
    }
   ],
   "source": [
    "y"
   ]
  },
  {
   "cell_type": "code",
   "execution_count": 32,
   "metadata": {},
   "outputs": [],
   "source": [
    "y = tf.one_hot(y, 2)\n",
    "\n",
    "cl = loss_ratio.linear_classifier(theta)\n",
    "while np.linalg.norm(fair_direction) != 1:\n",
    "    fair_direction = fair_direction / np.linalg.norm(fair_direction)\n",
    "fair_metric = loss_ratio.fair_metric_fn(fair_direction)\n",
    "    "
   ]
  },
  {
   "cell_type": "code",
   "execution_count": 33,
   "metadata": {},
   "outputs": [],
   "source": [
    "ratios = []\n",
    "for u, v in zip(x, y):\n",
    "    r = loss_ratio.sample_perturbation(u, v, classifier  = cl, fair_metric = fair_metric, regularizer=1,\\\n",
    "             learning_rate=1e-1, num_steps=20)\n",
    "\n",
    "    ratios.append(r)"
   ]
  },
  {
   "cell_type": "code",
   "execution_count": 34,
   "metadata": {},
   "outputs": [
    {
     "output_type": "execute_result",
     "data": {
      "text/plain": "[5.388805,\n 6.5487447,\n 3.5338683,\n 5.4728065,\n 3.9226549,\n 4.15661,\n 1.3181529,\n 4.3235846,\n 3.3196394,\n 3.5003037,\n 2.5632374,\n 3.0338843,\n 4.295245,\n 3.332169,\n 1.6346368,\n 4.546305,\n 1.1574323,\n 1.2603699,\n 1.1783159,\n 7.028069,\n 3.30501,\n 1.7399428,\n 1.9709316,\n 9.382542,\n 2.2909553,\n 3.8592067,\n 1.1249493,\n 1.7234528,\n 2.9659655,\n 3.2529333,\n 1.5300139,\n 4.0862727,\n 4.1763897,\n 6.6450133,\n 5.711625,\n 1.0828496,\n 2.8027472,\n 3.2697089,\n 3.6662154,\n 2.8525994,\n 1.4068408,\n 2.205729,\n 3.9820764,\n 2.4275181,\n 3.279062,\n 5.3404183,\n 3.270184,\n 3.4142158,\n 1.4071885,\n 1.4357408,\n 1.8207332,\n 4.4621887,\n 1.1762613,\n 3.5488336,\n 1.4482366,\n 1.1398406,\n 4.14023,\n 3.5195277,\n 3.1848614,\n 5.4022293,\n 3.4463553,\n 7.7291164,\n 1.1360991,\n 6.403283,\n 1.2337675,\n 2.4302738,\n 1.1878355,\n 4.2089143,\n 3.7109354,\n 4.621941,\n 1.4558392,\n 5.257373,\n 4.340317,\n 2.1957653,\n 2.7139707,\n 2.8667812,\n 15.065415,\n 4.114224,\n 1.4823084,\n 2.6119747,\n 5.894078,\n 3.8384826,\n 3.4486473,\n 3.0598927,\n 5.2546606,\n 1.482176,\n 2.5631816,\n 3.6966,\n 5.1619706,\n 4.2517586,\n 1.1563691,\n 7.84376,\n 3.441733,\n 4.4411664,\n 3.9690723,\n 5.4373865,\n 8.447229,\n 3.6301904,\n 3.202352,\n 5.4155416,\n 3.7440503,\n 2.2587934,\n 1.048132,\n 1.0543324,\n 3.8746047,\n 3.1056955,\n 3.2020504,\n 1.2252527,\n 4.1292925,\n 5.681027,\n 6.58447,\n 5.9770145,\n 1.6418475,\n 1.270788,\n 1.2244145,\n 4.0658474,\n 13.967848,\n 3.2457685,\n 1.100656,\n 9.7384615,\n 1.2680022,\n 3.2500196,\n 1.314391,\n 4.120058,\n 3.0304208,\n 1.3405592,\n 1.0723094,\n 3.6292045,\n 8.025116,\n 3.6519413,\n 3.2925205,\n 3.3212254,\n 3.4361992,\n 4.1397915,\n 3.6802266,\n 2.832674,\n 5.1844687,\n 10.583931,\n 1.2185076,\n 3.4247105,\n 1.1782023,\n 3.3536289,\n 1.8222905,\n 3.6672165,\n 1.1635536,\n 1.4699396,\n 3.6315072,\n 3.571542,\n 3.9064918,\n 1.2651718,\n 5.4101257,\n 9.889655,\n 2.575969,\n 2.0880547,\n 4.0442863,\n 5.3130746,\n 4.9546704,\n 13.113686,\n 4.376201,\n 1.1488751,\n 3.367005,\n 1.7768624,\n 5.0184383,\n 1.5439835,\n 2.0990026,\n 5.6929216,\n 1.1683735,\n 5.0874796,\n 1.0212257,\n 1.0121078,\n 1.9082288,\n 1.4302573,\n 1.5468982,\n 1.4450076,\n 1.7725611,\n 5.6771245,\n 1.8789611,\n 1.1845852,\n 3.7032247,\n 1.2290049,\n 1.5609049,\n 1.0768358,\n 1.7733405,\n 3.168927,\n 3.2404141,\n 3.5867822,\n 4.397305,\n 7.282664,\n 6.2779884,\n 1.1142776,\n 4.6828737,\n 1.0771862,\n 4.2581134,\n 1.4772241,\n 1.1422143,\n 1.3071826,\n 1.4563792,\n 1.2776573,\n 1.1125014,\n 5.9488983]"
     },
     "metadata": {},
     "execution_count": 34
    }
   ],
   "source": [
    "ratios"
   ]
  },
  {
   "cell_type": "code",
   "execution_count": 15,
   "metadata": {},
   "outputs": [],
   "source": [
    "u, v = x[0], y[0]"
   ]
  },
  {
   "cell_type": "code",
   "execution_count": 16,
   "metadata": {},
   "outputs": [],
   "source": [
    "classifier = cl"
   ]
  },
  {
   "cell_type": "code",
   "execution_count": 21,
   "metadata": {},
   "outputs": [
    {
     "output_type": "stream",
     "name": "stdout",
     "text": "tf.Tensor([[0. 0.]], shape=(1, 2), dtype=float32)\ntf.Tensor([[0. 0.]], shape=(1, 2), dtype=float32)\ntf.Tensor([[0. 0.]], shape=(1, 2), dtype=float32)\ntf.Tensor([[0. 0.]], shape=(1, 2), dtype=float32)\ntf.Tensor([[0. 0.]], shape=(1, 2), dtype=float32)\ntf.Tensor([[0. 0.]], shape=(1, 2), dtype=float32)\ntf.Tensor([[0. 0.]], shape=(1, 2), dtype=float32)\ntf.Tensor([[0. 0.]], shape=(1, 2), dtype=float32)\ntf.Tensor([[0. 0.]], shape=(1, 2), dtype=float32)\ntf.Tensor([[0. 0.]], shape=(1, 2), dtype=float32)\ntf.Tensor([[0. 0.]], shape=(1, 2), dtype=float32)\ntf.Tensor([[0. 0.]], shape=(1, 2), dtype=float32)\ntf.Tensor([[0. 0.]], shape=(1, 2), dtype=float32)\ntf.Tensor([[0. 0.]], shape=(1, 2), dtype=float32)\ntf.Tensor([[0. 0.]], shape=(1, 2), dtype=float32)\ntf.Tensor([[0. 0.]], shape=(1, 2), dtype=float32)\ntf.Tensor([[0. 0.]], shape=(1, 2), dtype=float32)\ntf.Tensor([[0. 0.]], shape=(1, 2), dtype=float32)\ntf.Tensor([[0. 0.]], shape=(1, 2), dtype=float32)\ntf.Tensor([[0. 0.]], shape=(1, 2), dtype=float32)\n"
    }
   ],
   "source": [
    "import utils\n",
    "x = tf.reshape(u, (1, -1))\n",
    "y = tf.reshape(v, (1, -1))\n",
    "x_start = x\n",
    "x_fair = x\n",
    "num_steps, regularizer, learning_rate = 20, 5, 1e-3\n",
    "    #x += tf.cast(np.random.normal(size=(1, 39)), dtype = tf.float32)*1e-9\n",
    "for _ in range(num_steps):\n",
    "    with tf.GradientTape() as g:\n",
    "        g.watch(x_fair)\n",
    "        prob = classifier(x_fair)\n",
    "        loss = utils.EntropyLoss(y, prob)  - regularizer * tf.reduce_sum(fair_metric(x_fair - x_start)**2)\n",
    "        print(loss)\n",
    "\n",
    "    gradient = g.gradient(loss, x_fair)\n",
    "    x_fair = x_fair + learning_rate * gradient#utils.protected_direction(gradient, sensetive_directions)\n",
    "    print(gradient)\n",
    "\n",
    "ratio = utils.EntropyLoss(y, classifier(x_fair)) / utils.EntropyLoss(y, classifier(x_start))"
   ]
  },
  {
   "cell_type": "code",
   "execution_count": 20,
   "metadata": {},
   "outputs": [
    {
     "output_type": "execute_result",
     "data": {
      "text/plain": "<tf.Tensor: shape=(), dtype=float32, numpy=nan>"
     },
     "metadata": {},
     "execution_count": 20
    }
   ],
   "source": [
    "ratio"
   ]
  },
  {
   "cell_type": "code",
   "execution_count": 22,
   "metadata": {},
   "outputs": [
    {
     "output_type": "execute_result",
     "data": {
      "text/plain": "(<tf.Tensor: shape=(2,), dtype=float32, numpy=array([-0.6878273, -0.3058782], dtype=float32)>,\n <tf.Tensor: shape=(2,), dtype=float32, numpy=array([0., 0.], dtype=float32)>)"
     },
     "metadata": {},
     "execution_count": 22
    }
   ],
   "source": [
    "u, v"
   ]
  },
  {
   "cell_type": "code",
   "execution_count": 48,
   "metadata": {},
   "outputs": [],
   "source": [
    "import itertools\n",
    "theta1 = np.arange(0, 5, step = 0.2)\n",
    "theta2 = np.arange(0, 5, step= 0.2)\n",
    "a = itertools.product(theta1, theta2)"
   ]
  },
  {
   "cell_type": "code",
   "execution_count": 49,
   "metadata": {},
   "outputs": [],
   "source": [
    "b = [list(i) for i in a]"
   ]
  },
  {
   "cell_type": "code",
   "execution_count": 50,
   "metadata": {},
   "outputs": [
    {
     "output_type": "execute_result",
     "data": {
      "text/plain": "[0.0, 0.0]"
     },
     "metadata": {},
     "execution_count": 50
    }
   ],
   "source": [
    "b[0]"
   ]
  },
  {
   "cell_type": "code",
   "execution_count": 52,
   "metadata": {},
   "outputs": [],
   "source": [
    "f = lambda a, b, c : a+b+c\n",
    "from functools import partial\n",
    "g = partial(f, b= 2, c= 3)"
   ]
  },
  {
   "cell_type": "code",
   "execution_count": 54,
   "metadata": {},
   "outputs": [
    {
     "output_type": "execute_result",
     "data": {
      "text/plain": "8"
     },
     "metadata": {},
     "execution_count": 54
    }
   ],
   "source": [
    "g(3)"
   ]
  },
  {
   "cell_type": "code",
   "execution_count": null,
   "metadata": {},
   "outputs": [],
   "source": []
  }
 ],
 "metadata": {
  "language_info": {
   "codemirror_mode": {
    "name": "ipython",
    "version": 3
   },
   "file_extension": ".py",
   "mimetype": "text/x-python",
   "name": "python",
   "nbconvert_exporter": "python",
   "pygments_lexer": "ipython3",
   "version": "3.7.4-final"
  },
  "orig_nbformat": 2,
  "kernelspec": {
   "name": "python37464bit48aa32fa6dba4f1bbd692e320b15fd93",
   "display_name": "Python 3.7.4 64-bit"
  }
 },
 "nbformat": 4,
 "nbformat_minor": 2
}