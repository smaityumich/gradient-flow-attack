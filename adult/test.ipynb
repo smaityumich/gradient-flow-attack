{
 "cells": [
  {
   "cell_type": "code",
   "execution_count": 6,
   "metadata": {},
   "outputs": [],
   "source": [
    "import itertools\n",
    "import numpy as np\n",
    "starts = np.arange(0, 9001, 200)\n",
    "ends = np.arange(200, 9201, 200)\n",
    "ends[-1] = 9045\n",
    "expts = ['baseline_bal', 'reduction', 'adult']\n",
    "data_index = range(ends.shape[0])\n",
    "iteration = range(10)\n",
    "lrs = [1e-2, 1e-3, 4e-4, 1e-4]\n",
    "a = itertools.product(expts, data_index, iteration, lrs)"
   ]
  },
  {
   "cell_type": "code",
   "execution_count": 2,
   "metadata": {},
   "outputs": [],
   "source": [
    "b = [i for i in a]"
   ]
  },
  {
   "cell_type": "code",
   "execution_count": 3,
   "metadata": {},
   "outputs": [
    {
     "output_type": "execute_result",
     "data": {
      "text/plain": "5520"
     },
     "metadata": {},
     "execution_count": 3
    }
   ],
   "source": [
    "len(b)"
   ]
  },
  {
   "cell_type": "code",
   "execution_count": 10,
   "metadata": {},
   "outputs": [
    {
     "output_type": "execute_result",
     "data": {
      "text/plain": "1840.0"
     },
     "metadata": {},
     "execution_count": 10
    }
   ],
   "source": [
    "5520/3 \n"
   ]
  },
  {
   "cell_type": "code",
   "execution_count": 2,
   "metadata": {},
   "outputs": [
    {
     "output_type": "execute_result",
     "data": {
      "text/plain": "0.5"
     },
     "metadata": {},
     "execution_count": 2
    }
   ],
   "source": [
    "from scipy.stats import norm\n",
    "norm.cdf(0)"
   ]
  },
  {
   "cell_type": "code",
   "execution_count": 9,
   "metadata": {},
   "outputs": [
    {
     "output_type": "execute_result",
     "data": {
      "text/plain": "<enumerate at 0x11b73bb40>"
     },
     "metadata": {},
     "execution_count": 9
    }
   ],
   "source": [
    "enumerate(b)"
   ]
  },
  {
   "cell_type": "code",
   "execution_count": 2,
   "metadata": {},
   "outputs": [],
   "source": [
    "import itertools\n",
    "expts = ['reduction', 'baseline_bal', 'sensr'] \n",
    "iteration = range(10)\n",
    "lrs = [1e-2, 1e-3, 4e-4, 1e-4]\n",
    "\n",
    "a = itertools.product(expts, iteration, lrs)\n",
    "b = [i for i in a]"
   ]
  },
  {
   "cell_type": "code",
   "execution_count": 3,
   "metadata": {},
   "outputs": [
    {
     "output_type": "execute_result",
     "data": {
      "text/plain": "120"
     },
     "metadata": {},
     "execution_count": 3
    }
   ],
   "source": [
    "len(b)"
   ]
  },
  {
   "cell_type": "code",
   "execution_count": 1,
   "metadata": {},
   "outputs": [
    {
     "output_type": "execute_result",
     "data": {
      "text/plain": "\"{'algo': 'baseline_bal', 'seed': (98539, 77708), 'lr': 0.0004, 'accuracy': 0.8117191818684356, 'lb': 1.0585399219951463, 'pval': 1.0, 'bal_acc': 0.8283820254159571, 'gap_rms_gen': 0.14269193469019995, 'mean_gap_gen': 0.13562301671702554, 'max_gap_gen': 0.17997823695326942, 'average_odds_difference_gen': -0.13562301671702554, 'equal_opportunity_difference_gen': -0.09126779648078165, 'statistical_parity_difference_gen': -0.2884567528053568, 'gap_rms_race': 0.046926087936521796, 'mean_gap_race': 0.04322317786320107, 'max_gap_race': 0.06149377239190379, 'average_odds_difference_race': -0.04322317786320107, 'equal_opportunity_difference_race': -0.024952583334498346, 'statistical_parity_difference_race': -0.11265307925306034}\""
     },
     "metadata": {},
     "execution_count": 1
    }
   ],
   "source": [
    "import re\n",
    "import pandas as pd\n",
    "with open('summary_same_step.out', 'r') as f:\n",
    "    data = f.read()\n",
    "entries = re.split('\\n', data)[:-1]\n",
    "entries[1]"
   ]
  },
  {
   "cell_type": "code",
   "execution_count": 2,
   "metadata": {},
   "outputs": [],
   "source": [
    "entries_dict = [eval(e) for e in entries]"
   ]
  },
  {
   "cell_type": "code",
   "execution_count": 3,
   "metadata": {},
   "outputs": [],
   "source": [
    "data = pd.DataFrame(entries_dict)"
   ]
  },
  {
   "cell_type": "code",
   "execution_count": 102,
   "metadata": {},
   "outputs": [],
   "source": [
    "lr = 1e-2\n",
    "data_lr = data.loc[data['lr'] == lr]\n",
    "data_lr = data_lr.rename(columns= {'average_odds_difference_gen': 'AOD-gen', 'average_odds_difference_race': 'AOD-race', 'statistical_parity_difference_gen': 'SPD-gen', 'statistical_parity_difference_race': 'SPD-race', 'equal_opportunity_difference_race': 'EOD-race', 'equal_opportunity_difference_gen': 'EOD-gen'})"
   ]
  },
  {
   "cell_type": "code",
   "execution_count": 103,
   "metadata": {},
   "outputs": [],
   "source": [
    "measure = ['bal_acc', 'AOD-gen', 'AOD-race', 'lb', 'pval']\n",
    "agg_dict = dict()\n",
    "for key in measure:\n",
    "    agg_dict[key] = ['mean', 'std']\n",
    "result = data_lr.groupby(['algo'], as_index=False).agg(agg_dict)"
   ]
  },
  {
   "cell_type": "code",
   "execution_count": 34,
   "metadata": {},
   "outputs": [
    {
     "output_type": "execute_result",
     "data": {
      "text/plain": "0    0.817$\\pm$0.007\n1    0.825$\\pm$0.003\n2    0.800$\\pm$0.005\n3    0.765$\\pm$0.012\ndtype: object"
     },
     "metadata": {},
     "execution_count": 34
    }
   ],
   "source": []
  },
  {
   "cell_type": "code",
   "execution_count": 104,
   "metadata": {},
   "outputs": [
    {
     "output_type": "execute_result",
     "data": {
      "text/plain": "Empty DataFrame\nColumns: []\nIndex: [SenSR, Reduction, Baseline, Project]",
      "text/html": "<div>\n<style scoped>\n    .dataframe tbody tr th:only-of-type {\n        vertical-align: middle;\n    }\n\n    .dataframe tbody tr th {\n        vertical-align: top;\n    }\n\n    .dataframe thead th {\n        text-align: right;\n    }\n</style>\n<table border=\"1\" class=\"dataframe\">\n  <thead>\n    <tr style=\"text-align: right;\">\n      <th></th>\n    </tr>\n  </thead>\n  <tbody>\n    <tr>\n      <th>SenSR</th>\n    </tr>\n    <tr>\n      <th>Reduction</th>\n    </tr>\n    <tr>\n      <th>Baseline</th>\n    </tr>\n    <tr>\n      <th>Project</th>\n    </tr>\n  </tbody>\n</table>\n</div>"
     },
     "metadata": {},
     "execution_count": 104
    }
   ],
   "source": [
    "rows = ['sensr', 'reduction', 'baseline', 'baseline_bal']\n",
    "row_names = ['Baseline', 'Project', 'Reduction','SenSR']\n",
    "colnames=['Balanced Acc', '$\\\\text{AOD}_{\\\\text{gen}}$', '$\\\\text{AOD}_{\\\\text{race}}$', '$T_n$', 'Rejection Prop']\n",
    "table = pd.DataFrame(index=row_names)\n",
    "table"
   ]
  },
  {
   "cell_type": "code",
   "execution_count": 109,
   "metadata": {},
   "outputs": [
    {
     "output_type": "execute_result",
     "data": {
      "text/plain": "           algo   bal_acc             AOD-gen            AOD-race            \\\n                     mean       std      mean       std      mean       std   \n0      baseline  0.816889  0.006759 -0.151117  0.026236 -0.060650  0.015300   \n1  baseline_bal  0.825290  0.003224 -0.147170  0.014956 -0.052808  0.014611   \n2     reduction  0.799689  0.004515  0.001286  0.021245 -0.026839  0.013104   \n3         sensr  0.765446  0.011889 -0.073894  0.033192 -0.047882  0.008244   \n\n         lb                pval                      Balanced Acc  \\\n       mean       std      mean     std                             \n0  3.675913  2.163627  0.000000  0.0000           0.817$\\pm$0.007   \n1  1.660149  0.355157  0.097841  0.3094  \\textbf{0.825}$\\pm$0.003   \n2  5.712395  2.264394  0.000000  0.0000           0.800$\\pm$0.005   \n3  1.020763  0.008241  1.000000  0.0000           0.765$\\pm$0.012   \n\n  $\\text{AOD}_{\\text{gen}}$ $\\text{AOD}_{\\text{race}}$  \\\n                                                         \n0          -0.151$\\pm$0.026           -0.061$\\pm$0.015   \n1          -0.147$\\pm$0.015           -0.053$\\pm$0.015   \n2  \\textbf{0.001}$\\pm$0.021  \\textbf{-0.027}$\\pm$0.013   \n3          -0.074$\\pm$0.033           -0.048$\\pm$0.008   \n\n                      $T_n$  Rejection Prop  \n                                             \n0           3.676$\\pm$2.164           1.000  \n1           1.660$\\pm$0.355           0.902  \n2           5.712$\\pm$2.264           1.000  \n3  \\textbf{1.021}$\\pm$0.008  \\textbf{0.000}  ",
      "text/html": "<div>\n<style scoped>\n    .dataframe tbody tr th:only-of-type {\n        vertical-align: middle;\n    }\n\n    .dataframe tbody tr th {\n        vertical-align: top;\n    }\n\n    .dataframe thead tr th {\n        text-align: left;\n    }\n</style>\n<table border=\"1\" class=\"dataframe\">\n  <thead>\n    <tr>\n      <th></th>\n      <th>algo</th>\n      <th colspan=\"2\" halign=\"left\">bal_acc</th>\n      <th colspan=\"2\" halign=\"left\">AOD-gen</th>\n      <th colspan=\"2\" halign=\"left\">AOD-race</th>\n      <th colspan=\"2\" halign=\"left\">lb</th>\n      <th colspan=\"2\" halign=\"left\">pval</th>\n      <th>Balanced Acc</th>\n      <th>$\\text{AOD}_{\\text{gen}}$</th>\n      <th>$\\text{AOD}_{\\text{race}}$</th>\n      <th>$T_n$</th>\n      <th>Rejection Prop</th>\n    </tr>\n    <tr>\n      <th></th>\n      <th></th>\n      <th>mean</th>\n      <th>std</th>\n      <th>mean</th>\n      <th>std</th>\n      <th>mean</th>\n      <th>std</th>\n      <th>mean</th>\n      <th>std</th>\n      <th>mean</th>\n      <th>std</th>\n      <th></th>\n      <th></th>\n      <th></th>\n      <th></th>\n      <th></th>\n    </tr>\n  </thead>\n  <tbody>\n    <tr>\n      <th>0</th>\n      <td>baseline</td>\n      <td>0.816889</td>\n      <td>0.006759</td>\n      <td>-0.151117</td>\n      <td>0.026236</td>\n      <td>-0.060650</td>\n      <td>0.015300</td>\n      <td>3.675913</td>\n      <td>2.163627</td>\n      <td>0.000000</td>\n      <td>0.0000</td>\n      <td>0.817$\\pm$0.007</td>\n      <td>-0.151$\\pm$0.026</td>\n      <td>-0.061$\\pm$0.015</td>\n      <td>3.676$\\pm$2.164</td>\n      <td>1.000</td>\n    </tr>\n    <tr>\n      <th>1</th>\n      <td>baseline_bal</td>\n      <td>0.825290</td>\n      <td>0.003224</td>\n      <td>-0.147170</td>\n      <td>0.014956</td>\n      <td>-0.052808</td>\n      <td>0.014611</td>\n      <td>1.660149</td>\n      <td>0.355157</td>\n      <td>0.097841</td>\n      <td>0.3094</td>\n      <td>\\textbf{0.825}$\\pm$0.003</td>\n      <td>-0.147$\\pm$0.015</td>\n      <td>-0.053$\\pm$0.015</td>\n      <td>1.660$\\pm$0.355</td>\n      <td>0.902</td>\n    </tr>\n    <tr>\n      <th>2</th>\n      <td>reduction</td>\n      <td>0.799689</td>\n      <td>0.004515</td>\n      <td>0.001286</td>\n      <td>0.021245</td>\n      <td>-0.026839</td>\n      <td>0.013104</td>\n      <td>5.712395</td>\n      <td>2.264394</td>\n      <td>0.000000</td>\n      <td>0.0000</td>\n      <td>0.800$\\pm$0.005</td>\n      <td>\\textbf{0.001}$\\pm$0.021</td>\n      <td>\\textbf{-0.027}$\\pm$0.013</td>\n      <td>5.712$\\pm$2.264</td>\n      <td>1.000</td>\n    </tr>\n    <tr>\n      <th>3</th>\n      <td>sensr</td>\n      <td>0.765446</td>\n      <td>0.011889</td>\n      <td>-0.073894</td>\n      <td>0.033192</td>\n      <td>-0.047882</td>\n      <td>0.008244</td>\n      <td>1.020763</td>\n      <td>0.008241</td>\n      <td>1.000000</td>\n      <td>0.0000</td>\n      <td>0.765$\\pm$0.012</td>\n      <td>-0.074$\\pm$0.033</td>\n      <td>-0.048$\\pm$0.008</td>\n      <td>\\textbf{1.021}$\\pm$0.008</td>\n      <td>\\textbf{0.000}</td>\n    </tr>\n  </tbody>\n</table>\n</div>"
     },
     "metadata": {},
     "execution_count": 109
    }
   ],
   "source": [
    "for i, c in enumerate(measure):\n",
    "    if c == 'pval':\n",
    "        idx_best = (1-result[c]['mean']).idxmin()\n",
    "        result[colnames[i]] = (1-result[c]['mean']).apply(\"{:.3f}\".format)\n",
    "        result.at[idx_best, colnames[i]] = '\\\\textbf{' + result[colnames[i]][idx_best] + '}'\n",
    "        \n",
    "    elif c == 'bal_acc':\n",
    "        idx_best = (result[c]['mean']).idxmax()\n",
    "        result[colnames[i]] = result[c]['mean'].apply(\"{:.3f}\".format)+ '$\\pm$' + result[c]['std'].apply(\"{:.3f}\".format)\n",
    "        best_val = result[colnames[i]][idx_best].split('$\\pm$')\n",
    "        best_val = '$\\pm$'.join(['\\\\textbf{' + best_val[0] + '}', best_val[1]])\n",
    "        result.at[idx_best, colnames[i]] = best_val\n",
    "    elif c == 'lb':\n",
    "        idx_best = (result[c]['mean']).idxmin()\n",
    "        result[colnames[i]] = result[c]['mean'].apply(\"{:.3f}\".format)+ '$\\pm$' + result[c]['std'].apply(\"{:.3f}\".format)\n",
    "        best_val = result[colnames[i]][idx_best].split('$\\pm$')\n",
    "        best_val = '$\\pm$'.join(['\\\\textbf{' + best_val[0] + '}', best_val[1]])\n",
    "        result.at[idx_best, colnames[i]] = best_val\n",
    "    else:\n",
    "        idx_best = (result[c]['mean']).abs().idxmin()\n",
    "        result[colnames[i]] = result[c]['mean'].apply(\"{:.3f}\".format)+ '$\\pm$' + result[c]['std'].apply(\"{:.3f}\".format)\n",
    "        best_val = result[colnames[i]][idx_best].split('$\\pm$')\n",
    "        best_val = '$\\pm$'.join(['\\\\textbf{' + best_val[0] + '}', best_val[1]])\n",
    "        result.at[idx_best, colnames[i]] = best_val\n",
    "#print(result.to_latex(escape=False, column_format='l' + 'c'*len(colnames)))\n",
    "result"
   ]
  },
  {
   "cell_type": "code",
   "execution_count": 106,
   "metadata": {},
   "outputs": [],
   "source": [
    "ind = dict()\n",
    "for i, expt in enumerate(row_names):\n",
    "    ind[i] = expt\n",
    "    res = result[colnames].rename(index=ind)"
   ]
  },
  {
   "cell_type": "code",
   "execution_count": 107,
   "metadata": {},
   "outputs": [
    {
     "output_type": "execute_result",
     "data": {
      "text/plain": "1"
     },
     "metadata": {},
     "execution_count": 107
    }
   ],
   "source": [
    "result['bal_acc']['mean'].idxmax()"
   ]
  },
  {
   "cell_type": "code",
   "execution_count": 108,
   "metadata": {},
   "outputs": [
    {
     "output_type": "execute_result",
     "data": {
      "text/plain": "                       Balanced Acc $\\text{AOD}_{\\text{gen}}$  \\\n                                                                \nSenSR               0.817$\\pm$0.007          -0.151$\\pm$0.026   \nReduction  \\textbf{0.825}$\\pm$0.003          -0.147$\\pm$0.015   \nBaseline            0.800$\\pm$0.005  \\textbf{0.001}$\\pm$0.021   \nProject             0.765$\\pm$0.012          -0.074$\\pm$0.033   \n\n          $\\text{AOD}_{\\text{race}}$                     $T_n$  Rejection Prop  \n                                                                                \nSenSR               -0.061$\\pm$0.015           3.676$\\pm$2.164           1.000  \nReduction           -0.053$\\pm$0.015           1.660$\\pm$0.355           0.902  \nBaseline   \\textbf{-0.027}$\\pm$0.013           5.712$\\pm$2.264           1.000  \nProject             -0.048$\\pm$0.008  \\textbf{1.021}$\\pm$0.008  \\textbf{0.000}  ",
      "text/html": "<div>\n<style scoped>\n    .dataframe tbody tr th:only-of-type {\n        vertical-align: middle;\n    }\n\n    .dataframe tbody tr th {\n        vertical-align: top;\n    }\n\n    .dataframe thead tr th {\n        text-align: left;\n    }\n</style>\n<table border=\"1\" class=\"dataframe\">\n  <thead>\n    <tr>\n      <th></th>\n      <th>Balanced Acc</th>\n      <th>$\\text{AOD}_{\\text{gen}}$</th>\n      <th>$\\text{AOD}_{\\text{race}}$</th>\n      <th>$T_n$</th>\n      <th>Rejection Prop</th>\n    </tr>\n    <tr>\n      <th></th>\n      <th></th>\n      <th></th>\n      <th></th>\n      <th></th>\n      <th></th>\n    </tr>\n  </thead>\n  <tbody>\n    <tr>\n      <th>SenSR</th>\n      <td>0.817$\\pm$0.007</td>\n      <td>-0.151$\\pm$0.026</td>\n      <td>-0.061$\\pm$0.015</td>\n      <td>3.676$\\pm$2.164</td>\n      <td>1.000</td>\n    </tr>\n    <tr>\n      <th>Reduction</th>\n      <td>\\textbf{0.825}$\\pm$0.003</td>\n      <td>-0.147$\\pm$0.015</td>\n      <td>-0.053$\\pm$0.015</td>\n      <td>1.660$\\pm$0.355</td>\n      <td>0.902</td>\n    </tr>\n    <tr>\n      <th>Baseline</th>\n      <td>0.800$\\pm$0.005</td>\n      <td>\\textbf{0.001}$\\pm$0.021</td>\n      <td>\\textbf{-0.027}$\\pm$0.013</td>\n      <td>5.712$\\pm$2.264</td>\n      <td>1.000</td>\n    </tr>\n    <tr>\n      <th>Project</th>\n      <td>0.765$\\pm$0.012</td>\n      <td>-0.074$\\pm$0.033</td>\n      <td>-0.048$\\pm$0.008</td>\n      <td>\\textbf{1.021}$\\pm$0.008</td>\n      <td>\\textbf{0.000}</td>\n    </tr>\n  </tbody>\n</table>\n</div>"
     },
     "metadata": {},
     "execution_count": 108
    }
   ],
   "source": [
    "res"
   ]
  },
  {
   "cell_type": "code",
   "execution_count": 101,
   "metadata": {},
   "outputs": [
    {
     "output_type": "stream",
     "name": "stdout",
     "text": "\\begin{tabular}{lccccc}\n\\toprule\n{} &              Balanced Acc &  $\\text{AOD}_{\\text{gen}}$ & $\\text{AOD}_{\\text{race}}$ &                     $T_n$ &  Rejection Prop \\\\\n{} \\\\\n\\midrule\nSenSR     &           0.817$\\pm$0.007 &  \\textbf{-0.151}$\\pm$0.026 &  \\textbf{-0.061}$\\pm$0.015 &           3.676$\\pm$2.164 &           1.000 \\\\\nReduction &  \\textbf{0.825}$\\pm$0.003 &           -0.147$\\pm$0.015 &           -0.053$\\pm$0.015 &           1.660$\\pm$0.355 &           0.902 \\\\\nBaseline  &           0.800$\\pm$0.005 &            0.001$\\pm$0.021 &           -0.027$\\pm$0.013 &           5.712$\\pm$2.264 &           1.000 \\\\\nProject   &           0.765$\\pm$0.012 &           -0.074$\\pm$0.033 &           -0.048$\\pm$0.008 &  \\textbf{1.021}$\\pm$0.008 &  \\textbf{0.000} \\\\\n\\bottomrule\n\\end{tabular}\n\n"
    }
   ],
   "source": [
    "print(res.to_latex(escape=False, column_format='l' + 'c'*len(colnames)))"
   ]
  },
  {
   "cell_type": "code",
   "execution_count": null,
   "metadata": {},
   "outputs": [],
   "source": []
  }
 ],
 "metadata": {
  "language_info": {
   "codemirror_mode": {
    "name": "ipython",
    "version": 3
   },
   "file_extension": ".py",
   "mimetype": "text/x-python",
   "name": "python",
   "nbconvert_exporter": "python",
   "pygments_lexer": "ipython3",
   "version": "3.7.4-final"
  },
  "orig_nbformat": 2,
  "kernelspec": {
   "name": "python37464bit48aa32fa6dba4f1bbd692e320b15fd93",
   "display_name": "Python 3.7.4 64-bit"
  }
 },
 "nbformat": 4,
 "nbformat_minor": 2
}