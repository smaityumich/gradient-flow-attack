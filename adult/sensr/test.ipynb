{
 "cells": [
  {
   "cell_type": "code",
   "execution_count": 12,
   "metadata": {},
   "outputs": [],
   "source": [
    "import tensorflow as tf\n",
    "from tensorflow import keras\n",
    "import json\n",
    "import numpy as np"
   ]
  },
  {
   "cell_type": "code",
   "execution_count": 13,
   "metadata": {},
   "outputs": [],
   "source": [
    "with open('data.txt', 'r') as f:\n",
    "    weight = json.load(f)"
   ]
  },
  {
   "cell_type": "code",
   "execution_count": 14,
   "metadata": {},
   "outputs": [],
   "source": [
    "weights = [np.array(w) for w in weight]"
   ]
  },
  {
   "cell_type": "code",
   "execution_count": 9,
   "metadata": {},
   "outputs": [],
   "source": [
    "x = tf.cast(np.random.normal(size=(100, 39)), dtype = tf.float32)"
   ]
  },
  {
   "cell_type": "code",
   "execution_count": 11,
   "metadata": {},
   "outputs": [
    {
     "output_type": "execute_result",
     "data": {
      "text/plain": "100"
     },
     "metadata": {},
     "execution_count": 11
    }
   ],
   "source": [
    "len(weights[0][0])"
   ]
  },
  {
   "cell_type": "code",
   "execution_count": 16,
   "metadata": {},
   "outputs": [
    {
     "output_type": "stream",
     "name": "stdout",
     "text": "(39, 100)\n(100,)\n(100, 2)\n(2,)\n"
    }
   ],
   "source": [
    "for w in weights:\n",
    "    print(w.shape)"
   ]
  },
  {
   "cell_type": "code",
   "execution_count": 20,
   "metadata": {},
   "outputs": [],
   "source": [
    "a = keras.layers.Layer(100)"
   ]
  },
  {
   "cell_type": "code",
   "execution_count": 21,
   "metadata": {},
   "outputs": [
    {
     "output_type": "error",
     "ename": "ValueError",
     "evalue": "You called `set_weights(weights)` on layer \"layer\" with a weight list of length 2, but the layer was expecting 0 weights. Provided weights: [array([[ 0.00319816,  0.06832858, -0.11650787, .....",
     "traceback": [
      "\u001b[0;31m---------------------------------------------------------------------------\u001b[0m",
      "\u001b[0;31mValueError\u001b[0m                                Traceback (most recent call last)",
      "\u001b[0;32m<ipython-input-21-4f0fc27977f3>\u001b[0m in \u001b[0;36m<module>\u001b[0;34m\u001b[0m\n\u001b[0;32m----> 1\u001b[0;31m \u001b[0ma\u001b[0m\u001b[0;34m.\u001b[0m\u001b[0mset_weights\u001b[0m\u001b[0;34m(\u001b[0m\u001b[0;34m[\u001b[0m\u001b[0mweights\u001b[0m\u001b[0;34m[\u001b[0m\u001b[0;36m0\u001b[0m\u001b[0;34m]\u001b[0m\u001b[0;34m,\u001b[0m \u001b[0mweights\u001b[0m\u001b[0;34m[\u001b[0m\u001b[0;36m1\u001b[0m\u001b[0;34m]\u001b[0m\u001b[0;34m]\u001b[0m\u001b[0;34m)\u001b[0m\u001b[0;34m\u001b[0m\u001b[0;34m\u001b[0m\u001b[0m\n\u001b[0m",
      "\u001b[0;32m~/Library/Python/3.7/lib/python/site-packages/tensorflow_core/python/keras/engine/base_layer.py\u001b[0m in \u001b[0;36mset_weights\u001b[0;34m(self, weights)\u001b[0m\n\u001b[1;32m   1287\u001b[0m           \u001b[0;34m'with a weight list of length %s, but the layer was '\u001b[0m\u001b[0;34m\u001b[0m\u001b[0;34m\u001b[0m\u001b[0m\n\u001b[1;32m   1288\u001b[0m           \u001b[0;34m'expecting %s weights. Provided weights: %s...'\u001b[0m \u001b[0;34m%\u001b[0m\u001b[0;34m\u001b[0m\u001b[0;34m\u001b[0m\u001b[0m\n\u001b[0;32m-> 1289\u001b[0;31m           (self.name, len(weights), expected_num_weights, str(weights)[:50]))\n\u001b[0m\u001b[1;32m   1290\u001b[0m \u001b[0;34m\u001b[0m\u001b[0m\n\u001b[1;32m   1291\u001b[0m     \u001b[0mweight_index\u001b[0m \u001b[0;34m=\u001b[0m \u001b[0;36m0\u001b[0m\u001b[0;34m\u001b[0m\u001b[0;34m\u001b[0m\u001b[0m\n",
      "\u001b[0;31mValueError\u001b[0m: You called `set_weights(weights)` on layer \"layer\" with a weight list of length 2, but the layer was expecting 0 weights. Provided weights: [array([[ 0.00319816,  0.06832858, -0.11650787, ....."
     ]
    }
   ],
   "source": [
    "a.set_weights([weights[0], weights[1]])"
   ]
  },
  {
   "cell_type": "code",
   "execution_count": 22,
   "metadata": {},
   "outputs": [],
   "source": [
    "import model"
   ]
  },
  {
   "cell_type": "code",
   "execution_count": 23,
   "metadata": {},
   "outputs": [],
   "source": [
    "graph = model.model"
   ]
  },
  {
   "cell_type": "code",
   "execution_count": 24,
   "metadata": {},
   "outputs": [
    {
     "output_type": "execute_result",
     "data": {
      "text/plain": "<tf.Tensor: shape=(100, 2), dtype=float32, numpy=\narray([[0.09334087, 0.9066591 ],\n       [0.4064124 , 0.5935876 ],\n       [0.9623238 , 0.03767623],\n       [0.0488424 , 0.9511576 ],\n       [0.712958  , 0.28704196],\n       [0.37976164, 0.62023836],\n       [0.7567461 , 0.24325383],\n       [0.69366044, 0.30633953],\n       [0.7201703 , 0.27982968],\n       [0.08202656, 0.9179734 ],\n       [0.62318665, 0.37681332],\n       [0.81327266, 0.18672734],\n       [0.33628353, 0.66371644],\n       [0.90280396, 0.09719604],\n       [0.77634513, 0.2236549 ],\n       [0.9490829 , 0.05091712],\n       [0.1436861 , 0.85631394],\n       [0.3305564 , 0.6694436 ],\n       [0.65772754, 0.34227243],\n       [0.0239623 , 0.97603774],\n       [0.8297616 , 0.17023842],\n       [0.776974  , 0.223026  ],\n       [0.7687033 , 0.23129676],\n       [0.8164722 , 0.18352789],\n       [0.5989719 , 0.4010281 ],\n       [0.23860756, 0.7613925 ],\n       [0.572567  , 0.42743298],\n       [0.2554722 , 0.7445278 ],\n       [0.21443102, 0.78556895],\n       [0.6031307 , 0.39686927],\n       [0.18166113, 0.8183388 ],\n       [0.33801714, 0.6619829 ],\n       [0.8551448 , 0.14485516],\n       [0.02168062, 0.97831935],\n       [0.12396663, 0.87603337],\n       [0.4591598 , 0.5408402 ],\n       [0.00276676, 0.9972332 ],\n       [0.6669326 , 0.33306742],\n       [0.18314071, 0.81685936],\n       [0.08357971, 0.9164203 ],\n       [0.37186053, 0.6281395 ],\n       [0.2507272 , 0.7492728 ],\n       [0.49189416, 0.50810575],\n       [0.12914987, 0.8708501 ],\n       [0.89761096, 0.10238904],\n       [0.3477312 , 0.65226877],\n       [0.17095204, 0.82904804],\n       [0.42802605, 0.5719739 ],\n       [0.9243033 , 0.07569671],\n       [0.7473438 , 0.25265625],\n       [0.02623051, 0.9737694 ],\n       [0.49983385, 0.5001662 ],\n       [0.5299046 , 0.47009546],\n       [0.301427  , 0.69857293],\n       [0.32609242, 0.67390764],\n       [0.46906477, 0.53093517],\n       [0.5234882 , 0.47651175],\n       [0.47399685, 0.5260031 ],\n       [0.10213614, 0.8978638 ],\n       [0.94127387, 0.05872614],\n       [0.1855164 , 0.8144835 ],\n       [0.61434406, 0.38565594],\n       [0.90915245, 0.09084751],\n       [0.5616631 , 0.43833685],\n       [0.42777532, 0.5722247 ],\n       [0.45845088, 0.5415491 ],\n       [0.10283571, 0.8971643 ],\n       [0.66719794, 0.33280203],\n       [0.10292209, 0.8970779 ],\n       [0.59110904, 0.40889093],\n       [0.8099183 , 0.19008173],\n       [0.84474224, 0.15525775],\n       [0.27918983, 0.7208102 ],\n       [0.08025833, 0.9197417 ],\n       [0.21095861, 0.78904134],\n       [0.13742252, 0.86257744],\n       [0.52773243, 0.47226754],\n       [0.19562215, 0.80437785],\n       [0.4129149 , 0.587085  ],\n       [0.18513934, 0.81486064],\n       [0.32140988, 0.6785901 ],\n       [0.25538662, 0.74461347],\n       [0.4863978 , 0.51360226],\n       [0.75910753, 0.24089245],\n       [0.8643741 , 0.13562588],\n       [0.14316083, 0.8568392 ],\n       [0.6955805 , 0.30441952],\n       [0.8935563 , 0.10644379],\n       [0.2859443 , 0.71405566],\n       [0.8931182 , 0.1068818 ],\n       [0.05757729, 0.9424227 ],\n       [0.06930196, 0.9306981 ],\n       [0.32184365, 0.6781563 ],\n       [0.4049334 , 0.59506667],\n       [0.35053986, 0.64946014],\n       [0.59833765, 0.40166238],\n       [0.8498025 , 0.15019745],\n       [0.7866327 , 0.21336728],\n       [0.4978636 , 0.50213647],\n       [0.77389544, 0.22610457]], dtype=float32)>"
     },
     "metadata": {},
     "execution_count": 24
    }
   ],
   "source": [
    "graph(x)"
   ]
  },
  {
   "cell_type": "code",
   "execution_count": 4,
   "metadata": {},
   "outputs": [],
   "source": [
    "import numpy as np\n",
    "import tensorflow as tf\n",
    "from adult_modified import preprocess_adult_data\n",
    "from sklearn import linear_model\n",
    "import model\n",
    "import utils\n",
    "import time\n",
    "import multiprocessing as mp\n",
    "import random\n",
    "import matplotlib.pyplot as plt\n",
    "import scipy\n",
    "plt.ioff()\n",
    "\n",
    "\n",
    "seed = 1\n",
    "tf.random.set_seed(seed)\n",
    "np.random.seed(seed)\n",
    "dataset_orig_train, dataset_orig_test = preprocess_adult_data(seed = seed)\n",
    "\n",
    "x_unprotected_train, x_protected_train = dataset_orig_train.features[:, :39], dataset_orig_train.features[:, 39:]\n",
    "x_unprotected_test, x_protected_test = dataset_orig_test.features[:, :39], dataset_orig_test.features[:, 39:]\n",
    "y_train, y_test = dataset_orig_train.labels.reshape((-1,)), dataset_orig_test.labels.reshape((-1,))"
   ]
  },
  {
   "cell_type": "code",
   "execution_count": 5,
   "metadata": {},
   "outputs": [],
   "source": [
    "sensetive_directions = []\n",
    "protected_regression = linear_model.LogisticRegression(fit_intercept = True)\n",
    "protected_regression.fit(x_unprotected_train, x_protected_train[:, 0])\n",
    "sensetive_directions.append(protected_regression.coef_.reshape((-1,)))\n",
    "protected_regression.fit(x_unprotected_train, x_protected_train[:, 1])\n",
    "sensetive_directions.append(protected_regression.coef_.reshape((-1,)))\n",
    "sensetive_directions = np.array(sensetive_directions)"
   ]
  },
  {
   "cell_type": "code",
   "execution_count": 6,
   "metadata": {},
   "outputs": [
    {
     "output_type": "execute_result",
     "data": {
      "text/plain": "(2, 39)"
     },
     "metadata": {},
     "execution_count": 6
    }
   ],
   "source": [
    "sensetive_directions.shape"
   ]
  },
  {
   "cell_type": "code",
   "execution_count": 1,
   "metadata": {},
   "outputs": [],
   "source": [
    "import numpy as np\n",
    "a = np.load('outcome/perturbed_ratio_l2_base.npy')"
   ]
  },
  {
   "cell_type": "code",
   "execution_count": 2,
   "metadata": {},
   "outputs": [
    {
     "output_type": "execute_result",
     "data": {
      "text/plain": "array([1.0019885, 1.0015621, 1.0250211, ..., 1.0055652, 1.0033357,\n       1.003548 ], dtype=float32)"
     },
     "metadata": {},
     "execution_count": 2
    }
   ],
   "source": [
    "a"
   ]
  },
  {
   "cell_type": "code",
   "execution_count": 4,
   "metadata": {},
   "outputs": [
    {
     "output_type": "execute_result",
     "data": {
      "text/plain": "1.0336033"
     },
     "metadata": {},
     "execution_count": 4
    }
   ],
   "source": [
    "np.mean(a)"
   ]
  },
  {
   "cell_type": "code",
   "execution_count": 7,
   "metadata": {},
   "outputs": [
    {
     "output_type": "execute_result",
     "data": {
      "text/plain": "82.7292715625518"
     },
     "metadata": {},
     "execution_count": 7
    }
   ],
   "source": [
    "np.sqrt(a.shape[0])*(np.mean(a)-1)/np.std(a)"
   ]
  },
  {
   "cell_type": "code",
   "execution_count": 1,
   "metadata": {},
   "outputs": [],
   "source": [
    "import numpy as np\n",
    "a = np.load('outcome/perturbed_ratio.npy')"
   ]
  },
  {
   "cell_type": "code",
   "execution_count": 2,
   "metadata": {},
   "outputs": [
    {
     "output_type": "execute_result",
     "data": {
      "text/plain": "array([nan, nan, nan, ..., nan, nan, nan], dtype=float32)"
     },
     "metadata": {},
     "execution_count": 2
    }
   ],
   "source": [
    "a"
   ]
  },
  {
   "cell_type": "code",
   "execution_count": null,
   "metadata": {},
   "outputs": [],
   "source": []
  }
 ],
 "metadata": {
  "language_info": {
   "codemirror_mode": {
    "name": "ipython",
    "version": 3
   },
   "file_extension": ".py",
   "mimetype": "text/x-python",
   "name": "python",
   "nbconvert_exporter": "python",
   "pygments_lexer": "ipython3",
   "version": "3.7.4-final"
  },
  "orig_nbformat": 2,
  "kernelspec": {
   "name": "python37464bit48aa32fa6dba4f1bbd692e320b15fd93",
   "display_name": "Python 3.7.4 64-bit"
  }
 },
 "nbformat": 4,
 "nbformat_minor": 2
}