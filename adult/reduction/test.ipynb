{
 "cells": [
  {
   "cell_type": "code",
   "execution_count": 1,
   "metadata": {},
   "outputs": [],
   "source": [
    "import numpy as np\n",
    "import tensorflow as tf\n",
    "from adult_modified import preprocess_adult_data\n",
    "from sklearn import linear_model\n",
    "import model\n",
    "import utils\n",
    "import time\n",
    "import multiprocessing as mp\n",
    "import random\n",
    "import matplotlib.pyplot as plt\n",
    "import scipy\n",
    "plt.ioff()\n",
    "\n",
    "\n",
    "seed = 1\n",
    "tf.random.set_seed(seed)\n",
    "np.random.seed(seed)\n",
    "dataset_orig_train, dataset_orig_test = preprocess_adult_data(seed = seed)\n",
    "\n",
    "x_unprotected_train, x_protected_train = dataset_orig_train.features[:, :39], dataset_orig_train.features[:, 39:]\n",
    "x_unprotected_test, x_protected_test = dataset_orig_test.features[:, :39], dataset_orig_test.features[:, 39:]\n",
    "y_train, y_test = dataset_orig_train.labels.reshape((-1,)), dataset_orig_test.labels.reshape((-1,))\n",
    "\n",
    "\n",
    "# Casing to tensor \n",
    "#y_train, y_test = y_train.astype('int32'), y_test.astype('int32')\n",
    "x_unprotected_train, x_unprotected_test = tf.cast(x_unprotected_train, dtype = tf.float32), tf.cast(x_unprotected_test, dtype = tf.float32)\n",
    "#y_train, y_test = tf.one_hot(y_train, 2), tf.one_hot(y_test, 2)\n",
    "\n",
    "\n",
    "\n",
    "\n",
    "graph = model.model   \n",
    "prob = graph(x_unprotected_test)\n",
    "y_pred = tf.argmax(prob, axis = 1)\n",
    "y_pred = y_pred.numpy()"
   ]
  },
  {
   "cell_type": "code",
   "execution_count": 2,
   "metadata": {},
   "outputs": [
    {
     "output_type": "execute_result",
     "data": {
      "text/plain": "array([0, 0, 0, ..., 0, 0, 0])"
     },
     "metadata": {},
     "execution_count": 2
    }
   ],
   "source": [
    "y_pred"
   ]
  },
  {
   "cell_type": "code",
   "execution_count": 3,
   "metadata": {},
   "outputs": [
    {
     "output_type": "execute_result",
     "data": {
      "text/plain": "array([0., 0., 0., ..., 0., 0., 0.])"
     },
     "metadata": {},
     "execution_count": 3
    }
   ],
   "source": [
    "y_test"
   ]
  },
  {
   "cell_type": "code",
   "execution_count": 4,
   "metadata": {},
   "outputs": [
    {
     "output_type": "execute_result",
     "data": {
      "text/plain": "               instance weights  features                             \\\n                                                                       \n                                      age education-num capital-gain   \ninstance names                                                         \n13237                       1.0 -1.175586     -1.607059    -0.147413   \n23644                       1.0  0.264770     -0.435784    -0.147413   \n178                         1.0 -1.554628     -0.435784    -0.147413   \n16741                       1.0 -0.341696     -0.435784    -0.147413   \n28620                       1.0 -0.948162     -0.435784    -0.147413   \n...                         ...       ...           ...          ...   \n47211                       1.0 -1.099778      1.125916    -0.147413   \n35106                       1.0  0.264770      1.125916    -0.147413   \n5661                        1.0 -1.478820     -2.387908    -0.147413   \n13155                       1.0 -1.630436     -1.607059    -0.147413   \n35636                       1.0 -0.569120     -0.435784    -0.147413   \n\n                                                                   \\\n                                                                    \n               capital-loss hours-per-week workclass_ Federal-gov   \ninstance names                                                      \n13237             -0.219069       1.599468                    0.0   \n23644             -0.219069      -0.075697                    0.0   \n178               -0.219069      -2.420928                    0.0   \n16741              4.084490      -0.494488                    0.0   \n28620             -0.219069      -0.075697                    0.0   \n...                     ...            ...                    ...   \n47211             -0.219069       0.761886                    0.0   \n35106             -0.219069      -0.075697                    0.0   \n5661               3.743174      -0.745763                    0.0   \n13155             -0.219069      -1.750862                    0.0   \n35636             -0.219069      -0.326971                    0.0   \n\n                                                        \\\n                                                         \n               workclass_ Local-gov workclass_ Private   \ninstance names                                           \n13237                           0.0                1.0   \n23644                           0.0                0.0   \n178                             0.0                1.0   \n16741                           1.0                0.0   \n28620                           0.0                1.0   \n...                             ...                ...   \n47211                           0.0                1.0   \n35106                           0.0                1.0   \n5661                            0.0                1.0   \n13155                           0.0                1.0   \n35636                           0.0                0.0   \n\n                                        ...                               \\\n                                        ...                                \n               workclass_ Self-emp-inc  ... occupation_ Transport-moving   \ninstance names                          ...                                \n13237                              0.0  ...                          0.0   \n23644                              1.0  ...                          0.0   \n178                                0.0  ...                          0.0   \n16741                              0.0  ...                          0.0   \n28620                              0.0  ...                          0.0   \n...                                ...  ...                          ...   \n47211                              0.0  ...                          0.0   \n35106                              0.0  ...                          0.0   \n5661                               0.0  ...                          0.0   \n13155                              0.0  ...                          0.0   \n35636                              0.0  ...                          0.0   \n\n                                                                  \\\n                                                                   \n               relationship_ Husband relationship_ Not-in-family   \ninstance names                                                     \n13237                            0.0                         0.0   \n23644                            1.0                         0.0   \n178                              0.0                         0.0   \n16741                            0.0                         0.0   \n28620                            1.0                         0.0   \n...                              ...                         ...   \n47211                            0.0                         1.0   \n35106                            1.0                         0.0   \n5661                             0.0                         0.0   \n13155                            0.0                         0.0   \n35636                            0.0                         1.0   \n\n                                                                     \\\n                                                                      \n               relationship_ Other-relative relationship_ Own-child   \ninstance names                                                        \n13237                                   0.0                     0.0   \n23644                                   0.0                     0.0   \n178                                     0.0                     1.0   \n16741                                   0.0                     0.0   \n28620                                   0.0                     0.0   \n...                                     ...                     ...   \n47211                                   0.0                     0.0   \n35106                                   0.0                     0.0   \n5661                                    0.0                     1.0   \n13155                                   0.0                     1.0   \n35636                                   0.0                     0.0   \n\n                                                                               \\\n                                                          protected attribute   \n               relationship_ Unmarried relationship_ Wife           sex_ Male   \ninstance names                                                                  \n13237                              1.0                0.0                 1.0   \n23644                              0.0                0.0                 1.0   \n178                                0.0                0.0                 1.0   \n16741                              0.0                1.0                 0.0   \n28620                              0.0                0.0                 1.0   \n...                                ...                ...                 ...   \n47211                              0.0                0.0                 0.0   \n35106                              0.0                0.0                 1.0   \n5661                               0.0                0.0                 1.0   \n13155                              0.0                0.0                 0.0   \n35636                              0.0                0.0                 0.0   \n\n                           labels  \n                                   \n               race_ White         \ninstance names                     \n13237                  1.0    0.0  \n23644                  1.0    0.0  \n178                    1.0    0.0  \n16741                  1.0    0.0  \n28620                  1.0    0.0  \n...                    ...    ...  \n47211                  1.0    0.0  \n35106                  1.0    0.0  \n5661                   1.0    0.0  \n13155                  1.0    0.0  \n35636                  0.0    0.0  \n\n[9045 rows x 43 columns]"
     },
     "metadata": {},
     "execution_count": 4
    }
   ],
   "source": [
    "dataset_orig_test"
   ]
  },
  {
   "cell_type": "code",
   "execution_count": 10,
   "metadata": {},
   "outputs": [],
   "source": [
    "gender = dataset_orig_test.features[:, 39]\n",
    "race = dataset_orig_test.features[:, 40]"
   ]
  },
  {
   "cell_type": "code",
   "execution_count": 11,
   "metadata": {},
   "outputs": [
    {
     "output_type": "execute_result",
     "data": {
      "text/plain": "array([1., 1., 1., ..., 1., 0., 0.])"
     },
     "metadata": {},
     "execution_count": 11
    }
   ],
   "source": [
    "gender"
   ]
  },
  {
   "cell_type": "code",
   "execution_count": 1,
   "metadata": {},
   "outputs": [
    {
     "output_type": "error",
     "ename": "NameError",
     "evalue": "name 'np' is not defined",
     "traceback": [
      "\u001b[0;31m---------------------------------------------------------------------------\u001b[0m",
      "\u001b[0;31mNameError\u001b[0m                                 Traceback (most recent call last)",
      "\u001b[0;32m<ipython-input-1-d2bcfefa0c29>\u001b[0m in \u001b[0;36m<module>\u001b[0;34m\u001b[0m\n\u001b[0;32m----> 1\u001b[0;31m \u001b[0mnp\u001b[0m\u001b[0;34m.\u001b[0m\u001b[0mrandom\u001b[0m\u001b[0;34m.\u001b[0m\u001b[0mseed\u001b[0m\u001b[0;34m(\u001b[0m\u001b[0;36m1\u001b[0m\u001b[0;34m)\u001b[0m\u001b[0;34m\u001b[0m\u001b[0;34m\u001b[0m\u001b[0m\n\u001b[0m\u001b[1;32m      2\u001b[0m \u001b[0;31m# Adult data processing\u001b[0m\u001b[0;34m\u001b[0m\u001b[0;34m\u001b[0m\u001b[0;34m\u001b[0m\u001b[0m\n\u001b[1;32m      3\u001b[0m \u001b[0mseeds\u001b[0m \u001b[0;34m=\u001b[0m \u001b[0mnp\u001b[0m\u001b[0;34m.\u001b[0m\u001b[0mrandom\u001b[0m\u001b[0;34m.\u001b[0m\u001b[0mrandint\u001b[0m\u001b[0;34m(\u001b[0m\u001b[0;36m100000\u001b[0m\u001b[0;34m,\u001b[0m \u001b[0msize\u001b[0m \u001b[0;34m=\u001b[0m \u001b[0;34m(\u001b[0m\u001b[0;36m10\u001b[0m\u001b[0;34m,\u001b[0m \u001b[0;34m)\u001b[0m\u001b[0;34m)\u001b[0m\u001b[0;34m\u001b[0m\u001b[0;34m\u001b[0m\u001b[0m\n",
      "\u001b[0;31mNameError\u001b[0m: name 'np' is not defined"
     ]
    }
   ],
   "source": [
    "import numpy as np\n",
    "np.random.seed(1)\n",
    "# Adult data processing\n",
    "seeds = np.random.randint(100000, size = (10, ))"
   ]
  },
  {
   "cell_type": "code",
   "execution_count": null,
   "metadata": {},
   "outputs": [],
   "source": []
  }
 ],
 "metadata": {
  "language_info": {
   "codemirror_mode": {
    "name": "ipython",
    "version": 3
   },
   "file_extension": ".py",
   "mimetype": "text/x-python",
   "name": "python",
   "nbconvert_exporter": "python",
   "pygments_lexer": "ipython3",
   "version": "3.7.4-final"
  },
  "orig_nbformat": 2,
  "kernelspec": {
   "name": "python37464bit48aa32fa6dba4f1bbd692e320b15fd93",
   "display_name": "Python 3.7.4 64-bit"
  }
 },
 "nbformat": 4,
 "nbformat_minor": 2
}