{
 "cells": [
  {
   "cell_type": "code",
   "execution_count": 1,
   "metadata": {},
   "outputs": [],
   "source": [
    "import numpy as np\n",
    "import tensorflow as tf\n",
    "from adult_modified import preprocess_adult_data\n",
    "from sklearn import linear_model\n",
    "import model\n",
    "import utils\n",
    "import time\n",
    "import multiprocessing as mp\n",
    "import random\n",
    "import matplotlib.pyplot as plt\n",
    "import scipy\n",
    "plt.ioff()\n",
    "\n",
    "\n",
    "seed = 1\n",
    "tf.random.set_seed(seed)\n",
    "np.random.seed(seed)\n",
    "dataset_orig_train, dataset_orig_test = preprocess_adult_data(seed = seed)\n",
    "\n",
    "x_unprotected_train, x_protected_train = dataset_orig_train.features[:, :39], dataset_orig_train.features[:, 39:]\n",
    "x_unprotected_test, x_protected_test = dataset_orig_test.features[:, :39], dataset_orig_test.features[:, 39:]\n",
    "y_train, y_test = dataset_orig_train.labels.reshape((-1,)), dataset_orig_test.labels.reshape((-1,))\n",
    "\n",
    "\n",
    "# Casing to tensor \n",
    "#y_train, y_test = y_train.astype('int32'), y_test.astype('int32')\n",
    "x_unprotected_train, x_unprotected_test = tf.cast(x_unprotected_train, dtype = tf.float32), tf.cast(x_unprotected_test, dtype = tf.float32)\n",
    "#y_train, y_test = tf.one_hot(y_train, 2), tf.one_hot(y_test, 2)\n",
    "\n",
    "\n",
    "\n",
    "\n",
    "graph = model.model   \n",
    "prob = graph(x_unprotected_test)\n",
    "y_pred = tf.argmax(prob, axis = 1)\n",
    "y_pred = y_pred.numpy()"
   ]
  },
  {
   "cell_type": "code",
   "execution_count": 2,
   "metadata": {},
   "outputs": [
    {
     "output_type": "execute_result",
     "data": {
      "text/plain": "array([0, 0, 0, ..., 0, 0, 0])"
     },
     "metadata": {},
     "execution_count": 2
    }
   ],
   "source": [
    "y_pred"
   ]
  },
  {
   "cell_type": "code",
   "execution_count": 3,
   "metadata": {},
   "outputs": [
    {
     "output_type": "execute_result",
     "data": {
      "text/plain": "array([0., 0., 0., ..., 0., 0., 0.])"
     },
     "metadata": {},
     "execution_count": 3
    }
   ],
   "source": [
    "y_test"
   ]
  },
  {
   "cell_type": "code",
   "execution_count": 4,
   "metadata": {},
   "outputs": [
    {
     "output_type": "execute_result",
     "data": {
      "text/plain": "               instance weights  features                             \\\n                                                                       \n                                      age education-num capital-gain   \ninstance names                                                         \n13237                       1.0 -1.175586     -1.607059    -0.147413   \n23644                       1.0  0.264770     -0.435784    -0.147413   \n178                         1.0 -1.554628     -0.435784    -0.147413   \n16741                       1.0 -0.341696     -0.435784    -0.147413   \n28620                       1.0 -0.948162     -0.435784    -0.147413   \n...                         ...       ...           ...          ...   \n47211                       1.0 -1.099778      1.125916    -0.147413   \n35106                       1.0  0.264770      1.125916    -0.147413   \n5661                        1.0 -1.478820     -2.387908    -0.147413   \n13155                       1.0 -1.630436     -1.607059    -0.147413   \n35636                       1.0 -0.569120     -0.435784    -0.147413   \n\n                                                                   \\\n                                                                    \n               capital-loss hours-per-week workclass_ Federal-gov   \ninstance names                                                      \n13237             -0.219069       1.599468                    0.0   \n23644             -0.219069      -0.075697                    0.0   \n178               -0.219069      -2.420928                    0.0   \n16741              4.084490      -0.494488                    0.0   \n28620             -0.219069      -0.075697                    0.0   \n...                     ...            ...                    ...   \n47211             -0.219069       0.761886                    0.0   \n35106             -0.219069      -0.075697                    0.0   \n5661               3.743174      -0.745763                    0.0   \n13155             -0.219069      -1.750862                    0.0   \n35636             -0.219069      -0.326971                    0.0   \n\n                                                        \\\n                                                         \n               workclass_ Local-gov workclass_ Private   \ninstance names                                           \n13237                           0.0                1.0   \n23644                           0.0                0.0   \n178                             0.0                1.0   \n16741                           1.0                0.0   \n28620                           0.0                1.0   \n...                             ...                ...   \n47211                           0.0                1.0   \n35106                           0.0                1.0   \n5661                            0.0                1.0   \n13155                           0.0                1.0   \n35636                           0.0                0.0   \n\n                                        ...                               \\\n                                        ...                                \n               workclass_ Self-emp-inc  ... occupation_ Transport-moving   \ninstance names                          ...                                \n13237                              0.0  ...                          0.0   \n23644                              1.0  ...                          0.0   \n178                                0.0  ...                          0.0   \n16741                              0.0  ...                          0.0   \n28620                              0.0  ...                          0.0   \n...                                ...  ...                          ...   \n47211                              0.0  ...                          0.0   \n35106                              0.0  ...                          0.0   \n5661                               0.0  ...                          0.0   \n13155                              0.0  ...                          0.0   \n35636                              0.0  ...                          0.0   \n\n                                                                  \\\n                                                                   \n               relationship_ Husband relationship_ Not-in-family   \ninstance names                                                     \n13237                            0.0                         0.0   \n23644                            1.0                         0.0   \n178                              0.0                         0.0   \n16741                            0.0                         0.0   \n28620                            1.0                         0.0   \n...                              ...                         ...   \n47211                            0.0                         1.0   \n35106                            1.0                         0.0   \n5661                             0.0                         0.0   \n13155                            0.0                         0.0   \n35636                            0.0                         1.0   \n\n                                                                     \\\n                                                                      \n               relationship_ Other-relative relationship_ Own-child   \ninstance names                                                        \n13237                                   0.0                     0.0   \n23644                                   0.0                     0.0   \n178                                     0.0                     1.0   \n16741                                   0.0                     0.0   \n28620                                   0.0                     0.0   \n...                                     ...                     ...   \n47211                                   0.0                     0.0   \n35106                                   0.0                     0.0   \n5661                                    0.0                     1.0   \n13155                                   0.0                     1.0   \n35636                                   0.0                     0.0   \n\n                                                                               \\\n                                                          protected attribute   \n               relationship_ Unmarried relationship_ Wife           sex_ Male   \ninstance names                                                                  \n13237                              1.0                0.0                 1.0   \n23644                              0.0                0.0                 1.0   \n178                                0.0                0.0                 1.0   \n16741                              0.0                1.0                 0.0   \n28620                              0.0                0.0                 1.0   \n...                                ...                ...                 ...   \n47211                              0.0                0.0                 0.0   \n35106                              0.0                0.0                 1.0   \n5661                               0.0                0.0                 1.0   \n13155                              0.0                0.0                 0.0   \n35636                              0.0                0.0                 0.0   \n\n                           labels  \n                                   \n               race_ White         \ninstance names                     \n13237                  1.0    0.0  \n23644                  1.0    0.0  \n178                    1.0    0.0  \n16741                  1.0    0.0  \n28620                  1.0    0.0  \n...                    ...    ...  \n47211                  1.0    0.0  \n35106                  1.0    0.0  \n5661                   1.0    0.0  \n13155                  1.0    0.0  \n35636                  0.0    0.0  \n\n[9045 rows x 43 columns]"
     },
     "metadata": {},
     "execution_count": 4
    }
   ],
   "source": [
    "dataset_orig_test"
   ]
  },
  {
   "cell_type": "code",
   "execution_count": 10,
   "metadata": {},
   "outputs": [],
   "source": [
    "gender = dataset_orig_test.features[:, 39]\n",
    "race = dataset_orig_test.features[:, 40]"
   ]
  },
  {
   "cell_type": "code",
   "execution_count": 11,
   "metadata": {},
   "outputs": [
    {
     "output_type": "execute_result",
     "data": {
      "text/plain": "array([1., 1., 1., ..., 1., 0., 0.])"
     },
     "metadata": {},
     "execution_count": 11
    }
   ],
   "source": [
    "gender"
   ]
  },
  {
   "cell_type": "code",
   "execution_count": 2,
   "metadata": {},
   "outputs": [],
   "source": [
    "import numpy as np\n",
    "np.random.seed(1)\n",
    "# Adult data processing\n",
    "seeds = np.random.randint(100000, size = (10, ))"
   ]
  },
  {
   "cell_type": "code",
   "execution_count": 3,
   "metadata": {},
   "outputs": [
    {
     "output_type": "execute_result",
     "data": {
      "text/plain": "array([98539, 77708,  5192, 98047, 50057, 73349, 21440, 98448, 20609,\n       49100])"
     },
     "metadata": {},
     "execution_count": 3
    }
   ],
   "source": [
    "seeds"
   ]
  },
  {
   "cell_type": "code",
   "execution_count": 1,
   "metadata": {},
   "outputs": [],
   "source": [
    "import json\n",
    "with open(f'./models/data_5192.txt', 'r') as f:\n",
    "    data = json.load(f)"
   ]
  },
  {
   "cell_type": "code",
   "execution_count": 2,
   "metadata": {},
   "outputs": [
    {
     "output_type": "execute_result",
     "data": {
      "text/plain": "{'ens_weights': [0.010803723570691603,\n  0.9197313399673761,\n  0.06946493646193297],\n 'coefs': [[0.21777141478992051,\n   -0.027299767430933004,\n   0.3442915144907627,\n   0.027579741429418887,\n   -0.05290625993730652,\n   1.0090856904788823,\n   0.6366576753224581,\n   0.22400712845643617,\n   -0.4225848146313691,\n   -0.5978489423190935,\n   0.6276459359901265,\n   -1.6418093776982465,\n   -0.18191138217336908,\n   -1.9001714632601627,\n   0.33888351135664485,\n   0.6255134614685023,\n   0.2637065706004156,\n   0.5584563742113735,\n   0.13067622340314772,\n   0.8390569341315941,\n   -1.5620814838683108,\n   -0.93462352408953,\n   0.4181269486110605,\n   -1.4715193492952878,\n   -0.321339007432083,\n   0.6735703384936026,\n   0.6277512164239468,\n   1.0168662938338793,\n   0.3428309620547239,\n   0.25153330931616813,\n   0.5062221470113151,\n   0.5913151340787777,\n   -1.1425566236630909,\n   -3.694690744961524,\n   -0.023016960521797823,\n   0.8165595847473007,\n   0.22142926155825018,\n   1.4124798035372133,\n   1.1023923512510587],\n  [0.3824296049523091,\n   0.689977493347733,\n   2.2100115714481383,\n   0.22219994457221112,\n   0.36571646594984414,\n   0.8092638364754937,\n   -0.08825127858302742,\n   0.008165768460841214,\n   0.0689606519996718,\n   -0.5408791293740751,\n   -0.1879934696369529,\n   -0.7525793416700598,\n   -0.7992609345886023,\n   1.266194042213159,\n   1.1628410569944765,\n   -0.1042025816600826,\n   -0.9621800667726652,\n   -0.5403150182958684,\n   -0.7063894602139162,\n   -0.006554316260902488,\n   -0.2818250990544225,\n   0.01331362369296096,\n   0.7133457116016587,\n   -1.0577204324048657,\n   -0.663873647845252,\n   -0.237957492682427,\n   -0.3603005687463801,\n   -0.7691093335569891,\n   0.6086286463329375,\n   0.8459820925838555,\n   0.19102619609162563,\n   0.43268081323618196,\n   -0.11094915531820418,\n   -0.5920493157321054,\n   -0.1833254261999314,\n   -0.5912613760943635,\n   -0.8650384323898307,\n   0.25494127186779386,\n   1.2934203162218916],\n  [0.13491287424499976,\n   0.08096481050873183,\n   0.08247196451599868,\n   0.057635109587252806,\n   0.05691147836707889,\n   0.7730098200547163,\n   0.27029626893712544,\n   0.18473781392993455,\n   0.30241218544251275,\n   -0.2639123134251756,\n   0.43509477284128434,\n   -1.4510012752305022,\n   -0.2260306185434827,\n   -0.8563597457286326,\n   0.0433965247708617,\n   0.5778094493428948,\n   0.15846931074557105,\n   0.5338253063982362,\n   0.01952704557797254,\n   0.5400156372362216,\n   -0.8260673660377098,\n   -0.5762562388045631,\n   0.20649603790555784,\n   -1.1977322636103926,\n   -0.49623458822405264,\n   0.3631461546893182,\n   0.570129433568345,\n   1.4491209375146976,\n   0.08645277074419935,\n   0.2684882434196458,\n   0.29632537826829847,\n   0.33968421493314477,\n   -0.772931079047735,\n   0.44912651869318587,\n   -0.4252560023051817,\n   0.4083658577932042,\n   -0.11845833911903407,\n   0.9139905554528963,\n   -0.9771313179505732]],\n 'intercepts': [-0.16484670442093968,\n  -0.6833129623588565,\n  0.25063727254913337]}"
     },
     "metadata": {},
     "execution_count": 2
    }
   ],
   "source": [
    "data"
   ]
  },
  {
   "cell_type": "code",
   "execution_count": 3,
   "metadata": {},
   "outputs": [],
   "source": [
    "import tensorflow as tf\n",
    "def graph(x):\n",
    "    n, _ = x.shape\n",
    "    prob = tf.zeros([n, 1], dtype = tf.float32)\n",
    "    for coef, intercept, weight in zip(data['coefs'], data['intercepts'], data['ens_weights']):\n",
    "        coef = tf.cast(coef, dtype = tf.float32)\n",
    "        coef = tf.reshape(coef, [-1, 1])\n",
    "        model_logit = x @ coef + tf.cast(intercept, dtype = tf.float32)\n",
    "        model_prob = tf.exp(model_logit) / (1 + tf.exp(model_logit))\n",
    "        prob += model_prob * tf.cast(weight, dtype = tf.float32)\n",
    "    return tf.concat([1-prob, prob], axis = 1)"
   ]
  },
  {
   "cell_type": "code",
   "execution_count": 5,
   "metadata": {},
   "outputs": [
    {
     "output_type": "execute_result",
     "data": {
      "text/plain": "<tf.Tensor: shape=(100, 2), dtype=float32, numpy=\narray([[5.26580811e-02, 9.47341919e-01],\n       [9.84162748e-01, 1.58372801e-02],\n       [4.37700748e-01, 5.62299252e-01],\n       [8.61591697e-02, 9.13840830e-01],\n       [9.82932806e-01, 1.70671642e-02],\n       [8.67677689e-01, 1.32322341e-01],\n       [5.40668726e-01, 4.59331244e-01],\n       [9.10726666e-01, 8.92733410e-02],\n       [1.00920618e-01, 8.99079382e-01],\n       [1.24382913e-01, 8.75617087e-01],\n       [2.67193377e-01, 7.32806623e-01],\n       [7.76839852e-01, 2.23160133e-01],\n       [9.79957044e-01, 2.00429577e-02],\n       [9.05347407e-01, 9.46526080e-02],\n       [1.40269399e-01, 8.59730601e-01],\n       [9.83048022e-01, 1.69519745e-02],\n       [2.95132399e-02, 9.70486760e-01],\n       [1.84688568e-02, 9.81531143e-01],\n       [6.94157958e-01, 3.05842012e-01],\n       [9.22045231e-01, 7.79547542e-02],\n       [6.29081130e-02, 9.37091887e-01],\n       [2.91490555e-02, 9.70850945e-01],\n       [9.46654677e-01, 5.33452928e-02],\n       [4.08021808e-02, 9.59197819e-01],\n       [3.90427947e-01, 6.09572053e-01],\n       [1.00756288e-01, 8.99243712e-01],\n       [9.99740362e-01, 2.59614841e-04],\n       [2.21534848e-01, 7.78465152e-01],\n       [8.78872156e-01, 1.21127859e-01],\n       [9.88651931e-01, 1.13480967e-02],\n       [9.23997641e-01, 7.60023594e-02],\n       [6.81717992e-02, 9.31828201e-01],\n       [9.86704409e-01, 1.32955890e-02],\n       [1.96024776e-02, 9.80397522e-01],\n       [1.61009669e-01, 8.38990331e-01],\n       [8.48238468e-02, 9.15176153e-01],\n       [9.23400581e-01, 7.65994042e-02],\n       [9.21605408e-01, 7.83946067e-02],\n       [8.11763406e-02, 9.18823659e-01],\n       [4.36085463e-02, 9.56391454e-01],\n       [9.62871790e-01, 3.71281877e-02],\n       [4.02682960e-01, 5.97317040e-01],\n       [9.10182655e-01, 8.98173228e-02],\n       [4.41801727e-01, 5.58198273e-01],\n       [9.82625544e-01, 1.73744708e-02],\n       [9.38531637e-01, 6.14683330e-02],\n       [6.53006792e-01, 3.46993238e-01],\n       [8.11169863e-01, 1.88830107e-01],\n       [4.28012550e-01, 5.71987450e-01],\n       [4.45842743e-05, 9.99955416e-01],\n       [9.08144891e-01, 9.18551311e-02],\n       [9.66534853e-01, 3.34651209e-02],\n       [9.36500609e-01, 6.34993911e-02],\n       [9.44720626e-01, 5.52793927e-02],\n       [6.84545875e-01, 3.15454125e-01],\n       [2.06484199e-02, 9.79351580e-01],\n       [8.23563695e-01, 1.76436320e-01],\n       [3.14533114e-02, 9.68546689e-01],\n       [5.02382696e-01, 4.97617304e-01],\n       [5.80027699e-01, 4.19972301e-01],\n       [1.25567019e-01, 8.74432981e-01],\n       [1.20399058e-01, 8.79600942e-01],\n       [3.44858170e-02, 9.65514183e-01],\n       [9.22475457e-01, 7.75245205e-02],\n       [8.28815818e-01, 1.71184152e-01],\n       [2.42875040e-01, 7.57124960e-01],\n       [9.20072258e-01, 7.99277499e-02],\n       [7.47684836e-01, 2.52315164e-01],\n       [7.12440193e-01, 2.87559807e-01],\n       [1.68400228e-01, 8.31599772e-01],\n       [9.92674053e-01, 7.32594728e-03],\n       [2.01840341e-01, 7.98159659e-01],\n       [9.35683250e-01, 6.43167719e-02],\n       [1.22308969e-01, 8.77691031e-01],\n       [9.29920316e-01, 7.00796917e-02],\n       [1.10310495e-01, 8.89689505e-01],\n       [9.42634702e-01, 5.73652759e-02],\n       [1.30034089e-01, 8.69965911e-01],\n       [1.03642344e-01, 8.96357656e-01],\n       [4.20777380e-01, 5.79222620e-01],\n       [1.44860744e-01, 8.55139256e-01],\n       [9.96627688e-01, 3.37230950e-03],\n       [9.99083102e-01, 9.16885678e-04],\n       [9.63335693e-01, 3.66642997e-02],\n       [8.11510086e-02, 9.18848991e-01],\n       [8.79339814e-01, 1.20660193e-01],\n       [9.14303064e-02, 9.08569694e-01],\n       [7.92456865e-02, 9.20754313e-01],\n       [5.72977662e-02, 9.42702234e-01],\n       [9.65335846e-01, 3.46641280e-02],\n       [9.47010756e-01, 5.29892743e-02],\n       [9.73733068e-01, 2.62669101e-02],\n       [9.93439555e-01, 6.56043738e-03],\n       [7.11933374e-02, 9.28806663e-01],\n       [9.68308449e-02, 9.03169155e-01],\n       [1.10741556e-01, 8.89258444e-01],\n       [9.95654762e-01, 4.34523309e-03],\n       [2.50096083e-01, 7.49903917e-01],\n       [4.07556891e-02, 9.59244311e-01],\n       [8.53683412e-01, 1.46316603e-01]], dtype=float32)>"
     },
     "metadata": {},
     "execution_count": 5
    }
   ],
   "source": [
    "import numpy as np\n",
    "graph(tf.cast(np.random.normal(size = (100, 39)), dtype = tf.float32))"
   ]
  },
  {
   "cell_type": "code",
   "execution_count": null,
   "metadata": {},
   "outputs": [],
   "source": []
  }
 ],
 "metadata": {
  "language_info": {
   "codemirror_mode": {
    "name": "ipython",
    "version": 3
   },
   "file_extension": ".py",
   "mimetype": "text/x-python",
   "name": "python",
   "nbconvert_exporter": "python",
   "pygments_lexer": "ipython3",
   "version": "3.7.4-final"
  },
  "orig_nbformat": 2,
  "kernelspec": {
   "name": "python37464bit48aa32fa6dba4f1bbd692e320b15fd93",
   "display_name": "Python 3.7.4 64-bit"
  }
 },
 "nbformat": 4,
 "nbformat_minor": 2
}