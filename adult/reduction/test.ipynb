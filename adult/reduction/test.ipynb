{
 "cells": [
  {
   "cell_type": "code",
   "execution_count": 1,
   "metadata": {},
   "outputs": [
    {
     "output_type": "stream",
     "name": "stdout",
     "text": "\nFair on all test\nAccuracy is 0.830625\nBalanced accuracy is 0.740520\nGap RMS is 0.031331694965181595\nMean absolute gap is 0.025579379162447194\nMax gap is 0.043672761130861715\nAverage odds difference is 0.018093\nEqual opportunity difference is 0.043673\nStatistical parity difference is -0.097299\n"
    }
   ],
   "source": [
    "from extract_reductions_adult import *"
   ]
  },
  {
   "cell_type": "code",
   "execution_count": 8,
   "metadata": {},
   "outputs": [
    {
     "output_type": "execute_result",
     "data": {
      "text/plain": "[[0.37048889356855286,\n  0.7308070431791421,\n  2.333673211318028,\n  0.2427125666705313,\n  0.3702697747197795,\n  0.5789813784857318,\n  -0.19385643445079598,\n  -0.10337929364832746,\n  -0.021800306966834073,\n  -0.7080693887502542,\n  -0.2792874862478641,\n  -0.8237897251416941,\n  -0.9034522443478414,\n  1.2216912673829858,\n  1.1998498475960635,\n  -0.29770118816385066,\n  -1.2421449643041873,\n  -0.6344081572201314,\n  -0.8950358176774175,\n  -0.04969160210912986,\n  0.08384247584615481,\n  0.09253037791968462,\n  0.7520823705325481,\n  -1.0170637128007387,\n  -0.6220208454827904,\n  -0.2848880928304454,\n  -0.6185748425886097,\n  -1.784071310636403,\n  0.5591501177437977,\n  0.5959449536306793,\n  0.23905086579725132,\n  0.5356767652325941,\n  -0.03316877697916665,\n  -0.23077918285228707,\n  -0.04920769553343867,\n  -0.7667875065498329,\n  -1.1296841230128574,\n  -0.06977866217923372,\n  0.6950359134014691],\n [0.3656486777095961,\n  0.7260134153536855,\n  2.3229935701289954,\n  0.23831354198213883,\n  0.369981617600329,\n  0.6324353109011392,\n  -0.16883869231077758,\n  -0.10387435400769078,\n  -0.030386326958276633,\n  -0.7195060756878642,\n  -0.2536056581189093,\n  -0.9132855948881301,\n  -0.9225280540426397,\n  1.2117801595835263,\n  1.1400809453602694,\n  -0.2186057721307541,\n  -1.2465023286404495,\n  -0.5745878211059976,\n  -0.9466985201033389,\n  -0.06016783416396892,\n  0.06108980874640389,\n  0.09231673714371955,\n  0.7312449476924221,\n  -1.0203370701502847,\n  -0.6259433713292876,\n  -0.2697147881434626,\n  -0.5770353860670002,\n  -1.7722118343483848,\n  0.5496190902988558,\n  0.5931200532340268,\n  0.23755875720013783,\n  0.5342437909852595,\n  -0.030844292176475312,\n  -0.16846274615246107,\n  -0.07954231644289853,\n  -0.7488193057489414,\n  -1.184775189186239,\n  -0.02672802852300579,\n  0.6512661949778303],\n [0.3654016974940926,\n  0.7149879450895976,\n  2.288498385746786,\n  0.23128864376236824,\n  0.3609004463370772,\n  0.6658953032334253,\n  -0.12560831303681888,\n  -0.08128231833389422,\n  -0.025268954098666464,\n  -0.7065730602936894,\n  -0.21386301903309743,\n  -0.927538188615932,\n  -0.9019219527739653,\n  1.1589392654739847,\n  1.074971224831062,\n  -0.16274004920039184,\n  -1.1840615349247545,\n  -0.5187388495287214,\n  -0.8806866540592675,\n  -0.06176998616948488,\n  0.007915020974981249,\n  0.04746067520628322,\n  0.7003098695581528,\n  -1.0527790115810252,\n  -0.6684815652736101,\n  -0.2858472951530456,\n  -0.47511604627355974,\n  -1.3510780071620578,\n  0.5328218497948144,\n  0.575012015868505,\n  0.20004371925602984,\n  0.49383453306630937,\n  -0.07656432229621529,\n  -0.31251407458098923,\n  -0.1847927378326827,\n  -0.6891733808734857,\n  -1.1448959543777288,\n  0.06274887664035929,\n  0.8543887208351315],\n [0.1796067850346189,\n  0.42367738656676907,\n  0.8352122492745716,\n  0.15417902304144776,\n  0.10526592374559537,\n  0.18370566811051323,\n  -0.0407933800064572,\n  0.07618364472936777,\n  0.17229083994137223,\n  -0.4276243253934955,\n  -0.15906213807767716,\n  -0.4210822990607669,\n  -0.18380839371639,\n  0.15014038127628676,\n  -0.17850686633633742,\n  -0.32247210710842944,\n  -0.6250254222622146,\n  -0.14548947404902104,\n  0.6887798924400131,\n  0.48683046392592333,\n  -0.07775628547953677,\n  -0.5974051470570328,\n  0.39875671671506097,\n  -1.2070641759911256,\n  -1.2652945253561891,\n  -0.6733471371643078,\n  -0.029696399958455282,\n  2.4127743244141215,\n  0.2945549402941142,\n  -0.08926805716008157,\n  0.15268655808713297,\n  0.2813267621840502,\n  -0.7034800272142768,\n  0.25847082242361885,\n  -0.43277898802866954,\n  -0.3873293654330941,\n  -0.26883554899787215,\n  0.4711325161452313,\n  -0.25704142586438566],\n [0.2417159438783612,\n  0.45573739847799627,\n  1.17750004848824,\n  0.17564572959400887,\n  0.1719771181227737,\n  0.38480461747475764,\n  0.04783681416674295,\n  0.0910153088836951,\n  0.17315535065326132,\n  -0.4679810245761156,\n  -0.054092347165185885,\n  -0.7843339754982103,\n  -0.4279414853363686,\n  0.009724503864278363,\n  -0.04461665131762331,\n  -0.10568297133584023,\n  -0.5695673957674435,\n  0.08562091989318862,\n  0.4428678239385898,\n  0.3731343181021639,\n  -0.18433144226039042,\n  -0.5522743497856583,\n  0.3831909639280746,\n  -1.2784300322633075,\n  -1.1267438879884752,\n  -0.5378614525344241,\n  -0.05251041906299475,\n  2.494379724141253,\n  0.2598615950032126,\n  -0.06316054996532679,\n  0.08201146578220889,\n  0.2641591469865639,\n  -0.6710203361392053,\n  0.048137189240805206,\n  -0.716164312583668,\n  -0.23685135620676237,\n  -0.6066278061568176,\n  0.8294878711274638,\n  0.07242315851660555]]"
     },
     "metadata": {},
     "execution_count": 8
    }
   ],
   "source": [
    "weights = [a.tolist() for a in coefs]\n",
    "weights"
   ]
  },
  {
   "cell_type": "code",
   "execution_count": 9,
   "metadata": {},
   "outputs": [],
   "source": [
    "data = {'ens_weights': ens_weights, 'intercepts': intercepts, 'coefs': weights}"
   ]
  },
  {
   "cell_type": "code",
   "execution_count": 11,
   "metadata": {},
   "outputs": [],
   "source": [
    "import json\n",
    "with open('data.txt', 'w') as f:\n",
    "    json.dump(data, f)\n",
    "f.close()"
   ]
  },
  {
   "cell_type": "code",
   "execution_count": 12,
   "metadata": {},
   "outputs": [],
   "source": [
    "with open('data.txt', 'r') as f:\n",
    "    data1 = json.load(f)\n",
    "f.close()"
   ]
  },
  {
   "cell_type": "code",
   "execution_count": 15,
   "metadata": {},
   "outputs": [],
   "source": [
    "with open('text.txt', 'r') as f:\n",
    "    "
   ]
  },
  {
   "cell_type": "code",
   "execution_count": 1,
   "metadata": {},
   "outputs": [
    {
     "output_type": "stream",
     "name": "stdout",
     "text": "Number of cpus : 8\n"
    }
   ],
   "source": [
    "import numpy as np\n",
    "import tensorflow as tf\n",
    "from adult_modified import preprocess_adult_data\n",
    "from sklearn import linear_model\n",
    "import model\n",
    "import utils\n",
    "import time\n",
    "import multiprocessing as mp\n",
    "import random\n",
    "import matplotlib.pyplot as plt\n",
    "import scipy\n",
    "plt.ioff()\n",
    "\n",
    "\n",
    "seed = 1\n",
    "tf.random.set_seed(seed)\n",
    "np.random.seed(seed)\n",
    "dataset_orig_train, dataset_orig_test = preprocess_adult_data(seed = seed)\n",
    "\n",
    "x_unprotected_train, x_protected_train = dataset_orig_train.features[:, :39], dataset_orig_train.features[:, 39:]\n",
    "x_unprotected_test, x_protected_test = dataset_orig_test.features[:, :39], dataset_orig_test.features[:, 39:]\n",
    "y_train, y_test = dataset_orig_train.labels.reshape((-1,)), dataset_orig_test.labels.reshape((-1,))\n",
    "\n",
    "\n",
    "\n",
    "\n",
    "\n",
    "## Running linear regression to get sensetive directions \n",
    "\n",
    "protected_regression = linear_model.LinearRegression(fit_intercept = False)\n",
    "protected_regression.fit(x_unprotected_train, x_protected_train)\n",
    "sensetive_directions = protected_regression.coef_\n",
    "\n",
    "sensetive_directions = scipy.linalg.orth(sensetive_directions.T).T\n",
    "for i, s in enumerate(sensetive_directions):\n",
    "    while np.linalg.norm(s) != 1:\n",
    "        s = s/ np.linalg.norm(s)\n",
    "    sensetive_directions[i] = s\n",
    "\n",
    "\n",
    "\n",
    "\n",
    "\n",
    "unprotected_directions = utils.projection_matrix(sensetive_directions)\n",
    "protected_directions = utils.projection_matrix2(sensetive_directions)\n",
    "\n",
    "\n",
    "\n",
    "# Casing to tensor \n",
    "y_train, y_test = y_train.astype('int32'), y_test.astype('int32')\n",
    "x_unprotected_train, x_unprotected_test = tf.cast(x_unprotected_train, dtype = tf.float32), tf.cast(x_unprotected_test, dtype = tf.float32)\n",
    "y_train, y_test = tf.one_hot(y_train, 2), tf.one_hot(y_test, 2)\n",
    "unprotected_directions = tf.cast(unprotected_directions, dtype = tf.float32)\n",
    "protected_directions = tf.cast(protected_directions, dtype = tf.float32)\n",
    "sensetive_directions = tf.cast(sensetive_directions, dtype = tf.float32)\n",
    "\n",
    "\n",
    "\n",
    "graph = model.model # use for unfair algo\n",
    "#graph = cl.Classifier(init_graph, tf.matmul(x_unprotected_train, unprotected_directions), \n",
    "#                        y_train, tf.matmul(x_unprotected_test, unprotected_directions), y_test, num_steps = 10000) # for fair algo\n",
    "\n",
    "\n",
    "\n",
    "def sample_perturbation(data_point, regularizer = 5, learning_rate = 5e-2, num_steps = 200):\n",
    "    x, y = data_point\n",
    "    x = tf.reshape(x, (1, -1))\n",
    "    y = tf.reshape(y, (1, -1))\n",
    "    x_start = x\n",
    "    x_fair = x\n",
    "    x_base = x\n",
    "    #x += tf.cast(np.random.normal(size=(1, 39)), dtype = tf.float32)*1e-9\n",
    "    for _ in range(num_steps):\n",
    "        with tf.GradientTape() as g:\n",
    "            g.watch(x_fair)\n",
    "            prob = graph(x_fair)\n",
    "            perturb = utils.unprotected_direction(x_fair-x_start, sensetive_directions)\n",
    "            loss = utils.EntropyLoss(y, prob)  - regularizer * tf.norm(perturb)**2\n",
    "\n",
    "        gradient = g.gradient(loss, x_fair)\n",
    "        x_fair = x_fair + learning_rate * gradient#utils.protected_direction(gradient, sensetive_directions)\n",
    "\n",
    "    for _ in range(num_steps):\n",
    "        with tf.GradientTape() as g:\n",
    "            g.watch(x_base)\n",
    "            prob = graph(x_base)\n",
    "            perturb = x_base-x_start\n",
    "            loss = utils.EntropyLoss(y, prob)  - regularizer * tf.norm(perturb)**2\n",
    "\n",
    "        gradient = g.gradient(loss, x_base)\n",
    "        x_base = x_base + learning_rate * gradient\n",
    "\n",
    "    \n",
    "\n",
    "    return_loss = utils.EntropyLoss(y, graph(x_fair)) / utils.EntropyLoss(y, graph(x_base))\n",
    "    \n",
    "    return return_loss.numpy()\n",
    "\n",
    "\n",
    "\n",
    "\n",
    "cpus = mp.cpu_count()\n",
    "print(f'Number of cpus : {cpus}')\n",
    "start_time = time.time()\n",
    "with mp.Pool(cpus) as pool:\n",
    "    perturbed_test_samples = pool.map(sample_perturbation, zip(x_unprotected_test[:100], y_test[:100]))"
   ]
  },
  {
   "cell_type": "code",
   "execution_count": 2,
   "metadata": {},
   "outputs": [
    {
     "output_type": "execute_result",
     "data": {
      "text/plain": "[3.9691126,\n 13.925428,\n 2.2100072,\n 11.714804,\n 41.950523,\n 4.8249426,\n 1.5018934,\n 17.350945,\n 46.654392,\n 24.01961,\n 21.631062,\n 1.4258924,\n 28.703575,\n 49.158707,\n 23.06944,\n 13.418418,\n 21.703249,\n 4.696373,\n 34.581955,\n 38.23759,\n 21.755995,\n 29.909342,\n 3.3940756,\n 1.4462055,\n 14.908122,\n 3.8899705,\n 12.659021,\n 10.2832365,\n 46.990986,\n 10.470563,\n 19.086178,\n 1.4684105,\n 4.788865,\n 1.6900117,\n 13.212728,\n 19.994469,\n 12.793514,\n 16.327148,\n 14.604453,\n 2.1824641,\n 7.4576597,\n 1.4507582,\n 1.5765291,\n 8.616739,\n 12.0623665,\n 8.860075,\n 45.78071,\n 11.457769,\n 3.4296248,\n 7.197546,\n 49.55938,\n 18.635733,\n 1.4855579,\n 4.1576357,\n 1.6539228,\n 4.264617,\n 24.922611,\n 4.329921,\n 7.640199,\n 5.394464,\n 5.642277,\n 3.3313859,\n 6.9149437,\n 2.206439,\n 5.265876,\n 17.215036,\n 5.276814,\n 3.7212853,\n 12.701902,\n 9.59495,\n 43.202404,\n 1.2672855,\n 23.82768,\n 2.075856,\n 7.544819,\n 5.687431,\n 17.969654,\n 2.9267294,\n 4.2355456,\n 2.102731,\n 5.9052534,\n 44.543736,\n 4.636503,\n 2.069585,\n 45.07301,\n 22.537706,\n 7.1820183,\n 6.4412565,\n 13.048092,\n 34.60447,\n 20.83245,\n 39.247734,\n 8.72277,\n 4.286481,\n 22.921894,\n 42.53271,\n 28.115602,\n 26.094656,\n 1.329743,\n 15.450868]"
     },
     "metadata": {},
     "execution_count": 2
    }
   ],
   "source": [
    "perturbed_test_samples"
   ]
  },
  {
   "cell_type": "code",
   "execution_count": 3,
   "metadata": {},
   "outputs": [],
   "source": [
    "import numpy as np\n",
    "import tensorflow as tf\n",
    "from adult_modified import preprocess_adult_data\n",
    "from sklearn import linear_model\n",
    "import model\n",
    "import utils\n",
    "import time\n",
    "import multiprocessing as mp\n",
    "import random\n",
    "import matplotlib.pyplot as plt\n",
    "import scipy\n",
    "plt.ioff()\n",
    "\n",
    "\n",
    "seed = 1\n",
    "tf.random.set_seed(seed)\n",
    "np.random.seed(seed)\n",
    "dataset_orig_train, dataset_orig_test = preprocess_adult_data(seed = seed)\n",
    "\n",
    "x_unprotected_train, x_protected_train = dataset_orig_train.features[:, :39], dataset_orig_train.features[:, 39:]\n",
    "x_unprotected_test, x_protected_test = dataset_orig_test.features[:, :39], dataset_orig_test.features[:, 39:]\n",
    "y_train, y_test = dataset_orig_train.labels.reshape((-1,)), dataset_orig_test.labels.reshape((-1,))\n",
    "\n",
    "\n",
    "\n",
    "\n",
    "\n"
   ]
  },
  {
   "cell_type": "code",
   "execution_count": 9,
   "metadata": {},
   "outputs": [],
   "source": [
    "\n",
    "\n",
    "\n",
    "## Running linear regression to get sensetive directions \n",
    "\n",
    "protected_regression = linear_model.LogisticRegression(fit_intercept = False)\n",
    "protected_regression.fit(x_unprotected_train, x_protected_train[:, 0])\n",
    "sensetive_directions = []\n",
    "sensetive_directions.append(protected_regression.coef_[0])\n",
    "\n",
    "protected_regression.fit(x_unprotected_train, x_protected_train[:, 1])\n",
    "sensetive_directions.append(protected_regression.coef_[0])"
   ]
  },
  {
   "cell_type": "code",
   "execution_count": 11,
   "metadata": {},
   "outputs": [
    {
     "output_type": "execute_result",
     "data": {
      "text/plain": "array([[-8.72337824e-02,  4.43155554e-02,  7.94081980e-02,\n         7.41708183e-02,  2.79834553e-01,  2.89992539e-01,\n        -2.82469875e-01, -5.27195222e-02,  8.62391393e-01,\n         6.11585088e-01,  2.81603683e-02, -4.83852113e-01,\n         1.94264721e-01, -2.66407228e-01,  2.94272156e-01,\n         4.90837119e-01,  6.78182725e-01,  2.64240948e-01,\n        -6.82302564e-01, -1.54839649e+00,  9.28693331e-01,\n         1.84398566e+00, -6.60123060e-01,  1.76797052e+00,\n         1.38518756e+00,  9.80251082e-02, -6.78558724e-01,\n        -2.52616422e+00, -8.05093252e-01,  6.31757178e-01,\n        -7.08884376e-01, -6.61131552e-01,  1.90582019e+00,\n         7.43438550e+00,  9.46283637e-02,  9.76834406e-02,\n         1.27018253e-01, -1.18397476e+00, -5.59665292e+00],\n       [-8.56607133e-02,  5.03699733e-02, -4.87509960e-04,\n         2.76424404e-02, -1.81455095e-03, -3.09012913e-01,\n         1.88892616e-01,  5.58788899e-01,  9.18391462e-01,\n         1.00298973e+00,  1.93522269e-01,  5.21701744e-01,\n         9.30570502e-01,  6.63743940e-01,  2.33490931e-01,\n         4.45747011e-03,  3.26135299e-01, -1.24702083e-02,\n         9.29345873e-01,  1.26333835e-01,  9.07790861e-01,\n         4.34645656e-01,  4.89671311e-01,  6.69106321e-01,\n         4.87207725e-02, -2.11598946e-01, -2.02670898e-01,\n        -1.80040863e-01,  3.43208268e-01, -4.16392466e-02,\n         4.13859471e-01,  2.25176637e-01,  5.27106271e-02,\n         1.31067520e+00,  6.65945824e-01, -5.68254042e-02,\n         5.92879146e-01, -2.06356483e-01,  7.68955520e-01]])"
     },
     "metadata": {},
     "execution_count": 11
    }
   ],
   "source": [
    "sensetive_directions=np.array(sensetive_directions)"
   ]
  },
  {
   "cell_type": "code",
   "execution_count": null,
   "metadata": {},
   "outputs": [],
   "source": []
  }
 ],
 "metadata": {
  "language_info": {
   "codemirror_mode": {
    "name": "ipython",
    "version": 3
   },
   "file_extension": ".py",
   "mimetype": "text/x-python",
   "name": "python",
   "nbconvert_exporter": "python",
   "pygments_lexer": "ipython3",
   "version": "3.7.4-final"
  },
  "orig_nbformat": 2,
  "kernelspec": {
   "name": "python37464bit48aa32fa6dba4f1bbd692e320b15fd93",
   "display_name": "Python 3.7.4 64-bit"
  }
 },
 "nbformat": 4,
 "nbformat_minor": 2
}