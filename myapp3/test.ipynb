{
 "cells": [
  {
   "cell_type": "code",
   "execution_count": 1,
   "metadata": {},
   "outputs": [],
   "source": [
    "import numpy as np\n",
    "import tensorflow as tf\n",
    "from adult_modified import preprocess_adult_data\n",
    "from sklearn import linear_model\n",
    "import classifier as cl\n",
    "import utils\n",
    "import time\n",
    "import multiprocessing as mp\n",
    "import random\n",
    "import matplotlib.pyplot as plt\n",
    "import scipy\n",
    "plt.ioff()\n",
    "\n",
    "\n",
    "seed = 1\n",
    "tf.random.set_seed(seed)\n",
    "np.random.seed(seed)\n",
    "dataset_orig_train, dataset_orig_test = preprocess_adult_data(seed = seed)\n",
    "\n",
    "x_unprotected_train, x_protected_train = dataset_orig_train.features[:, :39], dataset_orig_train.features[:, 39:]\n",
    "x_unprotected_test, x_protected_test = dataset_orig_test.features[:, :39], dataset_orig_test.features[:, 39:]\n",
    "y_train, y_test = dataset_orig_train.labels.reshape((-1,)), dataset_orig_test.labels.reshape((-1,))\n",
    "\n",
    "\n",
    "\n",
    "\n",
    "\n",
    "## Running linear regression to get sensetive directions \n",
    "\n",
    "protected_regression = linear_model.LinearRegression(fit_intercept = False)\n",
    "protected_regression.fit(x_unprotected_train, x_protected_train)\n",
    "sensetive_directions = protected_regression.coef_\n",
    "\n",
    "\n",
    "\n",
    "\n",
    "\n",
    "\n",
    "\n",
    "unprotected_directions = utils.projection_matrix(sensetive_directions)\n",
    "protected_directions = np.identity(39) - unprotected_directions\n",
    "\n",
    "\n",
    "\n",
    "# Casing to tensor \n",
    "y_train, y_test = y_train.astype('int32'), y_test.astype('int32')\n",
    "x_unprotected_train, x_unprotected_test = tf.cast(x_unprotected_train, dtype = tf.float32), tf.cast(x_unprotected_test, dtype = tf.float32)\n",
    "y_train, y_test = tf.one_hot(y_train, 2), tf.one_hot(y_test, 2)\n",
    "unprotected_directions = tf.cast(unprotected_directions, dtype = tf.float32)\n",
    "protected_directions = tf.cast(protected_directions, dtype = tf.float32)\n",
    "\n",
    "init_graph = utils.ClassifierGraph(50, 2)\n",
    "graph = cl.Classifier(init_graph, x_unprotected_train, y_train, x_unprotected_test, y_test, num_steps = 10000) # use for unfair algo\n",
    "#graph = cl.Classifier(init_graph, tf.matmul(x_unprotected_train, unprotected_directions), \n",
    "#                        y_train, tf.matmul(x_unprotected_test, unprotected_directions), y_test, num_steps = 10000) # for fair algo\n"
   ]
  },
  {
   "cell_type": "code",
   "execution_count": 2,
   "metadata": {
    "tags": [
     "outputPrepend",
     "outputPrepend",
     "outputPrepend",
     "outputPrepend",
     "outputPrepend"
    ]
   },
   "outputs": [],
   "source": [
    "num_steps, learning_rate = 100, 1e-3\n",
    "x, y = x_unprotected_test[1], y_test[1]\n",
    "x = tf.reshape(x, (1, -1))\n",
    "y = tf.reshape(y, (1, -1))\n",
    "x_start = x\n",
    "for _ in range(num_steps):\n",
    "    with tf.GradientTape() as g:\n",
    "        g.watch(x)\n",
    "        prob = graph(x)\n",
    "        #prob = graph(tf.matmul(x, unprotected_directions))\n",
    "        loss = utils.EntropyLoss(y, prob)\n",
    "\n",
    "    gradient = g.gradient(loss, x)\n",
    "    x = x + learning_rate * tf.matmul(gradient, protected_directions)\n"
   ]
  },
  {
   "cell_type": "code",
   "execution_count": 4,
   "metadata": {},
   "outputs": [
    {
     "output_type": "execute_result",
     "data": {
      "text/plain": "<tf.Tensor: shape=(1, 39), dtype=float32, numpy=\narray([[ 2.6533392e-01, -4.3666583e-01, -1.4775421e-01, -2.1962807e-01,\n        -7.7750988e-02, -1.6928021e-02, -1.5180545e-02, -1.8974962e-02,\n         9.7575372e-01, -2.3053713e-02, -1.7137798e-02, -2.1871617e-02,\n        -2.2519259e-02, -1.8565245e-02,  9.7972530e-01, -2.1704879e-02,\n        -2.5267135e-02, -1.6877122e-02, -1.2184309e-02,  5.9662857e-03,\n        -3.2492440e-02, -2.0311510e-02,  9.9241918e-01, -2.0599620e-02,\n        -2.2240939e-02, -9.5532322e-03,  1.0643863e-04,  1.7797017e-02,\n        -5.0067287e-03, -1.4038100e-02, -5.7904567e-03, -5.4158401e-03,\n        -1.8232634e-02,  9.4151223e-01, -2.7182851e-02, -2.2569226e-02,\n        -2.7207756e-02, -5.2475617e-03,  3.3025681e-03]], dtype=float32)>"
     },
     "metadata": {},
     "execution_count": 4
    }
   ],
   "source": [
    "x"
   ]
  },
  {
   "cell_type": "code",
   "execution_count": 5,
   "metadata": {},
   "outputs": [
    {
     "output_type": "execute_result",
     "data": {
      "text/plain": "<tf.Tensor: shape=(1, 39), dtype=float32, numpy=\narray([[ 0.26477048, -0.43578398, -0.14741328, -0.219069  , -0.0756966 ,\n         0.        ,  0.        ,  0.        ,  1.        ,  0.        ,\n         0.        ,  0.        ,  0.        ,  0.        ,  1.        ,\n         0.        ,  0.        ,  0.        ,  0.        ,  0.        ,\n         0.        ,  0.        ,  1.        ,  0.        ,  0.        ,\n         0.        ,  0.        ,  0.        ,  0.        ,  0.        ,\n         0.        ,  0.        ,  0.        ,  1.        ,  0.        ,\n         0.        ,  0.        ,  0.        ,  0.        ]],\n      dtype=float32)>"
     },
     "metadata": {},
     "execution_count": 5
    }
   ],
   "source": [
    "x_start"
   ]
  },
  {
   "cell_type": "code",
   "execution_count": 6,
   "metadata": {},
   "outputs": [
    {
     "output_type": "execute_result",
     "data": {
      "text/plain": "<tf.Tensor: shape=(1, 39), dtype=float32, numpy=\narray([[-0.00047439,  0.00052511,  0.00014341,  0.00030511,  0.00090139,\n         0.01022093,  0.01117729,  0.01390483,  0.01681653,  0.0164854 ,\n         0.01206862,  0.01585362,  0.01668185,  0.01412187,  0.01342954,\n         0.01323625,  0.0161708 ,  0.01078461,  0.01210259, -0.00054525,\n         0.02112096,  0.01201916,  0.00643077,  0.01257659,  0.01193   ,\n         0.00546239,  0.00099759, -0.00709223,  0.00499307,  0.00803421,\n         0.0054733 ,  0.00489773,  0.01022929,  0.03442483,  0.01854291,\n         0.01393437,  0.01841727,  0.0057424 ,  0.00546579]],\n      dtype=float32)>"
     },
     "metadata": {},
     "execution_count": 6
    }
   ],
   "source": [
    "tf.matmul(x-x_start, unprotected_directions)"
   ]
  },
  {
   "cell_type": "code",
   "execution_count": 7,
   "metadata": {},
   "outputs": [
    {
     "output_type": "execute_result",
     "data": {
      "text/plain": "<tf.Tensor: shape=(), dtype=float32, numpy=0.022236705>"
     },
     "metadata": {},
     "execution_count": 7
    }
   ],
   "source": [
    "utils.EntropyLoss(y, graph(tf.matmul(x, unprotected_directions)))\\\n",
    "         - utils.EntropyLoss(y, graph(tf.matmul(x_start, unprotected_directions)))\n"
   ]
  },
  {
   "cell_type": "code",
   "execution_count": 3,
   "metadata": {},
   "outputs": [
    {
     "output_type": "execute_result",
     "data": {
      "text/plain": "<tf.Tensor: shape=(), dtype=float32, numpy=0.05385244>"
     },
     "metadata": {},
     "execution_count": 3
    }
   ],
   "source": [
    "utils.EntropyLoss(y, graph(x))\\\n",
    "         - utils.EntropyLoss(y, graph(x_start))"
   ]
  },
  {
   "cell_type": "code",
   "execution_count": 1,
   "metadata": {},
   "outputs": [],
   "source": [
    "import numpy as np\n",
    "import tensorflow as tf\n",
    "from adult_modified import preprocess_adult_data\n",
    "from sklearn import linear_model\n",
    "import classifier as cl\n",
    "import utils\n",
    "import time\n",
    "import multiprocessing as mp\n",
    "import random\n",
    "import matplotlib.pyplot as plt\n",
    "import scipy\n",
    "plt.ioff()\n",
    "\n",
    "\n",
    "seed = 1\n",
    "tf.random.set_seed(seed)\n",
    "np.random.seed(seed)\n",
    "dataset_orig_train, dataset_orig_test = preprocess_adult_data(seed = seed)\n",
    "\n",
    "x_unprotected_train, x_protected_train = dataset_orig_train.features[:, :39], dataset_orig_train.features[:, 39:]\n",
    "x_unprotected_test, x_protected_test = dataset_orig_test.features[:, :39], dataset_orig_test.features[:, 39:]\n",
    "y_train, y_test = dataset_orig_train.labels.reshape((-1,)), dataset_orig_test.labels.reshape((-1,))\n",
    "\n",
    "\n",
    "\n",
    "\n",
    "\n",
    "## Running linear regression to get sensetive directions \n",
    "\n",
    "protected_regression = linear_model.LinearRegression(fit_intercept = False)\n",
    "protected_regression.fit(x_unprotected_train, x_protected_train)\n",
    "sensetive_directions = protected_regression.coef_\n"
   ]
  },
  {
   "cell_type": "code",
   "execution_count": 2,
   "metadata": {},
   "outputs": [],
   "source": [
    "b = utils.projection_matrix(sensetive_directions)"
   ]
  },
  {
   "cell_type": "code",
   "execution_count": 3,
   "metadata": {},
   "outputs": [
    {
     "output_type": "execute_result",
     "data": {
      "text/plain": "array([[ 0.20245267, -0.30859161, -0.4086419 , -0.47756082],\n       [-0.30859161,  0.29591482, -0.12035991, -0.20343759],\n       [-0.4086419 , -0.12035991,  0.78818497, -0.24348466],\n       [-0.47756082, -0.20343759, -0.24348466,  0.71344754]])"
     },
     "metadata": {},
     "execution_count": 3
    }
   ],
   "source": [
    "b"
   ]
  },
  {
   "cell_type": "code",
   "execution_count": 7,
   "metadata": {},
   "outputs": [
    {
     "output_type": "execute_result",
     "data": {
      "text/plain": "array([[-0.32881573, -0.30113751, -0.15724664, -0.20243993],\n       [-0.30113751,  0.0572471 , -0.16551515, -0.1747724 ],\n       [-0.15724664, -0.16551515, -0.07381006, -0.09749727],\n       [-0.20243993, -0.1747724 , -0.09749727, -0.12429582]])"
     },
     "metadata": {},
     "execution_count": 7
    }
   ],
   "source": [
    "b @ (np.identity(4) - b)"
   ]
  },
  {
   "cell_type": "code",
   "execution_count": 23,
   "metadata": {},
   "outputs": [
    {
     "output_type": "execute_result",
     "data": {
      "text/plain": "1.1873502888340997"
     },
     "metadata": {},
     "execution_count": 23
    }
   ],
   "source": [
    "a = sensetive_directions[1]\n",
    "np.linalg.norm(a)"
   ]
  },
  {
   "cell_type": "code",
   "execution_count": 24,
   "metadata": {},
   "outputs": [],
   "source": [
    "b = a/np.linalg.norm(a)"
   ]
  },
  {
   "cell_type": "code",
   "execution_count": 25,
   "metadata": {},
   "outputs": [
    {
     "output_type": "execute_result",
     "data": {
      "text/plain": "array([-0.00836832,  0.00488469, -0.00036053,  0.00204784, -0.00079   ,\n        0.09906782,  0.16485571,  0.20355781,  0.22418049,  0.23188209,\n        0.16533417,  0.22806128,  0.24837347,  0.21871065,  0.16354753,\n        0.13197801,  0.18244202,  0.12123263,  0.25065505,  0.08061395,\n        0.24693284,  0.10962203,  0.11441047,  0.12580005,  0.07351997,\n        0.04435442,  0.03950541,  0.03391   ,  0.10375105,  0.06545838,\n        0.10860299,  0.09320736,  0.07725045,  0.30867674,  0.23958481,\n        0.14369608,  0.23441425,  0.12798304,  0.26258444])"
     },
     "metadata": {},
     "execution_count": 25
    }
   ],
   "source": [
    "b"
   ]
  },
  {
   "cell_type": "code",
   "execution_count": 26,
   "metadata": {},
   "outputs": [
    {
     "output_type": "execute_result",
     "data": {
      "text/plain": "0.9999999999999999"
     },
     "metadata": {},
     "execution_count": 26
    }
   ],
   "source": [
    "np.linalg.norm(b)"
   ]
  },
  {
   "cell_type": "code",
   "execution_count": 27,
   "metadata": {},
   "outputs": [],
   "source": [
    "b = b/np.linalg.norm(b)"
   ]
  },
  {
   "cell_type": "code",
   "execution_count": 28,
   "metadata": {},
   "outputs": [
    {
     "output_type": "execute_result",
     "data": {
      "text/plain": "1.0"
     },
     "metadata": {},
     "execution_count": 28
    }
   ],
   "source": [
    "np.linalg.norm(b)"
   ]
  },
  {
   "cell_type": "code",
   "execution_count": 10,
   "metadata": {},
   "outputs": [],
   "source": [
    "import scipy\n",
    "a = np.array([[1,1], [0, 1], [1, 2]])\n",
    "b = scipy.linalg.orth(a)"
   ]
  },
  {
   "cell_type": "code",
   "execution_count": 11,
   "metadata": {},
   "outputs": [
    {
     "output_type": "execute_result",
     "data": {
      "text/plain": "array([[-0.49079864,  0.65252078],\n       [-0.31970025, -0.75130448],\n       [-0.81049889, -0.0987837 ]])"
     },
     "metadata": {},
     "execution_count": 11
    }
   ],
   "source": [
    "b"
   ]
  },
  {
   "cell_type": "code",
   "execution_count": 12,
   "metadata": {},
   "outputs": [
    {
     "output_type": "execute_result",
     "data": {
      "text/plain": "array([[ 0.66666667, -0.33333333,  0.33333333],\n       [-0.33333333,  0.66666667,  0.33333333],\n       [ 0.33333333,  0.33333333,  0.66666667]])"
     },
     "metadata": {},
     "execution_count": 12
    }
   ],
   "source": [
    "b @ b.T"
   ]
  },
  {
   "cell_type": "code",
   "execution_count": 4,
   "metadata": {},
   "outputs": [],
   "source": [
    "a = np.array([1,2])\n",
    "b = np.array([1, 2])"
   ]
  },
  {
   "cell_type": "code",
   "execution_count": 5,
   "metadata": {},
   "outputs": [
    {
     "output_type": "execute_result",
     "data": {
      "text/plain": "array([1, 4])"
     },
     "metadata": {},
     "execution_count": 5
    }
   ],
   "source": [
    "a * b"
   ]
  },
  {
   "cell_type": "code",
   "execution_count": null,
   "metadata": {},
   "outputs": [],
   "source": []
  }
 ],
 "metadata": {
  "language_info": {
   "codemirror_mode": {
    "name": "ipython",
    "version": 3
   },
   "file_extension": ".py",
   "mimetype": "text/x-python",
   "name": "python",
   "nbconvert_exporter": "python",
   "pygments_lexer": "ipython3",
   "version": "3.7.4-final"
  },
  "orig_nbformat": 2,
  "kernelspec": {
   "name": "python37464bit48aa32fa6dba4f1bbd692e320b15fd93",
   "display_name": "Python 3.7.4 64-bit"
  }
 },
 "nbformat": 4,
 "nbformat_minor": 2
}