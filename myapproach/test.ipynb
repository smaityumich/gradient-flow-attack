{
 "cells": [
  {
   "cell_type": "code",
   "execution_count": 1,
   "metadata": {},
   "outputs": [],
   "source": [
    "import numpy as np\n",
    "import tensorflow as tf\n",
    "from adult_modified import preprocess_adult_data\n",
    "from sklearn import linear_model\n",
    "import classifier as cl\n",
    "import utils\n",
    "import time\n",
    "import multiprocessing as mp\n",
    "import random\n",
    "import matplotlib.pyplot as plt\n",
    "import scipy\n",
    "plt.ioff()\n",
    "\n",
    "\n",
    "seed = 1\n",
    "tf.random.set_seed(seed)\n",
    "np.random.seed(seed)\n",
    "dataset_orig_train, dataset_orig_test = preprocess_adult_data(seed = seed)\n",
    "\n",
    "x_unprotected_train, x_protected_train = dataset_orig_train.features[:, :39], dataset_orig_train.features[:, 39:]\n",
    "x_unprotected_test, x_protected_test = dataset_orig_test.features[:, :39], dataset_orig_test.features[:, 39:]\n",
    "y_train, y_test = dataset_orig_train.labels.reshape((-1,)), dataset_orig_test.labels.reshape((-1,))\n",
    "\n",
    "\n",
    "\n",
    "\n",
    "\n",
    "## Running linear regression to get sensetive directions \n",
    "\n",
    "protected_regression = linear_model.LinearRegression(fit_intercept = False)\n",
    "protected_regression.fit(x_unprotected_train, x_protected_train)\n",
    "sensetive_directions = protected_regression.coef_\n",
    "\n",
    "\n",
    "\n",
    "\n",
    "\n",
    "\n",
    "\n",
    "unprotected_directions = utils.projection_matrix(sensetive_directions)\n",
    "protected_directions = np.identity(39) - unprotected_directions\n",
    "\n",
    "\n",
    "\n",
    "# Casing to tensor \n",
    "y_train, y_test = y_train.astype('int32'), y_test.astype('int32')\n",
    "x_unprotected_train, x_unprotected_test = tf.cast(x_unprotected_train, dtype = tf.float32), tf.cast(x_unprotected_test, dtype = tf.float32)\n",
    "y_train, y_test = tf.one_hot(y_train, 2), tf.one_hot(y_test, 2)\n",
    "unprotected_directions = tf.cast(unprotected_directions, dtype = tf.float32)\n",
    "protected_directions = tf.cast(protected_directions, dtype = tf.float32)\n",
    "\n",
    "init_graph = utils.ClassifierGraph(50, 2)\n",
    "graph = cl.Classifier(init_graph, x_unprotected_train, y_train, x_unprotected_test, y_test, num_steps = 10000) # use for unfair algo\n",
    "#graph = cl.Classifier(init_graph, tf.matmul(x_unprotected_train, unprotected_directions), \n",
    "#                        y_train, tf.matmul(x_unprotected_test, unprotected_directions), y_test, num_steps = 10000) # for fair algo\n"
   ]
  },
  {
   "cell_type": "code",
   "execution_count": 2,
   "metadata": {
    "tags": [
     "outputPrepend",
     "outputPrepend",
     "outputPrepend",
     "outputPrepend",
     "outputPrepend"
    ]
   },
   "outputs": [],
   "source": [
    "num_steps, learning_rate = 100, 1e-3\n",
    "x, y = x_unprotected_test[1], y_test[1]\n",
    "x = tf.reshape(x, (1, -1))\n",
    "y = tf.reshape(y, (1, -1))\n",
    "x_start = x\n",
    "x = x + tf.cast(np.random.nor)\n",
    "for _ in range(num_steps):\n",
    "    with tf.GradientTape() as g:\n",
    "        g.watch(x)\n",
    "        prob = graph(x)\n",
    "        #prob = graph(tf.matmul(x, unprotected_directions))\n",
    "        loss = utils.EntropyLoss(y, prob)\n",
    "\n",
    "    gradient = g.gradient(loss, x)\n",
    "    x = x + learning_rate * tf.matmul(gradient, protected_directions)\n"
   ]
  },
  {
   "cell_type": "code",
   "execution_count": 4,
   "metadata": {},
   "outputs": [
    {
     "output_type": "execute_result",
     "data": {
      "text/plain": "<tf.Tensor: shape=(1, 39), dtype=float32, numpy=\narray([[ 2.6533392e-01, -4.3666583e-01, -1.4775421e-01, -2.1962807e-01,\n        -7.7750988e-02, -1.6928021e-02, -1.5180545e-02, -1.8974962e-02,\n         9.7575372e-01, -2.3053713e-02, -1.7137798e-02, -2.1871617e-02,\n        -2.2519259e-02, -1.8565245e-02,  9.7972530e-01, -2.1704879e-02,\n        -2.5267135e-02, -1.6877122e-02, -1.2184309e-02,  5.9662857e-03,\n        -3.2492440e-02, -2.0311510e-02,  9.9241918e-01, -2.0599620e-02,\n        -2.2240939e-02, -9.5532322e-03,  1.0643863e-04,  1.7797017e-02,\n        -5.0067287e-03, -1.4038100e-02, -5.7904567e-03, -5.4158401e-03,\n        -1.8232634e-02,  9.4151223e-01, -2.7182851e-02, -2.2569226e-02,\n        -2.7207756e-02, -5.2475617e-03,  3.3025681e-03]], dtype=float32)>"
     },
     "metadata": {},
     "execution_count": 4
    }
   ],
   "source": [
    "x"
   ]
  },
  {
   "cell_type": "code",
   "execution_count": 5,
   "metadata": {},
   "outputs": [
    {
     "output_type": "execute_result",
     "data": {
      "text/plain": "<tf.Tensor: shape=(1, 39), dtype=float32, numpy=\narray([[ 0.26477048, -0.43578398, -0.14741328, -0.219069  , -0.0756966 ,\n         0.        ,  0.        ,  0.        ,  1.        ,  0.        ,\n         0.        ,  0.        ,  0.        ,  0.        ,  1.        ,\n         0.        ,  0.        ,  0.        ,  0.        ,  0.        ,\n         0.        ,  0.        ,  1.        ,  0.        ,  0.        ,\n         0.        ,  0.        ,  0.        ,  0.        ,  0.        ,\n         0.        ,  0.        ,  0.        ,  1.        ,  0.        ,\n         0.        ,  0.        ,  0.        ,  0.        ]],\n      dtype=float32)>"
     },
     "metadata": {},
     "execution_count": 5
    }
   ],
   "source": [
    "x_start"
   ]
  },
  {
   "cell_type": "code",
   "execution_count": 6,
   "metadata": {},
   "outputs": [
    {
     "output_type": "execute_result",
     "data": {
      "text/plain": "<tf.Tensor: shape=(1, 39), dtype=float32, numpy=\narray([[-0.00047439,  0.00052511,  0.00014341,  0.00030511,  0.00090139,\n         0.01022093,  0.01117729,  0.01390483,  0.01681653,  0.0164854 ,\n         0.01206862,  0.01585362,  0.01668185,  0.01412187,  0.01342954,\n         0.01323625,  0.0161708 ,  0.01078461,  0.01210259, -0.00054525,\n         0.02112096,  0.01201916,  0.00643077,  0.01257659,  0.01193   ,\n         0.00546239,  0.00099759, -0.00709223,  0.00499307,  0.00803421,\n         0.0054733 ,  0.00489773,  0.01022929,  0.03442483,  0.01854291,\n         0.01393437,  0.01841727,  0.0057424 ,  0.00546579]],\n      dtype=float32)>"
     },
     "metadata": {},
     "execution_count": 6
    }
   ],
   "source": [
    "tf.matmul(x-x_start, unprotected_directions)"
   ]
  },
  {
   "cell_type": "code",
   "execution_count": 7,
   "metadata": {},
   "outputs": [
    {
     "output_type": "execute_result",
     "data": {
      "text/plain": "<tf.Tensor: shape=(), dtype=float32, numpy=0.022236705>"
     },
     "metadata": {},
     "execution_count": 7
    }
   ],
   "source": [
    "utils.EntropyLoss(y, graph(tf.matmul(x, unprotected_directions)))\\\n",
    "         - utils.EntropyLoss(y, graph(tf.matmul(x_start, unprotected_directions)))\n"
   ]
  },
  {
   "cell_type": "code",
   "execution_count": 3,
   "metadata": {},
   "outputs": [
    {
     "output_type": "execute_result",
     "data": {
      "text/plain": "<tf.Tensor: shape=(), dtype=float32, numpy=0.05385244>"
     },
     "metadata": {},
     "execution_count": 3
    }
   ],
   "source": [
    "utils.EntropyLoss(y, graph(x))\\\n",
    "         - utils.EntropyLoss(y, graph(x_start))"
   ]
  },
  {
   "cell_type": "code",
   "execution_count": 1,
   "metadata": {},
   "outputs": [],
   "source": [
    "import numpy as np\n",
    "import tensorflow as tf\n",
    "from adult_modified import preprocess_adult_data\n",
    "from sklearn import linear_model\n",
    "import classifier as cl\n",
    "import utils\n",
    "import time\n",
    "import multiprocessing as mp\n",
    "import random\n",
    "import matplotlib.pyplot as plt\n",
    "import scipy\n",
    "plt.ioff()\n",
    "\n",
    "\n",
    "seed = 1\n",
    "tf.random.set_seed(seed)\n",
    "np.random.seed(seed)\n",
    "dataset_orig_train, dataset_orig_test = preprocess_adult_data(seed = seed)\n",
    "\n",
    "x_unprotected_train, x_protected_train = dataset_orig_train.features[:, :39], dataset_orig_train.features[:, 39:]\n",
    "x_unprotected_test, x_protected_test = dataset_orig_test.features[:, :39], dataset_orig_test.features[:, 39:]\n",
    "y_train, y_test = dataset_orig_train.labels.reshape((-1,)), dataset_orig_test.labels.reshape((-1,))\n",
    "\n",
    "\n",
    "\n",
    "\n",
    "\n",
    "## Running linear regression to get sensetive directions \n",
    "\n",
    "protected_regression = linear_model.LinearRegression(fit_intercept = False)\n",
    "protected_regression.fit(x_unprotected_train, x_protected_train)\n",
    "sensetive_directions = protected_regression.coef_\n"
   ]
  },
  {
   "cell_type": "code",
   "execution_count": 2,
   "metadata": {},
   "outputs": [],
   "source": [
    "b = utils.projection_matrix(sensetive_directions)"
   ]
  },
  {
   "cell_type": "code",
   "execution_count": 3,
   "metadata": {},
   "outputs": [
    {
     "output_type": "execute_result",
     "data": {
      "text/plain": "array([[ 9.99927967e-01,  5.20569551e-05,  3.50683480e-06, ...,\n         2.22462808e-03,  1.04065524e-03,  1.88042245e-03],\n       [ 5.20569551e-05,  9.99913778e-01, -3.46283221e-05, ...,\n        -2.61187692e-03, -4.55880783e-04,  4.85363903e-04],\n       [ 3.50683480e-06, -3.46283221e-05,  9.99978636e-01, ...,\n        -7.71409892e-04,  1.44918132e-04,  1.12633364e-03],\n       ...,\n       [ 2.22462808e-03, -2.61187692e-03, -7.71409892e-04, ...,\n         9.10548166e-01, -2.60194494e-02, -1.99678076e-02],\n       [ 1.04065524e-03, -4.55880783e-04,  1.44918132e-04, ...,\n        -2.60194494e-02,  9.83160854e-01, -3.84054606e-02],\n       [ 1.88042245e-03,  4.85363903e-04,  1.12633364e-03, ...,\n        -1.99678076e-02, -3.84054606e-02,  8.80925268e-01]])"
     },
     "metadata": {},
     "execution_count": 3
    }
   ],
   "source": [
    "b"
   ]
  },
  {
   "cell_type": "code",
   "execution_count": 6,
   "metadata": {},
   "outputs": [
    {
     "output_type": "execute_result",
     "data": {
      "text/plain": "(2, 39)"
     },
     "metadata": {},
     "execution_count": 6
    }
   ],
   "source": [
    "b = scipy.linalg.orth(sensetive_directions.T).T\n",
    "b.shape"
   ]
  },
  {
   "cell_type": "code",
   "execution_count": 7,
   "metadata": {},
   "outputs": [
    {
     "output_type": "execute_result",
     "data": {
      "text/plain": "array([[ 1.00000000e+00, -7.09672319e-17],\n       [-7.09672319e-17,  1.00000000e+00]])"
     },
     "metadata": {},
     "execution_count": 7
    }
   ],
   "source": [
    "b @ b.T"
   ]
  },
  {
   "cell_type": "code",
   "execution_count": 24,
   "metadata": {},
   "outputs": [],
   "source": [
    "b = a/np.linalg.norm(a)"
   ]
  },
  {
   "cell_type": "code",
   "execution_count": 25,
   "metadata": {},
   "outputs": [
    {
     "output_type": "execute_result",
     "data": {
      "text/plain": "array([-0.00836832,  0.00488469, -0.00036053,  0.00204784, -0.00079   ,\n        0.09906782,  0.16485571,  0.20355781,  0.22418049,  0.23188209,\n        0.16533417,  0.22806128,  0.24837347,  0.21871065,  0.16354753,\n        0.13197801,  0.18244202,  0.12123263,  0.25065505,  0.08061395,\n        0.24693284,  0.10962203,  0.11441047,  0.12580005,  0.07351997,\n        0.04435442,  0.03950541,  0.03391   ,  0.10375105,  0.06545838,\n        0.10860299,  0.09320736,  0.07725045,  0.30867674,  0.23958481,\n        0.14369608,  0.23441425,  0.12798304,  0.26258444])"
     },
     "metadata": {},
     "execution_count": 25
    }
   ],
   "source": [
    "b"
   ]
  },
  {
   "cell_type": "code",
   "execution_count": 26,
   "metadata": {},
   "outputs": [
    {
     "output_type": "execute_result",
     "data": {
      "text/plain": "0.9999999999999999"
     },
     "metadata": {},
     "execution_count": 26
    }
   ],
   "source": [
    "np.linalg.norm(b)"
   ]
  },
  {
   "cell_type": "code",
   "execution_count": 27,
   "metadata": {},
   "outputs": [],
   "source": [
    "b = b/np.linalg.norm(b)"
   ]
  },
  {
   "cell_type": "code",
   "execution_count": 28,
   "metadata": {},
   "outputs": [
    {
     "output_type": "execute_result",
     "data": {
      "text/plain": "1.0"
     },
     "metadata": {},
     "execution_count": 28
    }
   ],
   "source": [
    "np.linalg.norm(b)"
   ]
  },
  {
   "cell_type": "code",
   "execution_count": 10,
   "metadata": {},
   "outputs": [],
   "source": [
    "import scipy\n",
    "a = np.array([[1,1], [0, 1], [1, 2]])\n",
    "b = scipy.linalg.orth(a)"
   ]
  },
  {
   "cell_type": "code",
   "execution_count": 11,
   "metadata": {},
   "outputs": [
    {
     "output_type": "execute_result",
     "data": {
      "text/plain": "array([[-0.49079864,  0.65252078],\n       [-0.31970025, -0.75130448],\n       [-0.81049889, -0.0987837 ]])"
     },
     "metadata": {},
     "execution_count": 11
    }
   ],
   "source": [
    "b"
   ]
  },
  {
   "cell_type": "code",
   "execution_count": 12,
   "metadata": {},
   "outputs": [
    {
     "output_type": "execute_result",
     "data": {
      "text/plain": "array([[ 0.66666667, -0.33333333,  0.33333333],\n       [-0.33333333,  0.66666667,  0.33333333],\n       [ 0.33333333,  0.33333333,  0.66666667]])"
     },
     "metadata": {},
     "execution_count": 12
    }
   ],
   "source": [
    "b @ b.T"
   ]
  },
  {
   "cell_type": "code",
   "execution_count": 4,
   "metadata": {},
   "outputs": [],
   "source": [
    "a = np.array([1,2])\n",
    "b = np.array([1, 2])"
   ]
  },
  {
   "cell_type": "code",
   "execution_count": 5,
   "metadata": {},
   "outputs": [
    {
     "output_type": "execute_result",
     "data": {
      "text/plain": "array([1, 4])"
     },
     "metadata": {},
     "execution_count": 5
    }
   ],
   "source": [
    "a * b"
   ]
  },
  {
   "cell_type": "code",
   "execution_count": 1,
   "metadata": {},
   "outputs": [
    {
     "output_type": "stream",
     "name": "stdout",
     "text": "Done step 200\n\nDone step 400\n\nDone step 600\n\nDone step 800\n\nDone step 1000\n\nNumber of cpus : 8\ntf.Tensor(0.20184158, shape=(), dtype=float32)\ntf.Tensor(1.4864773, shape=(), dtype=float32)\ntf.Tensor(0.15654553, shape=(), dtype=float32)\ntf.Tensor(1.0043448, shape=(), dtype=float32)\ntf.Tensor(0.34939256, shape=(), dtype=float32)\ntf.Tensor(0.42170504, shape=(), dtype=float32)\ntf.Tensor(0.016232336, shape=(), dtype=float32)\ntf.Tensor(0.33444792, shape=(), dtype=float32)\n\n\n\n\n\n\n\n\ntf.Tensor(0.64895374, shape=(), dtype=float32)\ntf.Tensor(0.080757186, shape=(), dtype=float32)\n\n\ntf.Tensor(1.3300412, shape=(), dtype=float32)\ntf.Tensor(0.8140544, shape=(), dtype=float32)\ntf.Tensor(0.25243744, shape=(), dtype=float32)\ntf.Tensor(0.14779566, shape=(), dtype=float32)\n\n\n\n\ntf.Tensor(1.2554637, shape=(), dtype=float32)\ntf.Tensor(0.16310607, shape=(), dtype=float32)\n\n\ntf.Tensor(0.013389903, shape=(), dtype=float32)\ntf.Tensor(0.7549021, shape=(), dtype=float32)\ntf.Tensor(0.011934282, shape=(), dtype=float32)\ntf.Tensor(0.016787523, shape=(), dtype=float32)\ntf.Tensor(0.0013609248, shape=(), dtype=float32)\n\ntf.Tensor(0.28667384, shape=(), dtype=float32)\ntf.Tensor(0.0073577776, shape=(), dtype=float32)\ntf.Tensor(0.0018424665, shape=(), dtype=float32)\ntf.Tensor(0.031996563, shape=(), dtype=float32)\n\n\ntf.Tensor(0.8525973, shape=(), dtype=float32)\ntf.Tensor(0.23487546, shape=(), dtype=float32)\n\ntf.Tensor(0.09354473, shape=(), dtype=float32)\n\n\n\n\n\ntf.Tensor(0.00332006, shape=(), dtype=float32)\n\ntf.Tensor(0.061539456, shape=(), dtype=float32)\n\n\n\ntf.Tensor(0.0015961146, shape=(), dtype=float32)\ntf.Tensor(0.039002627, shape=(), dtype=float32)\n\n\n\ntf.Tensor(0.027238898, shape=(), dtype=float32)\ntf.Tensor(0.3458935, shape=(), dtype=float32)\ntf.Tensor(0.0139841335, shape=(), dtype=float32)\n\ntf.Tensor(0.63481796, shape=(), dtype=float32)\ntf.Tensor(0.14466585, shape=(), dtype=float32)\ntf.Tensor(0.089581445, shape=(), dtype=float32)\n\ntf.Tensor(0.40011027, shape=(), dtype=float32)\ntf.Tensor(0.038600426, shape=(), dtype=float32)\n\n\n\ntf.Tensor(0.709771, shape=(), dtype=float32)\n\n\ntf.Tensor(0.25623903, shape=(), dtype=float32)\n\ntf.Tensor(0.668734, shape=(), dtype=float32)\n\n\ntf.Tensor(0.2412563, shape=(), dtype=float32)\ntf.Tensor(0.30274895, shape=(), dtype=float32)\n\ntf.Tensor(0.2040669, shape=(), dtype=float32)\n\n\n\ntf.Tensor(0.20104428, shape=(), dtype=float32)\ntf.Tensor(0.052599438, shape=(), dtype=float32)\n\n\ntf.Tensor(4.826083, shape=(), dtype=float32)\ntf.Tensor(2.169922, shape=(), dtype=float32)\ntf.Tensor(0.63496405, shape=(), dtype=float32)\n\ntf.Tensor(0.03438795, shape=(), dtype=float32)\n\n\n\ntf.Tensor(2.1716537, shape=(), dtype=float32)\ntf.Tensor(0.045117363, shape=(), dtype=float32)\n\n\ntf.Tensor(1.4433416, shape=(), dtype=float32)\ntf.Tensor(0.025597995, shape=(), dtype=float32)\n\n\ntf.Tensor(2.4541202, shape=(), dtype=float32)\ntf.Tensor(2.113539, shape=(), dtype=float32)\ntf.Tensor(1.7871749, shape=(), dtype=float32)\ntf.Tensor(4.2992587, shape=(), dtype=float32)\ntf.Tensor(0.057838377, shape=(), dtype=float32)\ntf.Tensor(0.08644114, shape=(), dtype=float32)\ntf.Tensor(0.030763453, shape=(), dtype=float32)\ntf.Tensor(0.31588757, shape=(), dtype=float32)\n\n\n\n\n\n\n\n\ntf.Tensor(4.9294567, shape=(), dtype=float32)\ntf.Tensor(0.0039769113, shape=(), dtype=float32)\ntf.Tensor(4.4317384, shape=(), dtype=float32)\ntf.Tensor(0.8421461, shape=(), dtype=float32)\ntf.Tensor(0.0068044374, shape=(), dtype=float32)\ntf.Tensor(0.0021173107, shape=(), dtype=float32)\ntf.Tensor(0.04088566, shape=(), dtype=float32)\ntf.Tensor(0.066906944, shape=(), dtype=float32)\n\ntf.Tensor(1.1647984, shape=(), dtype=float32)\ntf.Tensor(0.023154916, shape=(), dtype=float32)\n\n\n\n\n\n\n\n\n\ntf.Tensor(0.003116153, shape=(), dtype=float32)\ntf.Tensor(0.029734476, shape=(), dtype=float32)\n\ntf.Tensor(0.030436689, shape=(), dtype=float32)\n\ntf.Tensor(0.48470032, shape=(), dtype=float32)\n\n\ntf.Tensor(0.008123342, shape=(), dtype=float32)\ntf.Tensor(0.13276356, shape=(), dtype=float32)\n\n\ntf.Tensor(0.6697817, shape=(), dtype=float32)\ntf.Tensor(1.4129344, shape=(), dtype=float32)\n\n\ntf.Tensor(0.2863333, shape=(), dtype=float32)\ntf.Tensor(0.052426312, shape=(), dtype=float32)\n\n\ntf.Tensor(0.010143531, shape=(), dtype=float32)\ntf.Tensor(0.0044701323, shape=(), dtype=float32)\ntf.Tensor(0.44705352, shape=(), dtype=float32)\ntf.Tensor(2.1117053, shape=(), dtype=float32)\ntf.Tensor(0.031631928, shape=(), dtype=float32)\ntf.Tensor(0.080747366, shape=(), dtype=float32)\ntf.Tensor(0.7554297, shape=(), dtype=float32)\ntf.Tensor(0.010626369, shape=(), dtype=float32)\n\n\ntf.Tensor(0.35196596, shape=(), dtype=float32)\n\n\n\ntf.Tensor(0.058787838, shape=(), dtype=float32)\n\n\n\ntf.Tensor(0.0031882632, shape=(), dtype=float32)\n\n\ntf.Tensor(0.018208712, shape=(), dtype=float32)\n\n\ntf.Tensor(0.36724997, shape=(), dtype=float32)\ntf.Tensor(0.45540553, shape=(), dtype=float32)\n\n\ntf.Tensor(0.08631435, shape=(), dtype=float32)\ntf.Tensor(0.19441594, shape=(), dtype=float32)\ntf.Tensor(0.042995226, shape=(), dtype=float32)\n\ntf.Tensor(0.119265646, shape=(), dtype=float32)\n\n\n\ntf.Tensor(0.19328062, shape=(), dtype=float32)\ntf.Tensor(0.12731543, shape=(), dtype=float32)\n\n\ntf.Tensor(0.79259324, shape=(), dtype=float32)\ntf.Tensor(0.38806504, shape=(), dtype=float32)\n\n\ntf.Tensor(0.085879095, shape=(), dtype=float32)\ntf.Tensor(0.023655616, shape=(), dtype=float32)\n\n\ntf.Tensor(0.8697616, shape=(), dtype=float32)\ntf.Tensor(1.4820445, shape=(), dtype=float32)\n\n\ntf.Tensor(0.15294226, shape=(), dtype=float32)\ntf.Tensor(0.056107696, shape=(), dtype=float32)\n\n\ntf.Tensor(0.029008703, shape=(), dtype=float32)\ntf.Tensor(0.45130002, shape=(), dtype=float32)\n\ntf.Tensor(0.0039485465, shape=(), dtype=float32)\ntf.Tensor(6.1951494, shape=(), dtype=float32)\ntf.Tensor(0.0068240613, shape=(), dtype=float32)\ntf.Tensor(0.06990076, shape=(), dtype=float32)\n\ntf.Tensor(2.1785219, shape=(), dtype=float32)\n\ntf.Tensor(0.1110482, shape=(), dtype=float32)\n\n\ntf.Tensor(0.025144547, shape=(), dtype=float32)\n\n\ntf.Tensor(0.55354846, shape=(), dtype=float32)\n\ntf.Tensor(4.54872, shape=(), dtype=float32)\n\ntf.Tensor(0.0023228065, shape=(), dtype=float32)\ntf.Tensor(0.61016655, shape=(), dtype=float32)\ntf.Tensor(0.007280923, shape=(), dtype=float32)\n\n\ntf.Tensor(0.025223583, shape=(), dtype=float32)\ntf.Tensor(0.09206007, shape=(), dtype=float32)\n\n\n\n\n\ntf.Tensor(0.035661362, shape=(), dtype=float32)\ntf.Tensor(0.004018622, shape=(), dtype=float32)\ntf.Tensor(0.3727893, shape=(), dtype=float32)\ntf.Tensor(0.007645373, shape=(), dtype=float32)\ntf.Tensor(0.017660378, shape=(), dtype=float32)\n\ntf.Tensor(0.03565284, shape=(), dtype=float32)\ntf.Tensor(0.042628117, shape=(), dtype=float32)\n\n\ntf.Tensor(0.25592285, shape=(), dtype=float32)\n\n\n\n\n\ntf.Tensor(0.020576565, shape=(), dtype=float32)\ntf.Tensor(0.010340866, shape=(), dtype=float32)\ntf.Tensor(0.51168185, shape=(), dtype=float32)\ntf.Tensor(0.07252114, shape=(), dtype=float32)\n\n\n\n\ntf.Tensor(3.4414108, shape=(), dtype=float32)\ntf.Tensor(0.759613, shape=(), dtype=float32)\n\n\ntf.Tensor(0.006201083, shape=(), dtype=float32)\ntf.Tensor(0.03789871, shape=(), dtype=float32)\n\n\ntf.Tensor(0.29841882, shape=(), dtype=float32)\ntf.Tensor(0.582567, shape=(), dtype=float32)\ntf.Tensor(1.3992748, shape=(), dtype=float32)\n\n\ntf.Tensor(0.43195748, shape=(), dtype=float32)\n\n\ntf.Tensor(1.4215875, shape=(), dtype=float32)\ntf.Tensor(0.16424999, shape=(), dtype=float32)\n\n\ntf.Tensor(0.45341706, shape=(), dtype=float32)\ntf.Tensor(0.07317608, shape=(), dtype=float32)\n\n\ntf.Tensor(0.06684672, shape=(), dtype=float32)\ntf.Tensor(0.14917983, shape=(), dtype=float32)\n\n\ntf.Tensor(0.047813375, shape=(), dtype=float32)\ntf.Tensor(0.1217781, shape=(), dtype=float32)\ntf.Tensor(0.0138912955, shape=(), dtype=float32)\n\ntf.Tensor(0.027562536, shape=(), dtype=float32)\n\n\n\ntf.Tensor(2.1135228, shape=(), dtype=float32)\ntf.Tensor(0.6487353, shape=(), dtype=float32)\n\n\ntf.Tensor(0.17374054, shape=(), dtype=float32)\ntf.Tensor(1.4345787, shape=(), dtype=float32)\n\n\ntf.Tensor(0.017722018, shape=(), dtype=float32)\ntf.Tensor(0.09066237, shape=(), dtype=float32)\n\n\ntf.Tensor(0.0030656313, shape=(), dtype=float32)\ntf.Tensor(0.032845717, shape=(), dtype=float32)\n\n\ntf.Tensor(2.2591157, shape=(), dtype=float32)\ntf.Tensor(0.19267453, shape=(), dtype=float32)\ntf.Tensor(0.295476, shape=(), dtype=float32)\ntf.Tensor(0.02113557, shape=(), dtype=float32)\n\ntf.Tensor(1.5747304, shape=(), dtype=float32)\ntf.Tensor(0.16354814, shape=(), dtype=float32)\n\n\n\n\n\ntf.Tensor(0.0093371915, shape=(), dtype=float32)\ntf.Tensor(0.05967088, shape=(), dtype=float32)\n\n\ntf.Tensor(0.0052745324, shape=(), dtype=float32)\ntf.Tensor(0.027672583, shape=(), dtype=float32)\n\n\ntf.Tensor(0.00043980018, shape=(), dtype=float32)\ntf.Tensor(0.048444003, shape=(), dtype=float32)\ntf.Tensor(7.105126e-05, shape=(), dtype=float32)\n\ntf.Tensor(0.01280641, shape=(), dtype=float32)\n\n\n\ntf.Tensor(0.0003653836, shape=(), dtype=float32)\ntf.Tensor(0.036351863, shape=(), dtype=float32)\n\n\ntf.Tensor(0.0007139012, shape=(), dtype=float32)\ntf.Tensor(0.085951, shape=(), dtype=float32)\ntf.Tensor(7.629997, shape=(), dtype=float32)\n\ntf.Tensor(1.0611665, shape=(), dtype=float32)\n\n\n\ntf.Tensor(0.0008354099, shape=(), dtype=float32)\ntf.Tensor(0.13132879, shape=(), dtype=float32)\n\ntf.Tensor(0.0002164479, shape=(), dtype=float32)\n\ntf.Tensor(0.041717604, shape=(), dtype=float32)\n\n\ntf.Tensor(0.00019152806, shape=(), dtype=float32)\ntf.Tensor(0.026317379, shape=(), dtype=float32)\n\n\ntf.Tensor(0.64046454, shape=(), dtype=float32)\ntf.Tensor(0.11823468, shape=(), dtype=float32)\n\n\ntf.Tensor(0.12826689, shape=(), dtype=float32)\ntf.Tensor(0.19687456, shape=(), dtype=float32)\n\n\ntf.Tensor(1.0583948, shape=(), dtype=float32)\ntf.Tensor(0.046320923, shape=(), dtype=float32)\n\n\ntf.Tensor(2.6587985, shape=(), dtype=float32)\ntf.Tensor(0.5437293, shape=(), dtype=float32)\n\n\n"
    }
   ],
   "source": [
    "import numpy as np\n",
    "import tensorflow as tf\n",
    "from adult_modified import preprocess_adult_data\n",
    "from sklearn import linear_model\n",
    "import classifier as cl\n",
    "import utils\n",
    "import time\n",
    "import multiprocessing as mp\n",
    "import random\n",
    "import matplotlib.pyplot as plt\n",
    "import scipy\n",
    "plt.ioff()\n",
    "\n",
    "\n",
    "seed = 1\n",
    "tf.random.set_seed(seed)\n",
    "np.random.seed(seed)\n",
    "dataset_orig_train, dataset_orig_test = preprocess_adult_data(seed = seed)\n",
    "\n",
    "x_unprotected_train, x_protected_train = dataset_orig_train.features[:, :39], dataset_orig_train.features[:, 39:]\n",
    "x_unprotected_test, x_protected_test = dataset_orig_test.features[:, :39], dataset_orig_test.features[:, 39:]\n",
    "y_train, y_test = dataset_orig_train.labels.reshape((-1,)), dataset_orig_test.labels.reshape((-1,))\n",
    "\n",
    "\n",
    "\n",
    "\n",
    "\n",
    "## Running linear regression to get sensetive directions \n",
    "\n",
    "protected_regression = linear_model.LinearRegression(fit_intercept = False)\n",
    "protected_regression.fit(x_unprotected_train, x_protected_train)\n",
    "sensetive_directions = protected_regression.coef_\n",
    "\n",
    "\n",
    "\n",
    "\n",
    "\n",
    "\n",
    "\n",
    "unprotected_directions = utils.projection_matrix(sensetive_directions)\n",
    "\n",
    "\n",
    "\n",
    "# Casing to tensor \n",
    "y_train, y_test = y_train.astype('int32'), y_test.astype('int32')\n",
    "x_unprotected_train, x_unprotected_test = tf.cast(x_unprotected_train, dtype = tf.float32), tf.cast(x_unprotected_test, dtype = tf.float32)\n",
    "y_train, y_test = tf.one_hot(y_train, 2), tf.one_hot(y_test, 2)\n",
    "unprotected_directions = tf.cast(unprotected_directions, dtype = tf.float32)\n",
    "\n",
    "init_graph = utils.ClassifierGraph(50, 2)\n",
    "#graph = cl.Classifier(init_graph, x_unprotected_train, y_train, x_unprotected_test, y_test, num_steps = 10000) # use for unfair algo\n",
    "graph = cl.Classifier(init_graph, tf.matmul(x_unprotected_train, unprotected_directions), \n",
    "                        y_train, tf.matmul(x_unprotected_test, unprotected_directions), y_test, num_steps = 1000) # for fair algo\n",
    "\n",
    "\n",
    "\n",
    "def sample_perturbation(data_point, regularizer = 1e0, learning_rate = 1e-3, num_steps = 200):\n",
    "    x, y = data_point\n",
    "    x = tf.reshape(x, (1, -1))\n",
    "    y = tf.reshape(y, (1, -1))\n",
    "    x_start = x\n",
    "    x += tf.cast(np.random.normal(size=(1, 39)), dtype = tf.float32)*0.01\n",
    "    for _ in range(num_steps):\n",
    "        with tf.GradientTape() as g:\n",
    "            g.watch(x)\n",
    "            prob = graph(tf.matmul(x, unprotected_directions))\n",
    "            perturb = tf.matmul(x-x_start, unprotected_directions)\n",
    "            loss = utils.EntropyLoss(y, prob) - regularizer * tf.norm(perturb)\n",
    "\n",
    "        gradient = g.gradient(loss, x)\n",
    "        x = x + learning_rate * gradient#(gradient - tf.matmul(gradient, unprotected_directions)) \n",
    "\n",
    "    return_loss = utils.EntropyLoss(y, graph(tf.matmul(x, unprotected_directions)))\\\n",
    "         - utils.EntropyLoss(y, graph(tf.matmul(x_start, unprotected_directions)))\n",
    "    print(utils.EntropyLoss(y, graph(tf.matmul(x, unprotected_directions))))\n",
    "    print(utils.EntropyLoss(y, graph(tf.matmul(x_start, unprotected_directions))))\n",
    "    print('\\n')\n",
    "    return return_loss.numpy()\n",
    "\n",
    "\n",
    "\n",
    "\n",
    "cpus = mp.cpu_count()\n",
    "print(f'Number of cpus : {cpus}')\n",
    "start_time = time.time()\n",
    "with mp.Pool(cpus) as pool:\n",
    "    perturbed_test_samples = pool.map(sample_perturbation, zip(x_unprotected_test[:100], y_test[:100]))"
   ]
  },
  {
   "cell_type": "code",
   "execution_count": 6,
   "metadata": {},
   "outputs": [
    {
     "output_type": "execute_result",
     "data": {
      "text/plain": "[nan,\n nan,\n nan,\n nan,\n nan,\n nan,\n nan,\n nan,\n nan,\n nan,\n nan,\n nan,\n nan,\n nan,\n nan,\n nan,\n nan,\n nan,\n nan,\n nan,\n nan,\n nan,\n nan,\n nan,\n nan,\n nan,\n nan,\n nan,\n nan,\n nan,\n nan,\n nan,\n nan,\n nan,\n nan,\n nan,\n nan,\n nan,\n nan,\n nan,\n nan,\n nan,\n nan,\n nan,\n nan,\n nan,\n nan,\n nan,\n nan,\n nan,\n nan,\n nan,\n nan,\n nan,\n nan,\n nan,\n nan,\n nan,\n nan,\n nan,\n nan,\n nan,\n nan,\n nan,\n nan,\n nan,\n nan,\n nan,\n nan,\n nan,\n nan,\n nan,\n nan,\n nan,\n nan,\n nan,\n nan,\n nan,\n nan,\n nan,\n nan,\n nan,\n nan,\n nan,\n nan,\n nan,\n nan,\n nan,\n nan,\n nan,\n nan,\n nan,\n nan,\n nan,\n nan,\n nan,\n nan,\n nan,\n nan,\n nan]"
     },
     "metadata": {},
     "execution_count": 6
    }
   ],
   "source": [
    "perturbed_test_samples"
   ]
  },
  {
   "cell_type": "code",
   "execution_count": null,
   "metadata": {},
   "outputs": [],
   "source": []
  }
 ],
 "metadata": {
  "language_info": {
   "codemirror_mode": {
    "name": "ipython",
    "version": 3
   },
   "file_extension": ".py",
   "mimetype": "text/x-python",
   "name": "python",
   "nbconvert_exporter": "python",
   "pygments_lexer": "ipython3",
   "version": "3.7.4-final"
  },
  "orig_nbformat": 2,
  "kernelspec": {
   "name": "python37464bit48aa32fa6dba4f1bbd692e320b15fd93",
   "display_name": "Python 3.7.4 64-bit"
  }
 },
 "nbformat": 4,
 "nbformat_minor": 2
}