{
 "cells": [
  {
   "cell_type": "code",
   "execution_count": 1,
   "metadata": {},
   "outputs": [],
   "source": [
    "import numpy as np\n",
    "import tensorflow as tf\n",
    "from adult_modified import preprocess_adult_data\n",
    "from sklearn import linear_model\n",
    "import utils\n",
    "import classifier as cl"
   ]
  },
  {
   "cell_type": "code",
   "execution_count": 2,
   "metadata": {},
   "outputs": [],
   "source": [
    "seed = 1\n",
    "dataset_orig_train, dataset_orig_test = preprocess_adult_data(seed = seed)"
   ]
  },
  {
   "cell_type": "code",
   "execution_count": 3,
   "metadata": {},
   "outputs": [],
   "source": [
    "x_unprotected_train, x_protected_train = dataset_orig_train.features[:, :39], dataset_orig_train.features[:, 39:]\n",
    "x_unprotected_test, x_protected_test = dataset_orig_test.features[:, :39], dataset_orig_test.features[:, 39:]\n",
    "y_train, y_test = dataset_orig_train.labels.reshape((-1,)), dataset_orig_test.labels.reshape((-1,))\n",
    "y_train, y_test = np.array(y_train, dtype= 'int32'), np.array(y_test, dtype='int32')\n",
    "\n",
    "protected_regression = linear_model.LinearRegression(fit_intercept = False)\n",
    "protected_regression.fit(x_unprotected_train, x_protected_train)\n",
    "sensetive_directions = protected_regression.coef_\n",
    "\n",
    "def projection_matrix(sensetive_directions):\n",
    "    n, d = sensetive_directions.shape\n",
    "    mx = np.identity(d)\n",
    "    for vector in sensetive_directions:\n",
    "        vector = vector/np.linalg.norm(vector, ord=2)\n",
    "        vector = vector.reshape((-1,1))\n",
    "        mx = mx - 0.99* vector @ vector.T\n",
    "    return mx\n",
    "\n",
    "unprotected_directions = projection_matrix(sensetive_directions)\n"
   ]
  },
  {
   "cell_type": "code",
   "execution_count": 4,
   "metadata": {},
   "outputs": [],
   "source": [
    "x_unprotected_train, x_unprotected_test = tf.cast(x_unprotected_train, dtype = tf.float32), tf.cast(x_unprotected_test, dtype = tf.float32)\n",
    "y_train, y_test = tf.one_hot(y_train, 2), tf.one_hot(y_test, 2)\n",
    "unprotected_directions = tf.cast(unprotected_directions, dtype = tf.float32)\n"
   ]
  },
  {
   "cell_type": "code",
   "execution_count": 5,
   "metadata": {},
   "outputs": [
    {
     "output_type": "stream",
     "name": "stdout",
     "text": "Done step 200\n\nDone step 400\n\nDone step 600\n\nDone step 800\n\nDone step 1000\n\n"
    }
   ],
   "source": [
    "graph = utils.ClassifierGraph(50, 2)\n",
    "graph = cl.Classifier(graph, x_unprotected_train, y_train, x_unprotected_test, y_test, num_steps=1000)\n",
    "\n",
    "unprotected_directions = tf.cast(unprotected_directions, dtype = tf.float32)"
   ]
  },
  {
   "cell_type": "code",
   "execution_count": 6,
   "metadata": {},
   "outputs": [],
   "source": [
    "regularizer = 1e-2\n",
    "learning_rate = 1e-3\n",
    "x = x_unprotected_train[0, :]\n",
    "y = y_train[0, : ]"
   ]
  },
  {
   "cell_type": "code",
   "execution_count": 7,
   "metadata": {},
   "outputs": [
    {
     "output_type": "execute_result",
     "data": {
      "text/plain": "<tf.Tensor: id=71216, shape=(1, 39), dtype=float32, numpy=\narray([[ 1.0228531 , -0.04535909, -0.14741328, -0.219069  ,  0.67812765,\n         0.        ,  0.        ,  1.        ,  0.        ,  0.        ,\n         0.        ,  0.        ,  1.        ,  0.        ,  0.        ,\n         0.        ,  0.        ,  0.        ,  0.        ,  0.        ,\n         0.        ,  0.        ,  0.        ,  0.        ,  0.        ,\n         0.        ,  0.        ,  0.        ,  0.        ,  0.        ,\n         1.        ,  0.        ,  0.        ,  0.        ,  1.        ,\n         0.        ,  0.        ,  0.        ,  0.        ]],\n      dtype=float32)>"
     },
     "metadata": {},
     "execution_count": 7
    }
   ],
   "source": [
    "x = tf.reshape(x, (1, -1))\n",
    "y = tf.reshape(y, (1, -1))\n",
    "x_start = x\n",
    "\n",
    "x_start"
   ]
  },
  {
   "cell_type": "code",
   "execution_count": 8,
   "metadata": {},
   "outputs": [],
   "source": [
    "for _ in range(100):\n",
    "    with tf.GradientTape() as g:\n",
    "        g.watch(x)\n",
    "        purturb = tf.linalg.matmul(x - x_start, unprotected_directions)\n",
    "        prob = graph(x)\n",
    "        loss = utils.EntropyLoss(y, prob) - regularizer * tf.reduce_sum(purturb**2)\n",
    "\n",
    "    gradient = g.gradient(loss, x)\n",
    "    x = x + learning_rate * gradient / tf.linalg.norm(gradient, ord = 2)"
   ]
  },
  {
   "cell_type": "code",
   "execution_count": 9,
   "metadata": {},
   "outputs": [
    {
     "output_type": "execute_result",
     "data": {
      "text/plain": "<tf.Tensor: id=79018, shape=(1, 39), dtype=float32, numpy=\narray([[ 1.0349126e+00, -2.8684437e-02, -1.2339086e-01, -2.1087645e-01,\n         6.9033527e-01,  6.0225818e-03, -7.0167417e-03,  9.8234510e-01,\n         4.2951531e-03, -1.0878822e-02,  2.1276853e-04, -1.4931154e-03,\n         9.8200589e-01, -2.6740716e-03,  2.8400466e-02, -1.7670636e-03,\n        -2.5012206e-02,  3.1955547e-03, -3.3968575e-02, -1.5382072e-02,\n        -1.6312398e-02, -1.8414931e-02,  4.7395905e-03, -5.8301375e-03,\n        -1.7799774e-02, -1.6227551e-02, -2.1124270e-02, -1.1296313e-02,\n         5.2130218e-03, -8.4327469e-03,  9.9663967e-01, -6.3510393e-03,\n        -2.5058609e-02,  1.0285573e-02,  9.6709698e-01, -1.3559571e-02,\n        -1.8522402e-02, -2.5062757e-02,  1.1961920e-02]], dtype=float32)>"
     },
     "metadata": {},
     "execution_count": 9
    }
   ],
   "source": [
    "x"
   ]
  },
  {
   "cell_type": "code",
   "execution_count": 10,
   "metadata": {},
   "outputs": [
    {
     "output_type": "execute_result",
     "data": {
      "text/plain": "<tf.Tensor: id=71216, shape=(1, 39), dtype=float32, numpy=\narray([[ 1.0228531 , -0.04535909, -0.14741328, -0.219069  ,  0.67812765,\n         0.        ,  0.        ,  1.        ,  0.        ,  0.        ,\n         0.        ,  0.        ,  1.        ,  0.        ,  0.        ,\n         0.        ,  0.        ,  0.        ,  0.        ,  0.        ,\n         0.        ,  0.        ,  0.        ,  0.        ,  0.        ,\n         0.        ,  0.        ,  0.        ,  0.        ,  0.        ,\n         1.        ,  0.        ,  0.        ,  0.        ,  1.        ,\n         0.        ,  0.        ,  0.        ,  0.        ]],\n      dtype=float32)>"
     },
     "metadata": {},
     "execution_count": 10
    }
   ],
   "source": [
    "x_start"
   ]
  },
  {
   "cell_type": "code",
   "execution_count": 11,
   "metadata": {},
   "outputs": [
    {
     "output_type": "execute_result",
     "data": {
      "text/plain": "array([[ 1.0349126e+00, -2.8684437e-02, -1.2339086e-01, -2.1087645e-01,\n         6.9033527e-01,  6.0225818e-03, -7.0167417e-03,  9.8234510e-01,\n         4.2951531e-03, -1.0878822e-02,  2.1276853e-04, -1.4931154e-03,\n         9.8200589e-01, -2.6740716e-03,  2.8400466e-02, -1.7670636e-03,\n        -2.5012206e-02,  3.1955547e-03, -3.3968575e-02, -1.5382072e-02,\n        -1.6312398e-02, -1.8414931e-02,  4.7395905e-03, -5.8301375e-03,\n        -1.7799774e-02, -1.6227551e-02, -2.1124270e-02, -1.1296313e-02,\n         5.2130218e-03, -8.4327469e-03,  9.9663967e-01, -6.3510393e-03,\n        -2.5058609e-02,  1.0285573e-02,  9.6709698e-01, -1.3559571e-02,\n        -1.8522402e-02, -2.5062757e-02,  1.1961920e-02]], dtype=float32)"
     },
     "metadata": {},
     "execution_count": 11
    }
   ],
   "source": [
    "x.numpy()"
   ]
  },
  {
   "cell_type": "code",
   "execution_count": 12,
   "metadata": {},
   "outputs": [
    {
     "output_type": "execute_result",
     "data": {
      "text/plain": "36177"
     },
     "metadata": {},
     "execution_count": 12
    }
   ],
   "source": [
    "x_unprotected_train.shape[0]"
   ]
  },
  {
   "cell_type": "code",
   "execution_count": 13,
   "metadata": {},
   "outputs": [],
   "source": [
    "def sample_purturbation(x, y, regularizer = 1e-2, learning_rate = 1e-4, num_steps = 20):\n",
    "    \n",
    "    x = tf.reshape(x, (1, -1))\n",
    "    y = tf.reshape(y, (1, -1))\n",
    "    x_start = x\n",
    "    for _ in range(num_steps):\n",
    "        with tf.GradientTape() as g:\n",
    "            g.watch(x)\n",
    "            purturb = tf.linalg.matmul(x - x_start, unprotected_directions)\n",
    "            prob = graph(x)\n",
    "            loss = utils.EntropyLoss(y, prob) - regularizer * tf.reduce_sum(purturb**2)\n",
    "\n",
    "        gradient = g.gradient(loss, x)\n",
    "        x = x + learning_rate * gradient / tf.linalg.norm(gradient, ord = 2)\n",
    "    return x\n",
    "\n",
    "\n",
    "\n"
   ]
  },
  {
   "cell_type": "code",
   "execution_count": 14,
   "metadata": {},
   "outputs": [],
   "source": [
    "x, y = x_unprotected_train[0], y_train[0]"
   ]
  },
  {
   "cell_type": "code",
   "execution_count": 15,
   "metadata": {},
   "outputs": [
    {
     "output_type": "execute_result",
     "data": {
      "text/plain": "<tf.Tensor: id=79022, shape=(39,), dtype=float32, numpy=\narray([ 1.0228531 , -0.04535909, -0.14741328, -0.219069  ,  0.67812765,\n        0.        ,  0.        ,  1.        ,  0.        ,  0.        ,\n        0.        ,  0.        ,  1.        ,  0.        ,  0.        ,\n        0.        ,  0.        ,  0.        ,  0.        ,  0.        ,\n        0.        ,  0.        ,  0.        ,  0.        ,  0.        ,\n        0.        ,  0.        ,  0.        ,  0.        ,  0.        ,\n        1.        ,  0.        ,  0.        ,  0.        ,  1.        ,\n        0.        ,  0.        ,  0.        ,  0.        ], dtype=float32)>"
     },
     "metadata": {},
     "execution_count": 15
    }
   ],
   "source": [
    "x"
   ]
  },
  {
   "cell_type": "code",
   "execution_count": 16,
   "metadata": {},
   "outputs": [
    {
     "output_type": "execute_result",
     "data": {
      "text/plain": "<tf.Tensor: id=79026, shape=(2,), dtype=float32, numpy=array([1., 0.], dtype=float32)>"
     },
     "metadata": {},
     "execution_count": 16
    }
   ],
   "source": [
    "y"
   ]
  },
  {
   "cell_type": "code",
   "execution_count": 17,
   "metadata": {},
   "outputs": [],
   "source": [
    "import time\n",
    "start_time = time.time()\n",
    "sample_purturbation(x, y)\n",
    "end_time = time.time()"
   ]
  },
  {
   "cell_type": "code",
   "execution_count": 18,
   "metadata": {},
   "outputs": [
    {
     "output_type": "execute_result",
     "data": {
      "text/plain": "0.2862379550933838"
     },
     "metadata": {},
     "execution_count": 18
    }
   ],
   "source": [
    "end_time - start_time"
   ]
  },
  {
   "cell_type": "code",
   "execution_count": 19,
   "metadata": {},
   "outputs": [],
   "source": [
    "start_time = time.time()\n",
    "for x, y in zip(x_unprotected_train[:30], y_train[:30]):\n",
    "    sample_purturbation(x, y)\n",
    "end_time = time.time()"
   ]
  },
  {
   "cell_type": "code",
   "execution_count": 20,
   "metadata": {},
   "outputs": [
    {
     "output_type": "execute_result",
     "data": {
      "text/plain": "7.752289772033691"
     },
     "metadata": {},
     "execution_count": 20
    }
   ],
   "source": [
    "end_time - start_time"
   ]
  },
  {
   "cell_type": "code",
   "execution_count": 23,
   "metadata": {},
   "outputs": [
    {
     "output_type": "stream",
     "name": "stdout",
     "text": "[[ 9.99928687e-01  5.15363856e-05  3.47176646e-06 ...  2.20238180e-03\n   1.03024868e-03  1.86161822e-03]\n [ 5.15363856e-05  9.99914640e-01 -3.42820389e-05 ... -2.58575815e-03\n  -4.51321975e-04  4.80510264e-04]\n [ 3.47176646e-06 -3.42820389e-05  9.99978850e-01 ... -7.63695793e-04\n   1.43468950e-04  1.11507031e-03]\n ...\n [ 2.20238180e-03 -2.58575815e-03 -7.63695793e-04 ...  9.11442685e-01\n  -2.57592549e-02 -1.97681295e-02]\n [ 1.03024868e-03 -4.51321975e-04  1.43468950e-04 ... -2.57592549e-02\n   9.83329245e-01 -3.80214060e-02]\n [ 1.86161822e-03  4.80510264e-04  1.11507031e-03 ... -1.97681295e-02\n  -3.80214060e-02  8.82116015e-01]]\nDone step 200\n\nDone step 400\n\nDone step 600\n\nDone step 800\n\nDone step 1000\n\nTime taken 0.2494730806350708\n"
    }
   ],
   "source": [
    "from adversarial_sample import *"
   ]
  },
  {
   "cell_type": "code",
   "execution_count": null,
   "metadata": {},
   "outputs": [],
   "source": []
  }
 ],
 "metadata": {
  "kernelspec": {
   "display_name": "Python 3.7.4 64-bit ('base': conda)",
   "language": "python",
   "name": "python37464bitbaseconda3617b5da3475453d8a6e23ecb52993b7"
  },
  "language_info": {
   "codemirror_mode": {
    "name": "ipython",
    "version": 3
   },
   "file_extension": ".py",
   "mimetype": "text/x-python",
   "name": "python",
   "nbconvert_exporter": "python",
   "pygments_lexer": "ipython3",
   "version": "3.7.4-final"
  }
 },
 "nbformat": 4,
 "nbformat_minor": 2
}