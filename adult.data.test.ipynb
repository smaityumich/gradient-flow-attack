{
 "cells": [
  {
   "cell_type": "code",
   "execution_count": 1,
   "metadata": {},
   "outputs": [],
   "source": [
    "import numpy as np\n",
    "import tensorflow as tf\n",
    "from adult_modified import preprocess_adult_data, get_sensitive_directions_and_projection_matrix\n",
    "from sklearn import linear_model"
   ]
  },
  {
   "cell_type": "code",
   "execution_count": 2,
   "metadata": {},
   "outputs": [],
   "source": [
    "seed = 1\n",
    "X_train, X_test, y_train, y_test, X_gender_train, X_gender_test, y_gender_train, y_gender_test, dataset_orig_train, dataset_orig_test = preprocess_adult_data(seed = seed)"
   ]
  },
  {
   "cell_type": "code",
   "execution_count": 3,
   "metadata": {},
   "outputs": [
    {
     "data": {
      "text/plain": [
       "array([[ 1.02285308, -0.04535909, -0.14741329, ...,  0.        ,\n",
       "         0.        ,  1.        ],\n",
       "       [ 0.34057873,  1.12591555, -0.14741329, ...,  0.        ,\n",
       "         0.        ,  0.        ],\n",
       "       [ 0.34057873,  1.12591555, -0.14741329, ...,  1.        ,\n",
       "         0.        ,  0.        ],\n",
       "       ...,\n",
       "       [-1.32720302, -0.04535909, -0.14741329, ...,  0.        ,\n",
       "         0.        ,  0.        ],\n",
       "       [ 0.94704482,  1.51634043, -0.14741329, ...,  0.        ,\n",
       "         1.        ,  1.        ],\n",
       "       [ 1.09866134, -1.99748348, -0.14741329, ...,  0.        ,\n",
       "         1.        ,  0.        ]])"
      ]
     },
     "execution_count": 3,
     "metadata": {},
     "output_type": "execute_result"
    }
   ],
   "source": [
    "X_train"
   ]
  },
  {
   "cell_type": "code",
   "execution_count": 4,
   "metadata": {},
   "outputs": [
    {
     "data": {
      "text/plain": [
       "array([0., 1., 0., ..., 0., 1., 0.])"
      ]
     },
     "execution_count": 4,
     "metadata": {},
     "output_type": "execute_result"
    }
   ],
   "source": [
    "y_train"
   ]
  },
  {
   "cell_type": "code",
   "execution_count": 5,
   "metadata": {},
   "outputs": [
    {
     "data": {
      "text/plain": [
       "array([1., 1., 1., ..., 1., 0., 0.])"
      ]
     },
     "execution_count": 5,
     "metadata": {},
     "output_type": "execute_result"
    }
   ],
   "source": [
    "y_gender_test"
   ]
  },
  {
   "cell_type": "code",
   "execution_count": 6,
   "metadata": {},
   "outputs": [
    {
     "data": {
      "text/plain": [
       "array([0., 0., 0., ..., 0., 0., 0.])"
      ]
     },
     "execution_count": 6,
     "metadata": {},
     "output_type": "execute_result"
    }
   ],
   "source": [
    "y_test"
   ]
  },
  {
   "cell_type": "code",
   "execution_count": 8,
   "metadata": {},
   "outputs": [],
   "source": [
    "sensitive_regression = linear_model.LinearRegression(fit_intercept = True)\n",
    "sensitive_regression.fit(X_gender_train, y_gender_train)\n",
    "intercept = np.reshape(sensitive_regression.intercept_, (-1,1))\n"
   ]
  },
  {
   "cell_type": "code",
   "execution_count": 9,
   "metadata": {},
   "outputs": [
    {
     "data": {
      "text/plain": [
       "array([[0.49470783]])"
      ]
     },
     "execution_count": 9,
     "metadata": {},
     "output_type": "execute_result"
    }
   ],
   "source": [
    "intercept"
   ]
  },
  {
   "cell_type": "code",
   "execution_count": 10,
   "metadata": {},
   "outputs": [
    {
     "data": {
      "text/plain": [
       "array([-1.45122249e-03,  8.97351853e-03,  5.30371924e-03,  6.54453195e-03,\n",
       "        3.08378326e-02,  3.30152841e-02, -4.63580179e-02, -2.21780520e-02,\n",
       "        3.84580924e-02,  1.46502946e-02, -1.79831668e-02,  3.95565592e-04,\n",
       "       -6.66356168e-03, -4.05661497e-02,  2.95768297e-02,  7.63609017e-02,\n",
       "        8.75296898e-02,  1.41781647e-02, -1.60415874e-01, -2.20936233e-01,\n",
       "        2.08546023e-01,  1.41588345e-01, -4.94191370e-02,  1.32619252e-01,\n",
       "        1.99408337e-01,  3.67427914e-02, -1.01265760e-01, -3.56693477e-01,\n",
       "       -7.85510986e-02,  8.54324351e-02, -7.09926474e-02, -6.39335621e-02,\n",
       "        1.37454732e-01,  4.50256061e-01,  4.65622443e-02,  5.70139763e-02,\n",
       "        5.11480100e-02, -1.84734845e-01, -4.20245446e-01,  1.77095461e-02])"
      ]
     },
     "execution_count": 10,
     "metadata": {},
     "output_type": "execute_result"
    }
   ],
   "source": [
    "sensitive_regression.coef_"
   ]
  },
  {
   "cell_type": "code",
   "execution_count": 11,
   "metadata": {},
   "outputs": [
    {
     "data": {
      "text/plain": [
       "(36177, 41)"
      ]
     },
     "execution_count": 11,
     "metadata": {},
     "output_type": "execute_result"
    }
   ],
   "source": [
    "X_train.shape"
   ]
  },
  {
   "cell_type": "code",
   "execution_count": 18,
   "metadata": {},
   "outputs": [],
   "source": [
    "a = X_train[:, 40]"
   ]
  },
  {
   "cell_type": "code",
   "execution_count": 19,
   "metadata": {},
   "outputs": [
    {
     "data": {
      "text/plain": [
       "array([1., 0., 0., ..., 0., 1., 0.])"
      ]
     },
     "execution_count": 19,
     "metadata": {},
     "output_type": "execute_result"
    }
   ],
   "source": [
    "a"
   ]
  },
  {
   "cell_type": "code",
   "execution_count": 20,
   "metadata": {},
   "outputs": [
    {
     "data": {
      "text/plain": [
       "array([0., 0., 0., ..., 0., 1., 1.])"
      ]
     },
     "execution_count": 20,
     "metadata": {},
     "output_type": "execute_result"
    }
   ],
   "source": [
    "y_gender_train"
   ]
  },
  {
   "cell_type": "code",
   "execution_count": 21,
   "metadata": {},
   "outputs": [
    {
     "data": {
      "text/plain": [
       "               instance weights  features                             \\\n",
       "                                                                       \n",
       "                                      age education-num capital-gain   \n",
       "instance names                                                         \n",
       "42106                       1.0  1.022853     -0.045359    -0.147413   \n",
       "31714                       1.0  0.340579      1.125916    -0.147413   \n",
       "10772                       1.0  0.340579      1.125916    -0.147413   \n",
       "15825                       1.0 -0.493312     -0.826209    -0.147413   \n",
       "40653                       1.0 -0.493312     -0.826209    -0.147413   \n",
       "...                         ...       ...           ...          ...   \n",
       "37008                       1.0 -0.644929     -0.045359    -0.147413   \n",
       "43443                       1.0 -0.948162     -0.826209    -0.147413   \n",
       "20022                       1.0 -1.327203     -0.045359    -0.147413   \n",
       "43753                       1.0  0.947045      1.516340    -0.147413   \n",
       "28323                       1.0  1.098661     -1.997483    -0.147413   \n",
       "\n",
       "                                                                   \\\n",
       "                                                                    \n",
       "               capital-loss hours-per-week workclass_ Federal-gov   \n",
       "instance names                                                      \n",
       "42106             -0.219069       0.678128                    0.0   \n",
       "31714             -0.219069      -0.494488                    0.0   \n",
       "10772             -0.219069       1.599468                    0.0   \n",
       "15825             -0.219069      -0.075697                    0.0   \n",
       "40653             -0.219069      -0.075697                    0.0   \n",
       "...                     ...            ...                    ...   \n",
       "37008             -0.219069      -0.075697                    1.0   \n",
       "43443             -0.219069      -0.075697                    0.0   \n",
       "20022             -0.219069      -1.750862                    0.0   \n",
       "43753             -0.219069      -0.075697                    0.0   \n",
       "28323             -0.219069      -0.075697                    0.0   \n",
       "\n",
       "                                                        \\\n",
       "                                                         \n",
       "               workclass_ Local-gov workclass_ Private   \n",
       "instance names                                           \n",
       "42106                           0.0                1.0   \n",
       "31714                           0.0                1.0   \n",
       "10772                           0.0                0.0   \n",
       "15825                           0.0                1.0   \n",
       "40653                           0.0                1.0   \n",
       "...                             ...                ...   \n",
       "37008                           0.0                0.0   \n",
       "43443                           0.0                1.0   \n",
       "20022                           0.0                1.0   \n",
       "43753                           1.0                0.0   \n",
       "28323                           0.0                1.0   \n",
       "\n",
       "                                        ...                               \\\n",
       "                                        ...                                \n",
       "               workclass_ Self-emp-inc  ... occupation_ Transport-moving   \n",
       "instance names                          ...                                \n",
       "42106                              0.0  ...                          0.0   \n",
       "31714                              0.0  ...                          0.0   \n",
       "10772                              0.0  ...                          0.0   \n",
       "15825                              0.0  ...                          0.0   \n",
       "40653                              0.0  ...                          0.0   \n",
       "...                                ...  ...                          ...   \n",
       "37008                              0.0  ...                          0.0   \n",
       "43443                              0.0  ...                          1.0   \n",
       "20022                              0.0  ...                          0.0   \n",
       "43753                              0.0  ...                          0.0   \n",
       "28323                              0.0  ...                          0.0   \n",
       "\n",
       "                                                                  \\\n",
       "                                                                   \n",
       "               relationship_ Husband relationship_ Not-in-family   \n",
       "instance names                                                     \n",
       "42106                            0.0                         1.0   \n",
       "31714                            0.0                         0.0   \n",
       "10772                            0.0                         0.0   \n",
       "15825                            1.0                         0.0   \n",
       "40653                            0.0                         0.0   \n",
       "...                              ...                         ...   \n",
       "37008                            0.0                         0.0   \n",
       "43443                            0.0                         0.0   \n",
       "20022                            0.0                         0.0   \n",
       "43753                            1.0                         0.0   \n",
       "28323                            0.0                         1.0   \n",
       "\n",
       "                                                                     \\\n",
       "                                                                      \n",
       "               relationship_ Other-relative relationship_ Own-child   \n",
       "instance names                                                        \n",
       "42106                                   0.0                     0.0   \n",
       "31714                                   0.0                     0.0   \n",
       "10772                                   0.0                     0.0   \n",
       "15825                                   0.0                     0.0   \n",
       "40653                                   0.0                     0.0   \n",
       "...                                     ...                     ...   \n",
       "37008                                   0.0                     0.0   \n",
       "43443                                   0.0                     0.0   \n",
       "20022                                   0.0                     1.0   \n",
       "43753                                   0.0                     0.0   \n",
       "28323                                   0.0                     0.0   \n",
       "\n",
       "                                                                               \\\n",
       "                                                          protected attribute   \n",
       "               relationship_ Unmarried relationship_ Wife           sex_ Male   \n",
       "instance names                                                                  \n",
       "42106                              0.0                0.0                 0.0   \n",
       "31714                              1.0                0.0                 0.0   \n",
       "10772                              0.0                1.0                 0.0   \n",
       "15825                              0.0                0.0                 1.0   \n",
       "40653                              0.0                1.0                 0.0   \n",
       "...                                ...                ...                 ...   \n",
       "37008                              1.0                0.0                 0.0   \n",
       "43443                              1.0                0.0                 1.0   \n",
       "20022                              0.0                0.0                 0.0   \n",
       "43753                              0.0                0.0                 1.0   \n",
       "28323                              0.0                0.0                 1.0   \n",
       "\n",
       "                           labels  \n",
       "                                   \n",
       "               race_ White         \n",
       "instance names                     \n",
       "42106                  1.0    0.0  \n",
       "31714                  0.0    1.0  \n",
       "10772                  0.0    0.0  \n",
       "15825                  1.0    0.0  \n",
       "40653                  1.0    0.0  \n",
       "...                    ...    ...  \n",
       "37008                  0.0    0.0  \n",
       "43443                  1.0    0.0  \n",
       "20022                  0.0    0.0  \n",
       "43753                  1.0    1.0  \n",
       "28323                  0.0    0.0  \n",
       "\n",
       "[36177 rows x 43 columns]"
      ]
     },
     "execution_count": 21,
     "metadata": {},
     "output_type": "execute_result"
    }
   ],
   "source": [
    "dataset_orig_train"
   ]
  },
  {
   "cell_type": "code",
   "execution_count": 29,
   "metadata": {},
   "outputs": [],
   "source": [
    "x_unprotected_train, x_protected_train = dataset_orig_train.features[:, :39], dataset_orig_train.features[:, 39:]\n",
    "x_unprotected_test, x_protected_test = dataset_orig_test.features[:, :39], dataset_orig_test.features[:, 39:]"
   ]
  },
  {
   "cell_type": "code",
   "execution_count": 35,
   "metadata": {},
   "outputs": [],
   "source": [
    "protected_regression = linear_model.LinearRegression(fit_intercept = False)\n",
    "protected_regression.fit(x_unprotected_train, x_protected_train)\n",
    "sensetive_directions = protected_regression.coef_"
   ]
  },
  {
   "cell_type": "code",
   "execution_count": null,
   "metadata": {},
   "outputs": [],
   "source": []
  }
 ],
 "metadata": {
  "kernelspec": {
   "display_name": "Python 3",
   "language": "python",
   "name": "python3"
  },
  "language_info": {
   "codemirror_mode": {
    "name": "ipython",
    "version": 3
   },
   "file_extension": ".py",
   "mimetype": "text/x-python",
   "name": "python",
   "nbconvert_exporter": "python",
   "pygments_lexer": "ipython3",
   "version": "3.7.4"
  }
 },
 "nbformat": 4,
 "nbformat_minor": 2
}
