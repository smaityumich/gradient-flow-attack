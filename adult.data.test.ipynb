{
 "cells": [
  {
   "cell_type": "code",
   "execution_count": 1,
   "metadata": {},
   "outputs": [
    {
     "output_type": "stream",
     "name": "stdout",
     "text": "Done step 200\n\nDone step 400\n\nDone step 600\n\nDone step 800\n\nDone step 1000\n\n"
    }
   ],
   "source": [
    "import numpy as np\n",
    "import tensorflow as tf\n",
    "from adult_modified import preprocess_adult_data\n",
    "from sklearn import linear_model\n",
    "import classifier as cl\n",
    "import utils\n",
    "import time\n",
    "import multiprocessing as mp\n",
    "import dill\n",
    "\n",
    "\n",
    "seed = 1\n",
    "dataset_orig_train, dataset_orig_test = preprocess_adult_data(seed = seed)\n",
    "\n",
    "x_unprotected_train, x_protected_train = dataset_orig_train.features[:, :39], dataset_orig_train.features[:, 39:]\n",
    "x_unprotected_test, x_protected_test = dataset_orig_test.features[:, :39], dataset_orig_test.features[:, 39:]\n",
    "y_train, y_test = dataset_orig_train.labels.reshape((-1,)), dataset_orig_test.labels.reshape((-1,))\n",
    "\n",
    "\n",
    "\n",
    "\n",
    "\n",
    "## Running linear regression to get sensetive directions \n",
    "\n",
    "protected_regression = linear_model.LinearRegression(fit_intercept = False)\n",
    "protected_regression.fit(x_unprotected_train, x_protected_train)\n",
    "sensetive_directions = protected_regression.coef_\n",
    "\n",
    "def projection_matrix(sensetive_directions):\n",
    "    n, d = sensetive_directions.shape\n",
    "    mx = np.identity(d)\n",
    "    for vector in sensetive_directions:\n",
    "        vector = vector/np.linalg.norm(vector, ord=2)\n",
    "        vector = vector.reshape((-1,1))\n",
    "        mx = mx - 0.99* vector @ vector.T\n",
    "    return mx\n",
    "\n",
    "\n",
    "\n",
    "\n",
    "unprotected_directions = projection_matrix(sensetive_directions)\n",
    "\n",
    "\n",
    "\n",
    "# Casing to tensor \n",
    "y_train, y_test = y_train.astype('int32'), y_test.astype('int32')\n",
    "x_unprotected_train, x_unprotected_test = tf.cast(x_unprotected_train, dtype = tf.float32), tf.cast(x_unprotected_test, dtype = tf.float32)\n",
    "y_train, y_test = tf.one_hot(y_train, 2), tf.one_hot(y_test, 2)\n",
    "unprotected_directions = tf.cast(unprotected_directions, dtype = tf.float32)\n",
    "inv_unprotected_direction = tf.linalg.inv(unprotected_directions)\n",
    "\n",
    "init_graph = utils.ClassifierGraph(50, 2)\n",
    "#graph = cl.Classifier(init_graph, x_unprotected_train, y_train, x_unprotected_test, y_test, num_steps = 1000) # use for unfair algo\n",
    "graph = cl.Classifier(init_graph, tf.matmul(x_unprotected_train, unprotected_directions), \n",
    "                        y_train, tf.matmul(x_unprotected_test, unprotected_directions), y_test, num_steps = 1000) # for fair algo\n",
    "\n"
   ]
  },
  {
   "cell_type": "code",
   "execution_count": 2,
   "metadata": {},
   "outputs": [],
   "source": [
    "def sample_perturbation(data_point, learning_rate = 1e-3, num_steps = 20):\n",
    "    x, y = data_point\n",
    "    x = tf.reshape(x, (1, -1))\n",
    "    y = tf.reshape(y, (1, -1))\n",
    "    for _ in range(num_steps):\n",
    "        with tf.GradientTape() as g:\n",
    "            g.watch(x)\n",
    "            prob = graph(x)\n",
    "            loss = utils.EntropyLoss(y, prob)\n",
    "\n",
    "        gradient = g.gradient(loss, x)\n",
    "        x = x + learning_rate * tf.matmul(gradient, inv_unprotected_direction) #/ tf.linalg.norm(gradient, ord = np.inf)\n",
    "    return x.numpy()\n"
   ]
  },
  {
   "cell_type": "code",
   "execution_count": 3,
   "metadata": {},
   "outputs": [
    {
     "output_type": "execute_result",
     "data": {
      "text/plain": "array([[-1.1753671e+00, -1.6067826e+00, -1.4705397e-01, -2.1894576e-01,\n         1.5996068e+00,  9.3263538e-05, -2.2186493e-04,  9.9947041e-01,\n        -4.8863363e-05, -3.3794309e-04, -2.0201206e-04, -1.7743303e-04,\n        -5.9206248e-04, -2.8444476e-05, -1.0421117e-04, -2.1349395e-06,\n         9.9932384e-01, -4.0368436e-04,  8.1799990e-05, -2.8746232e-04,\n        -4.4900592e-04, -3.0661109e-04, -4.9690076e-05, -3.0351541e-04,\n        -1.9107449e-04, -4.2180295e-04,  9.9956208e-01, -2.5411073e-05,\n        -6.1848514e-05, -6.3593514e-05, -1.0655816e-04,  1.7099055e-04,\n        -1.8060386e-04, -1.8011966e-04, -6.4957544e-04, -3.2210827e-04,\n        -4.7512303e-04,  9.9959230e-01,  3.0132543e-04]], dtype=float32)"
     },
     "metadata": {},
     "execution_count": 3
    }
   ],
   "source": [
    "x = x_unprotected_test[0]\n",
    "y = y_test[0]\n",
    "data = x, y\n",
    "sample_perturbation(data)"
   ]
  },
  {
   "cell_type": "code",
   "execution_count": 4,
   "metadata": {},
   "outputs": [],
   "source": [
    "x = tf.reshape(x, (1, -1))\n",
    "y = tf.reshape(y, (1, -1))"
   ]
  },
  {
   "cell_type": "code",
   "execution_count": 5,
   "metadata": {},
   "outputs": [],
   "source": [
    "with tf.GradientTape() as g:\n",
    "    g.watch(x)\n",
    "    prob = graph(x)\n",
    "    loss = utils.EntropyLoss(y, prob)\n",
    "\n",
    "gradient = g.gradient(loss, x)"
   ]
  },
  {
   "cell_type": "code",
   "execution_count": 6,
   "metadata": {},
   "outputs": [],
   "source": [
    "u = tf.linalg.inv(unprotected_directions)"
   ]
  },
  {
   "cell_type": "code",
   "execution_count": 7,
   "metadata": {},
   "outputs": [
    {
     "output_type": "execute_result",
     "data": {
      "text/plain": "<tf.Tensor: shape=(39, 39), dtype=float32, numpy=\narray([[ 9.9996185e-01,  1.1376848e-04,  5.8734498e-05, ...,\n         2.9607913e-03,  2.7763366e-05, -2.2696673e-03],\n       [ 1.1376851e-04,  9.9987900e-01, -3.1136515e-05, ...,\n        -4.3144813e-03, -1.4073697e-03, -1.4989179e-03],\n       [ 5.8734506e-05, -3.1136544e-05,  1.0000046e+00, ...,\n        -1.5802447e-03, -9.1745204e-04, -1.9624338e-03],\n       ...,\n       [ 2.9607913e-03, -4.3144813e-03, -1.5802443e-03, ...,\n         8.6362684e-01, -2.9521117e-02,  5.2355272e-03],\n       [ 2.7763735e-05, -1.4073701e-03, -9.1745215e-04, ...,\n        -2.9521113e-02,  1.0080533e+00,  5.1919676e-02],\n       [-2.2696671e-03, -1.4989178e-03, -1.9624340e-03, ...,\n         5.2355272e-03,  5.1919688e-02,  1.1783721e+00]], dtype=float32)>"
     },
     "metadata": {},
     "execution_count": 7
    }
   ],
   "source": [
    "u"
   ]
  },
  {
   "cell_type": "code",
   "execution_count": 8,
   "metadata": {},
   "outputs": [
    {
     "output_type": "execute_result",
     "data": {
      "text/plain": "<tf.Tensor: shape=(1, 39), dtype=float32, numpy=\narray([[ 0.01043551,  0.05923065,  0.07095308,  0.03998211,  0.05019232,\n        -0.0172134 , -0.01468189, -0.0669503 , -0.02355065, -0.04954261,\n        -0.02172976, -0.01249817, -0.08480156,  0.05365053, -0.00941733,\n        -0.00760272, -0.04413841, -0.02914601,  0.01829208, -0.01286143,\n        -0.01241331, -0.03239373,  0.03819576, -0.02832818, -0.05086481,\n        -0.09576268, -0.06183094,  0.07220908,  0.01977082,  0.02160866,\n         0.00141751,  0.00646481, -0.02405381, -0.1152992 , -0.03177928,\n        -0.07902008, -0.07768835, -0.08926576,  0.07077864]],\n      dtype=float32)>"
     },
     "metadata": {},
     "execution_count": 8
    }
   ],
   "source": [
    "tf.matmul(gradient, u)"
   ]
  },
  {
   "cell_type": "code",
   "execution_count": 9,
   "metadata": {},
   "outputs": [
    {
     "output_type": "execute_result",
     "data": {
      "text/plain": "<tf.Tensor: shape=(1, 39), dtype=float32, numpy=\narray([[-1.1755865 , -1.6070586 , -0.14741328, -0.219069  ,  1.5994685 ,\n         0.        ,  0.        ,  1.        ,  0.        ,  0.        ,\n         0.        ,  0.        ,  0.        ,  0.        ,  0.        ,\n         0.        ,  1.        ,  0.        ,  0.        ,  0.        ,\n         0.        ,  0.        ,  0.        ,  0.        ,  0.        ,\n         0.        ,  1.        ,  0.        ,  0.        ,  0.        ,\n         0.        ,  0.        ,  0.        ,  0.        ,  0.        ,\n         0.        ,  0.        ,  1.        ,  0.        ]],\n      dtype=float32)>"
     },
     "metadata": {},
     "execution_count": 9
    }
   ],
   "source": [
    "x"
   ]
  },
  {
   "cell_type": "code",
   "execution_count": null,
   "metadata": {},
   "outputs": [],
   "source": []
  }
 ],
 "metadata": {
  "kernelspec": {
   "display_name": "Python 3.7.4 64-bit",
   "language": "python",
   "name": "python37464bit48aa32fa6dba4f1bbd692e320b15fd93"
  },
  "language_info": {
   "codemirror_mode": {
    "name": "ipython",
    "version": 3
   },
   "file_extension": ".py",
   "mimetype": "text/x-python",
   "name": "python",
   "nbconvert_exporter": "python",
   "pygments_lexer": "ipython3",
   "version": "3.7.4-final"
  }
 },
 "nbformat": 4,
 "nbformat_minor": 2
}