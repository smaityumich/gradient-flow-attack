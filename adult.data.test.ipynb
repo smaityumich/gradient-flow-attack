{
 "cells": [
  {
   "cell_type": "code",
   "execution_count": 1,
   "metadata": {},
   "outputs": [
    {
     "output_type": "stream",
     "name": "stdout",
     "text": "Done step 200\n\nDone step 400\n\nDone step 600\n\nDone step 800\n\nDone step 1000\n\n"
    }
   ],
   "source": [
    "import numpy as np\n",
    "import tensorflow as tf\n",
    "from adult_modified import preprocess_adult_data\n",
    "from sklearn import linear_model\n",
    "import classifier as cl\n",
    "import utils\n",
    "import time\n",
    "import multiprocessing as mp\n",
    "import dill\n",
    "\n",
    "\n",
    "seed = 1\n",
    "dataset_orig_train, dataset_orig_test = preprocess_adult_data(seed = seed)\n",
    "\n",
    "x_unprotected_train, x_protected_train = dataset_orig_train.features[:, :39], dataset_orig_train.features[:, 39:]\n",
    "x_unprotected_test, x_protected_test = dataset_orig_test.features[:, :39], dataset_orig_test.features[:, 39:]\n",
    "y_train, y_test = dataset_orig_train.labels.reshape((-1,)), dataset_orig_test.labels.reshape((-1,))\n",
    "\n",
    "\n",
    "\n",
    "\n",
    "\n",
    "## Running linear regression to get sensetive directions \n",
    "\n",
    "protected_regression = linear_model.LinearRegression(fit_intercept = False)\n",
    "protected_regression.fit(x_unprotected_train, x_protected_train)\n",
    "sensetive_directions = protected_regression.coef_\n",
    "\n",
    "def projection_matrix(sensetive_directions):\n",
    "    n, d = sensetive_directions.shape\n",
    "    mx = np.identity(d)\n",
    "    for vector in sensetive_directions:\n",
    "        vector = vector/np.linalg.norm(vector, ord=2)\n",
    "        vector = vector.reshape((-1,1))\n",
    "        mx = mx - 0.99* vector @ vector.T\n",
    "    return mx\n",
    "\n",
    "\n",
    "\n",
    "\n",
    "unprotected_directions = projection_matrix(sensetive_directions)\n",
    "\n",
    "\n",
    "\n",
    "# Casing to tensor \n",
    "y_train, y_test = y_train.astype('int32'), y_test.astype('int32')\n",
    "x_unprotected_train, x_unprotected_test = tf.cast(x_unprotected_train, dtype = tf.float32), tf.cast(x_unprotected_test, dtype = tf.float32)\n",
    "y_train, y_test = tf.one_hot(y_train, 2), tf.one_hot(y_test, 2)\n",
    "unprotected_directions = tf.cast(unprotected_directions, dtype = tf.float32)\n",
    "\n",
    "init_graph = utils.ClassifierGraph(50, 2)\n",
    "#graph = cl.Classifier(init_graph, x_unprotected_train, y_train, x_unprotected_test, y_test, num_steps = 1000) # use for unfair algo\n",
    "graph = cl.Classifier(init_graph, tf.matmul(x_unprotected_train, unprotected_directions), \n",
    "                        y_train, tf.matmul(x_unprotected_test, unprotected_directions), y_test, num_steps = 1000) # for fair algo\n",
    "\n"
   ]
  },
  {
   "cell_type": "code",
   "execution_count": 2,
   "metadata": {},
   "outputs": [],
   "source": [
    "def sample_perturbation(data_point, regularizer = 1e-2, learning_rate = 1e-4, num_steps = 20):\n",
    "    x, y = data_point\n",
    "    x = tf.reshape(x, (1, -1))\n",
    "    x = np.matmul(x, unprotected_directions) # Remove if not trying to make algo fair\n",
    "    y = tf.reshape(y, (1, -1))\n",
    "    x_start = x\n",
    "    for _ in range(num_steps):\n",
    "        with tf.GradientTape() as g:\n",
    "            g.watch(x)\n",
    "            purturb = tf.linalg.matmul(x - x_start, unprotected_directions)\n",
    "            prob = graph(x)\n",
    "            loss = utils.EntropyLoss(y, prob) - regularizer * tf.reduce_sum(purturb**2)\n",
    "\n",
    "        gradient = g.gradient(loss, x)\n",
    "        x = x + learning_rate * gradient / tf.linalg.norm(gradient, ord = 2)\n",
    "    return x.numpy()\n",
    "\n",
    "def perturbed_loss(x, y, regularizer = 1e-2, learning_rate = 1e-4, num_steps = 20):\n",
    "    x_perturbed = sample_perturbation(x, y, regularizer, learning_rate, num_steps)\n",
    "    return utils.EntropyLoss(y, graph(x_perturbed))\n",
    "\n",
    "cpus = mp.cpu_count()\n",
    "start_time = time.time()\n",
    "with mp.Pool(cpus) as pool:\n",
    "    perturbed_test_samples = pool.map(sample_perturbation, zip(tf.matmul(x_unprotected_test[:5], unprotected_directions), y_test[:5]))\n",
    "end_time = time.time()\n",
    "perturbed_test_samples = np.array(perturbed_test_samples)\n"
   ]
  },
  {
   "cell_type": "code",
   "execution_count": null,
   "metadata": {},
   "outputs": [],
   "source": []
  }
 ],
 "metadata": {
  "kernelspec": {
   "display_name": "Python 3.7.4 64-bit ('base': conda)",
   "language": "python",
   "name": "python37464bitbaseconda3617b5da3475453d8a6e23ecb52993b7"
  },
  "language_info": {
   "codemirror_mode": {
    "name": "ipython",
    "version": 3
   },
   "file_extension": ".py",
   "mimetype": "text/x-python",
   "name": "python",
   "nbconvert_exporter": "python",
   "pygments_lexer": "ipython3",
   "version": "3.7.4-final"
  }
 },
 "nbformat": 4,
 "nbformat_minor": 2
}