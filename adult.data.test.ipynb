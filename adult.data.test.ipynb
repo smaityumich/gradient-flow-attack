{
 "cells": [
  {
   "cell_type": "code",
   "execution_count": 1,
   "metadata": {},
   "outputs": [],
   "source": [
    "import numpy as np\n",
    "import tensorflow as tf\n",
    "from adult_modified import preprocess_adult_data\n",
    "from sklearn import linear_model\n",
    "import utils\n",
    "import classifier as cl"
   ]
  },
  {
   "cell_type": "code",
   "execution_count": 2,
   "metadata": {},
   "outputs": [],
   "source": [
    "seed = 1\n",
    "dataset_orig_train, dataset_orig_test = preprocess_adult_data(seed = seed)"
   ]
  },
  {
   "cell_type": "code",
   "execution_count": 3,
   "metadata": {},
   "outputs": [],
   "source": [
    "x_unprotected_train, x_protected_train = dataset_orig_train.features[:, :39], dataset_orig_train.features[:, 39:]\n",
    "x_unprotected_test, x_protected_test = dataset_orig_test.features[:, :39], dataset_orig_test.features[:, 39:]\n",
    "y_train, y_test = dataset_orig_train.labels.reshape((-1,)), dataset_orig_test.labels.reshape((-1,))\n",
    "y_train, y_test = np.array(y_train, dtype= 'int32'), np.array(y_test, dtype='int32')\n",
    "\n",
    "protected_regression = linear_model.LinearRegression(fit_intercept = False)\n",
    "protected_regression.fit(x_unprotected_train, x_protected_train)\n",
    "sensetive_directions = protected_regression.coef_\n",
    "\n",
    "def projection_matrix(sensetive_directions):\n",
    "    n, d = sensetive_directions.shape\n",
    "    mx = np.identity(d)\n",
    "    for vector in sensetive_directions:\n",
    "        vector = vector/np.linalg.norm(vector, ord=2)\n",
    "        vector = vector.reshape((-1,1))\n",
    "        mx = mx - 0.99* vector @ vector.T\n",
    "    return mx\n",
    "\n",
    "unprotected_directions = projection_matrix(sensetive_directions)\n"
   ]
  },
  {
   "cell_type": "code",
   "execution_count": 4,
   "metadata": {},
   "outputs": [],
   "source": [
    "x_unprotected_train, x_unprotected_test = tf.cast(x_unprotected_train, dtype = tf.float32), tf.cast(x_unprotected_test, dtype = tf.float32)\n",
    "y_train, y_test = tf.one_hot(y_train, 2), tf.one_hot(y_test, 2)\n",
    "unprotected_directions = tf.cast(unprotected_directions, dtype = tf.float32)\n"
   ]
  },
  {
   "cell_type": "code",
   "execution_count": 5,
   "metadata": {},
   "outputs": [
    {
     "output_type": "stream",
     "name": "stdout",
     "text": "Done step 200\n\nDone step 400\n\nDone step 600\n\nDone step 800\n\nDone step 1000\n\n"
    }
   ],
   "source": [
    "graph = utils.ClassifierGraph(50, 2)\n",
    "graph = cl.Classifier(graph, x_unprotected_train, y_train, x_unprotected_test, y_test, num_steps=1000)\n",
    "\n",
    "unprotected_directions = tf.cast(unprotected_directions, dtype = tf.float32)"
   ]
  },
  {
   "cell_type": "code",
   "execution_count": 7,
   "metadata": {},
   "outputs": [
    {
     "output_type": "execute_result",
     "data": {
      "image/png": "[encoded data removed]",
      "text/plain": "<IPython.core.display.Image object>"
     },
     "metadata": {},
     "execution_count": 7
    }
   ],
   "source": [
    "input = tf.keras.Input(shape=(39,), dtype='float32', name='input')\n",
    "output = graph.call(input)\n",
    "model = tf.keras.Model(inputs=input, outputs=output)\n",
    "tf.keras.utils.plot_model(model, show_shapes=True)"
   ]
  },
  {
   "cell_type": "code",
   "execution_count": 8,
   "metadata": {},
   "outputs": [
    {
     "output_type": "stream",
     "name": "stdout",
     "text": "[[ 9.99928687e-01  5.15363856e-05  3.47176646e-06 ...  2.20238180e-03\n   1.03024868e-03  1.86161822e-03]\n [ 5.15363856e-05  9.99914640e-01 -3.42820389e-05 ... -2.58575815e-03\n  -4.51321975e-04  4.80510264e-04]\n [ 3.47176646e-06 -3.42820389e-05  9.99978850e-01 ... -7.63695793e-04\n   1.43468950e-04  1.11507031e-03]\n ...\n [ 2.20238180e-03 -2.58575815e-03 -7.63695793e-04 ...  9.11442685e-01\n  -2.57592549e-02 -1.97681295e-02]\n [ 1.03024868e-03 -4.51321975e-04  1.43468950e-04 ... -2.57592549e-02\n   9.83329245e-01 -3.80214060e-02]\n [ 1.86161822e-03  4.80510264e-04  1.11507031e-03 ... -1.97681295e-02\n  -3.80214060e-02  8.82116015e-01]]\nDone step 200\n\nDone step 400\n\nDone step 600\n\nDone step 800\n\nDone step 1000\n\n"
    }
   ],
   "source": [
    "from adversarial_sample import *"
   ]
  },
  {
   "cell_type": "code",
   "execution_count": null,
   "metadata": {},
   "outputs": [],
   "source": []
  }
 ],
 "metadata": {
  "kernelspec": {
   "display_name": "Python 3.7.4 64-bit ('base': conda)",
   "language": "python",
   "name": "python37464bitbaseconda3617b5da3475453d8a6e23ecb52993b7"
  },
  "language_info": {
   "codemirror_mode": {
    "name": "ipython",
    "version": 3
   },
   "file_extension": ".py",
   "mimetype": "text/x-python",
   "name": "python",
   "nbconvert_exporter": "python",
   "pygments_lexer": "ipython3",
   "version": "3.7.4-final"
  }
 },
 "nbformat": 4,
 "nbformat_minor": 2
}